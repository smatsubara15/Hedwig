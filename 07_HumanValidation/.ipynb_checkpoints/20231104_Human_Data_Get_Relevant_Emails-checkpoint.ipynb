{
 "cells": [
  {
   "cell_type": "code",
   "execution_count": 2,
   "metadata": {},
   "outputs": [],
   "source": [
    "import pandas as pd\n",
    "import ast"
   ]
  },
  {
   "cell_type": "code",
   "execution_count": 3,
   "metadata": {},
   "outputs": [],
   "source": [
    "emails = pd.read_csv('20231104_human_validation_dataset.csv')"
   ]
  },
  {
   "cell_type": "code",
   "execution_count": 4,
   "metadata": {},
   "outputs": [
    {
     "data": {
      "text/plain": [
       "44"
      ]
     },
     "execution_count": 4,
     "metadata": {},
     "output_type": "execute_result"
    }
   ],
   "source": [
    "len(emails)"
   ]
  },
  {
   "cell_type": "code",
   "execution_count": 5,
   "metadata": {},
   "outputs": [
    {
     "data": {
      "text/plain": [
       "Index(['subject', 'sender', 'message', 'replier', 'reply_message'], dtype='object')"
      ]
     },
     "execution_count": 5,
     "metadata": {},
     "output_type": "execute_result"
    }
   ],
   "source": [
    "emails.columns"
   ]
  },
  {
   "cell_type": "code",
   "execution_count": 10,
   "metadata": {},
   "outputs": [],
   "source": [
    "emails = emails.dropna()"
   ]
  },
  {
   "cell_type": "code",
   "execution_count": 25,
   "metadata": {},
   "outputs": [
    {
     "data": {
      "text/html": [
       "<div>\n",
       "<style scoped>\n",
       "    .dataframe tbody tr th:only-of-type {\n",
       "        vertical-align: middle;\n",
       "    }\n",
       "\n",
       "    .dataframe tbody tr th {\n",
       "        vertical-align: top;\n",
       "    }\n",
       "\n",
       "    .dataframe thead th {\n",
       "        text-align: right;\n",
       "    }\n",
       "</style>\n",
       "<table border=\"1\" class=\"dataframe\">\n",
       "  <thead>\n",
       "    <tr style=\"text-align: right;\">\n",
       "      <th></th>\n",
       "      <th>subject</th>\n",
       "      <th>sender</th>\n",
       "      <th>message</th>\n",
       "      <th>replier</th>\n",
       "      <th>reply_message</th>\n",
       "      <th>Email_ID</th>\n",
       "      <th>Sender_Receiver_Emails</th>\n",
       "      <th>Sender_Emails_All</th>\n",
       "    </tr>\n",
       "  </thead>\n",
       "  <tbody>\n",
       "    <tr>\n",
       "      <th>0</th>\n",
       "      <td>Basketball Game</td>\n",
       "      <td>Scott</td>\n",
       "      <td>Yoo do you wanna go watch the bball game tomor...</td>\n",
       "      <td>Radhika</td>\n",
       "      <td>Hey Scott,\\n\\nI appreciate the invite a lot. B...</td>\n",
       "      <td>1</td>\n",
       "      <td>[Hey Scott,\\n\\nAs you already know, I am a veg...</td>\n",
       "      <td>[Hey Scott,\\n\\nAs you already know, I am a veg...</td>\n",
       "    </tr>\n",
       "    <tr>\n",
       "      <th>1</th>\n",
       "      <td>Basketball Game</td>\n",
       "      <td>Scott</td>\n",
       "      <td>Bro itll be fun trust me. I wanna watch sports...</td>\n",
       "      <td>Radhika</td>\n",
       "      <td>Hey Scott,\\n\\nAs you already know, I am a vege...</td>\n",
       "      <td>2</td>\n",
       "      <td>[Hey Scott,\\n\\nI appreciate the invite a lot. ...</td>\n",
       "      <td>[Hey Scott,\\n\\nI appreciate the invite a lot. ...</td>\n",
       "    </tr>\n",
       "    <tr>\n",
       "      <th>2</th>\n",
       "      <td>Basketball Game</td>\n",
       "      <td>Scott</td>\n",
       "      <td>ah but meat is so delish. no worries though. T...</td>\n",
       "      <td>Radhika</td>\n",
       "      <td>Hello Scott,\\n\\nI should be free to go at 9pm ...</td>\n",
       "      <td>3</td>\n",
       "      <td>[Hey Scott,\\n\\nI appreciate the invite a lot. ...</td>\n",
       "      <td>[Hey Scott,\\n\\nI appreciate the invite a lot. ...</td>\n",
       "    </tr>\n",
       "    <tr>\n",
       "      <th>3</th>\n",
       "      <td>Basketball Game</td>\n",
       "      <td>Scott</td>\n",
       "      <td>Ill teach u about basketball dont worry, ill g...</td>\n",
       "      <td>Radhika</td>\n",
       "      <td>Scott,\\n\\nThat sounds great! You do owe me a d...</td>\n",
       "      <td>4</td>\n",
       "      <td>[Hey Scott,\\n\\nI appreciate the invite a lot. ...</td>\n",
       "      <td>[Hey Scott,\\n\\nI appreciate the invite a lot. ...</td>\n",
       "    </tr>\n",
       "    <tr>\n",
       "      <th>4</th>\n",
       "      <td>Basketball Game</td>\n",
       "      <td>Scott</td>\n",
       "      <td>I like baseball too. Can you do sports betting...</td>\n",
       "      <td>Radhika</td>\n",
       "      <td>Hey Scott,\\n\\nI don't think so - badminton is ...</td>\n",
       "      <td>5</td>\n",
       "      <td>[Hey Scott,\\n\\nI appreciate the invite a lot. ...</td>\n",
       "      <td>[Hey Scott,\\n\\nI appreciate the invite a lot. ...</td>\n",
       "    </tr>\n",
       "  </tbody>\n",
       "</table>\n",
       "</div>"
      ],
      "text/plain": [
       "           subject sender                                            message  \\\n",
       "0  Basketball Game  Scott  Yoo do you wanna go watch the bball game tomor...   \n",
       "1  Basketball Game  Scott  Bro itll be fun trust me. I wanna watch sports...   \n",
       "2  Basketball Game  Scott  ah but meat is so delish. no worries though. T...   \n",
       "3  Basketball Game  Scott  Ill teach u about basketball dont worry, ill g...   \n",
       "4  Basketball Game  Scott  I like baseball too. Can you do sports betting...   \n",
       "\n",
       "   replier                                      reply_message  Email_ID  \\\n",
       "0  Radhika  Hey Scott,\\n\\nI appreciate the invite a lot. B...         1   \n",
       "1  Radhika  Hey Scott,\\n\\nAs you already know, I am a vege...         2   \n",
       "2  Radhika  Hello Scott,\\n\\nI should be free to go at 9pm ...         3   \n",
       "3  Radhika  Scott,\\n\\nThat sounds great! You do owe me a d...         4   \n",
       "4  Radhika  Hey Scott,\\n\\nI don't think so - badminton is ...         5   \n",
       "\n",
       "                              Sender_Receiver_Emails  \\\n",
       "0  [Hey Scott,\\n\\nAs you already know, I am a veg...   \n",
       "1  [Hey Scott,\\n\\nI appreciate the invite a lot. ...   \n",
       "2  [Hey Scott,\\n\\nI appreciate the invite a lot. ...   \n",
       "3  [Hey Scott,\\n\\nI appreciate the invite a lot. ...   \n",
       "4  [Hey Scott,\\n\\nI appreciate the invite a lot. ...   \n",
       "\n",
       "                                   Sender_Emails_All  \n",
       "0  [Hey Scott,\\n\\nAs you already know, I am a veg...  \n",
       "1  [Hey Scott,\\n\\nI appreciate the invite a lot. ...  \n",
       "2  [Hey Scott,\\n\\nI appreciate the invite a lot. ...  \n",
       "3  [Hey Scott,\\n\\nI appreciate the invite a lot. ...  \n",
       "4  [Hey Scott,\\n\\nI appreciate the invite a lot. ...  "
      ]
     },
     "execution_count": 25,
     "metadata": {},
     "output_type": "execute_result"
    }
   ],
   "source": [
    "emails.head()"
   ]
  },
  {
   "cell_type": "code",
   "execution_count": 11,
   "metadata": {},
   "outputs": [],
   "source": [
    "emails['Email_ID'] = range(1, len(emails) + 1)"
   ]
  },
  {
   "cell_type": "code",
   "execution_count": 14,
   "metadata": {},
   "outputs": [],
   "source": [
    "# emails['recipient'] = emails['replier'].apply(ast.literal_eval)"
   ]
  },
  {
   "cell_type": "code",
   "execution_count": 26,
   "metadata": {},
   "outputs": [],
   "source": [
    "def get_sender_receiver_emails(row):\n",
    "    sender = row['sender']\n",
    "    recipient = row['replier']\n",
    "    email_id = row['Email_ID']\n",
    "        \n",
    "    recipient_df = emails[emails.replier == recipient]\n",
    "    recipient_df = recipient_df[recipient_df.Email_ID != email_id]\n",
    "    \n",
    "    top_emails = recipient_df[recipient_df['sender']==sender]    \n",
    "    \n",
    "    # if(top_emails.empty):\n",
    "    #     return \"\"\n",
    "    \n",
    "    relevent_emails = list(top_emails['reply_message'])    \n",
    "    \n",
    "    sender_df = emails[emails.replier == sender]\n",
    "    sender_df = sender_df[sender_df.Email_ID != email_id]\n",
    "    \n",
    "    top_emails_2 = sender_df[sender_df['sender']==recipient]    \n",
    "    \n",
    "    # if(top_emails.empty):\n",
    "    #     return \"\"\n",
    "    \n",
    "    relevent_emails = relevent_emails + list(top_emails_2['message'])\n",
    "    relevent_emails = [str(item) for item in relevent_emails]\n",
    "#     print(len(relevent_emails))\n",
    "#     print('\\n')\n",
    "#     combined_string = \" \".join(relevent_emails)\n",
    "#     return combined_string\n",
    "    return relevent_emails\n",
    "\n",
    "def get_sender_emails(row):\n",
    "    sender = row['replier']\n",
    "    email_id = row['Email_ID']\n",
    "        \n",
    "    sender_df = emails[emails.replier == sender]\n",
    "    sender_df = sender_df[sender_df.Email_ID != email_id]\n",
    "    \n",
    "    other_df = emails[emails.sender == sender]\n",
    "    other_df = other_df[other_df.Email_ID != email_id]\n",
    "\n",
    "    if(sender_df.empty):\n",
    "        return \"\"\n",
    "    \n",
    "    relevent_emails = list(sender_df['reply_message'])\n",
    "    \n",
    "    relevent_emails = relevent_emails + list(other_df['message'])\n",
    "    \n",
    "    relevent_emails = [str(item) for item in relevent_emails]\n",
    "    \n",
    "#     print(len(relevent_emails))\n",
    "#     print('\\n')\n",
    "    \n",
    "#     combined_string = \" \".join(relevent_emails)\n",
    "    \n",
    "#     return combined_string\n",
    "    return relevent_emails\n",
    "\n",
    "def remove_same_emails(row):\n",
    "    all_emails = row['Sender_Emails_All']\n",
    "    sender_receiver_emails = row['Sender_Receiver_Emails']    \n",
    "    \n",
    "    return [x for x in all_emails if x not in sender_receiver_emails]"
   ]
  },
  {
   "cell_type": "code",
   "execution_count": 27,
   "metadata": {},
   "outputs": [],
   "source": [
    "emails['Sender_Receiver_Emails'] = emails.apply(get_sender_receiver_emails,axis=1)\n",
    "emails['Sender_Emails_All'] = emails.apply(get_sender_emails,axis=1)\n",
    "\n",
    "# emails['Sender_Emails_Filtered'] = emails.apply(remove_same_emails,axis=1)"
   ]
  },
  {
   "cell_type": "code",
   "execution_count": 34,
   "metadata": {},
   "outputs": [
    {
     "data": {
      "text/plain": [
       "6"
      ]
     },
     "execution_count": 34,
     "metadata": {},
     "output_type": "execute_result"
    }
   ],
   "source": [
    "len(list(emails.Sender_Receiver_Emails)[-1])"
   ]
  },
  {
   "cell_type": "code",
   "execution_count": 35,
   "metadata": {},
   "outputs": [],
   "source": [
    "emails.to_csv('human_validation_with_relevent.csv')"
   ]
  },
  {
   "cell_type": "code",
   "execution_count": null,
   "metadata": {},
   "outputs": [],
   "source": [
    "emails_small = emails.drop(columns = ['Sender_Emails_All','Sender_Emails_Filtered'])"
   ]
  },
  {
   "cell_type": "code",
   "execution_count": null,
   "metadata": {},
   "outputs": [],
   "source": [
    "emails_small.to_csv('gs://user-scripts-msca310019-capstone-49b3/data/20231008_Emails_with_Previous_as_List.csv')\n",
    "\n",
    "emails_small.to_csv('gs://user-scripts-msca310019-capstone-49b3/data/20231019_Emails_with_Sender_Reply.csv')\n"
   ]
  },
  {
   "cell_type": "code",
   "execution_count": 20,
   "metadata": {},
   "outputs": [],
   "source": [
    "emails = emails.drop(columns=['Sender_Emails_All'])"
   ]
  },
  {
   "cell_type": "code",
   "execution_count": 21,
   "metadata": {},
   "outputs": [],
   "source": [
    "emails.to_csv('gs://user-scripts-msca310019-capstone-49b3/data/20231008_Emails_with_All_Previous.csv')"
   ]
  },
  {
   "cell_type": "code",
   "execution_count": null,
   "metadata": {},
   "outputs": [],
   "source": [
    "def email_retreival(sender_id,recipients,df):\n",
    "    sender_df = df[df.sender == sender_id]\n",
    "    print(sender_df)\n",
    "            "
   ]
  }
 ],
 "metadata": {
  "environment": {
   "kernel": "python3",
   "name": "tf2-cpu.2-11.m112",
   "type": "gcloud",
   "uri": "gcr.io/deeplearning-platform-release/tf2-cpu.2-11:m112"
  },
  "kernelspec": {
   "display_name": "Python 3",
   "language": "python",
   "name": "python3"
  },
  "language_info": {
   "codemirror_mode": {
    "name": "ipython",
    "version": 3
   },
   "file_extension": ".py",
   "mimetype": "text/x-python",
   "name": "python",
   "nbconvert_exporter": "python",
   "pygments_lexer": "ipython3",
   "version": "3.10.12"
  }
 },
 "nbformat": 4,
 "nbformat_minor": 4
}
