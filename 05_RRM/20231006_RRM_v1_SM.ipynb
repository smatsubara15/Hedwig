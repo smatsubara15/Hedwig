{
 "cells": [
  {
   "cell_type": "code",
   "execution_count": 8,
   "metadata": {},
   "outputs": [],
   "source": [
    "import pandas as pd\n",
    "import ast"
   ]
  },
  {
   "cell_type": "code",
   "execution_count": 9,
   "metadata": {},
   "outputs": [],
   "source": [
    "emails = pd.read_csv('/Users/scottsmacbook/Hedwig/Hedwig/00_Data/message_reply_pairs_cleaned.csv')"
   ]
  },
  {
   "cell_type": "code",
   "execution_count": 10,
   "metadata": {},
   "outputs": [
    {
     "data": {
      "text/plain": [
       "24640"
      ]
     },
     "execution_count": 10,
     "metadata": {},
     "output_type": "execute_result"
    }
   ],
   "source": [
    "len(emails)"
   ]
  },
  {
   "cell_type": "code",
   "execution_count": 11,
   "metadata": {},
   "outputs": [
    {
     "data": {
      "text/plain": [
       "Index(['Unnamed: 0', 'time', 'subject', 'thread', 'sender', 'recipient',\n",
       "       'message', 'reply_time', 'reply_sender', 'reply_recipient',\n",
       "       'reply_message'],\n",
       "      dtype='object')"
      ]
     },
     "execution_count": 11,
     "metadata": {},
     "output_type": "execute_result"
    }
   ],
   "source": [
    "emails.columns"
   ]
  },
  {
   "cell_type": "code",
   "execution_count": 12,
   "metadata": {},
   "outputs": [],
   "source": [
    "emails = emails.rename(columns = {'Unnamed: 0':'Email_ID'})"
   ]
  },
  {
   "cell_type": "code",
   "execution_count": 13,
   "metadata": {},
   "outputs": [],
   "source": [
    "emails['recipient'] = emails['recipient'].apply(ast.literal_eval)"
   ]
  },
  {
   "cell_type": "code",
   "execution_count": 14,
   "metadata": {},
   "outputs": [
    {
     "data": {
      "text/html": [
       "<div>\n",
       "<style scoped>\n",
       "    .dataframe tbody tr th:only-of-type {\n",
       "        vertical-align: middle;\n",
       "    }\n",
       "\n",
       "    .dataframe tbody tr th {\n",
       "        vertical-align: top;\n",
       "    }\n",
       "\n",
       "    .dataframe thead th {\n",
       "        text-align: right;\n",
       "    }\n",
       "</style>\n",
       "<table border=\"1\" class=\"dataframe\">\n",
       "  <thead>\n",
       "    <tr style=\"text-align: right;\">\n",
       "      <th></th>\n",
       "      <th>Email_ID</th>\n",
       "      <th>time</th>\n",
       "      <th>subject</th>\n",
       "      <th>thread</th>\n",
       "      <th>sender</th>\n",
       "      <th>recipient</th>\n",
       "      <th>message</th>\n",
       "      <th>reply_time</th>\n",
       "      <th>reply_sender</th>\n",
       "      <th>reply_recipient</th>\n",
       "      <th>reply_message</th>\n",
       "    </tr>\n",
       "  </thead>\n",
       "  <tbody>\n",
       "    <tr>\n",
       "      <th>0</th>\n",
       "      <td>0</td>\n",
       "      <td>1999-06-09 04:18:00-07:00</td>\n",
       "      <td>RE: test</td>\n",
       "      <td>2</td>\n",
       "      <td>5552</td>\n",
       "      <td>[40034]</td>\n",
       "      <td>How about this Friday ? Julie has not left yet...</td>\n",
       "      <td>1999-06-09 08:06:00-07:00</td>\n",
       "      <td>40034</td>\n",
       "      <td>[5552]</td>\n",
       "      <td>when? how are you and your family? is julie go...</td>\n",
       "    </tr>\n",
       "    <tr>\n",
       "      <th>1</th>\n",
       "      <td>1</td>\n",
       "      <td>1999-06-09 08:06:00-07:00</td>\n",
       "      <td>RE: test</td>\n",
       "      <td>2</td>\n",
       "      <td>40034</td>\n",
       "      <td>[5552]</td>\n",
       "      <td>when? how are you and your family? is julie go...</td>\n",
       "      <td>1999-06-10 03:54:00-07:00</td>\n",
       "      <td>5552</td>\n",
       "      <td>[40034]</td>\n",
       "      <td>Today is bad. Tommorrow I will call you.</td>\n",
       "    </tr>\n",
       "    <tr>\n",
       "      <th>2</th>\n",
       "      <td>2</td>\n",
       "      <td>1999-06-09 08:06:00-07:00</td>\n",
       "      <td>RE: test</td>\n",
       "      <td>2</td>\n",
       "      <td>40034</td>\n",
       "      <td>[5552]</td>\n",
       "      <td>when? how are you and your family? is julie go...</td>\n",
       "      <td>1999-11-23 01:38:00-08:00</td>\n",
       "      <td>5552</td>\n",
       "      <td>[40034]</td>\n",
       "      <td>Do you have lunch plans today?</td>\n",
       "    </tr>\n",
       "    <tr>\n",
       "      <th>3</th>\n",
       "      <td>3</td>\n",
       "      <td>1999-06-09 08:06:00-07:00</td>\n",
       "      <td>RE: test</td>\n",
       "      <td>2</td>\n",
       "      <td>40034</td>\n",
       "      <td>[5552]</td>\n",
       "      <td>when? how are you and your family? is julie go...</td>\n",
       "      <td>1999-11-23 03:13:00-08:00</td>\n",
       "      <td>5552</td>\n",
       "      <td>[40034]</td>\n",
       "      <td>Really? I'd feel like a mooch. Lets have lunch...</td>\n",
       "    </tr>\n",
       "    <tr>\n",
       "      <th>4</th>\n",
       "      <td>4</td>\n",
       "      <td>1999-06-09 08:06:00-07:00</td>\n",
       "      <td>RE: test</td>\n",
       "      <td>2</td>\n",
       "      <td>40034</td>\n",
       "      <td>[5552]</td>\n",
       "      <td>when? how are you and your family? is julie go...</td>\n",
       "      <td>1999-11-23 03:58:00-08:00</td>\n",
       "      <td>5552</td>\n",
       "      <td>[40034]</td>\n",
       "      <td>Tues.is good. I'll call you.</td>\n",
       "    </tr>\n",
       "    <tr>\n",
       "      <th>5</th>\n",
       "      <td>7</td>\n",
       "      <td>2001-09-07 07:00:56-07:00</td>\n",
       "      <td>RE: test</td>\n",
       "      <td>2</td>\n",
       "      <td>1033</td>\n",
       "      <td>[12830]</td>\n",
       "      <td>Hi, I got your email. Thank you for keeping me...</td>\n",
       "      <td>2001-09-07 14:12:38-07:00</td>\n",
       "      <td>12830</td>\n",
       "      <td>[1033]</td>\n",
       "      <td>Great! I'll look forward to meeting you. Candi...</td>\n",
       "    </tr>\n",
       "    <tr>\n",
       "      <th>6</th>\n",
       "      <td>8</td>\n",
       "      <td>2001-10-19 09:10:09-07:00</td>\n",
       "      <td>test</td>\n",
       "      <td>2</td>\n",
       "      <td>14587</td>\n",
       "      <td>[32780]</td>\n",
       "      <td>Larry, I'm checking your email so if you get t...</td>\n",
       "      <td>2001-10-19 09:15:37-07:00</td>\n",
       "      <td>32780</td>\n",
       "      <td>[14587]</td>\n",
       "      <td>Your test was successful  How's it going?</td>\n",
       "    </tr>\n",
       "    <tr>\n",
       "      <th>7</th>\n",
       "      <td>9</td>\n",
       "      <td>2001-10-19 09:15:37-07:00</td>\n",
       "      <td>RE: test</td>\n",
       "      <td>2</td>\n",
       "      <td>32780</td>\n",
       "      <td>[14587]</td>\n",
       "      <td>Your test was successful  How's it going?</td>\n",
       "      <td>2001-10-19 10:00:58-07:00</td>\n",
       "      <td>14587</td>\n",
       "      <td>[32795, 32780]</td>\n",
       "      <td>We are meeting for drinks after work today, so...</td>\n",
       "    </tr>\n",
       "    <tr>\n",
       "      <th>8</th>\n",
       "      <td>10</td>\n",
       "      <td>2001-10-19 10:00:58-07:00</td>\n",
       "      <td>RE: test</td>\n",
       "      <td>2</td>\n",
       "      <td>14587</td>\n",
       "      <td>[32795, 32780]</td>\n",
       "      <td>We are meeting for drinks after work today, so...</td>\n",
       "      <td>2001-10-19 10:05:47-07:00</td>\n",
       "      <td>32780</td>\n",
       "      <td>[14587]</td>\n",
       "      <td>I'm going to Bob's Halloween party on the 27th...</td>\n",
       "    </tr>\n",
       "    <tr>\n",
       "      <th>9</th>\n",
       "      <td>11</td>\n",
       "      <td>2001-10-19 10:05:47-07:00</td>\n",
       "      <td>RE: test</td>\n",
       "      <td>2</td>\n",
       "      <td>32780</td>\n",
       "      <td>[14587]</td>\n",
       "      <td>I'm going to Bob's Halloween party on the 27th...</td>\n",
       "      <td>2001-10-19 10:20:46-07:00</td>\n",
       "      <td>14587</td>\n",
       "      <td>[32795, 32780]</td>\n",
       "      <td>We are thinking of renting a Limo Saturday nig...</td>\n",
       "    </tr>\n",
       "    <tr>\n",
       "      <th>10</th>\n",
       "      <td>13</td>\n",
       "      <td>2001-11-08 14:18:15-08:00</td>\n",
       "      <td>test</td>\n",
       "      <td>2</td>\n",
       "      <td>39298</td>\n",
       "      <td>[402]</td>\n",
       "      <td>test Dave</td>\n",
       "      <td>2001-11-09 09:03:31-08:00</td>\n",
       "      <td>402</td>\n",
       "      <td>[39298]</td>\n",
       "      <td>Dave, Take a look at this before you pass it o...</td>\n",
       "    </tr>\n",
       "    <tr>\n",
       "      <th>11</th>\n",
       "      <td>14</td>\n",
       "      <td>2001-11-09 09:03:31-08:00</td>\n",
       "      <td>RE: test</td>\n",
       "      <td>2</td>\n",
       "      <td>402</td>\n",
       "      <td>[39298]</td>\n",
       "      <td>Dave, Take a look at this before you pass it o...</td>\n",
       "      <td>2001-11-09 12:06:40-08:00</td>\n",
       "      <td>39298</td>\n",
       "      <td>[402]</td>\n",
       "      <td>looks good. Metz says it looks fine too. You'...</td>\n",
       "    </tr>\n",
       "    <tr>\n",
       "      <th>12</th>\n",
       "      <td>15</td>\n",
       "      <td>2001-11-13 09:08:48-08:00</td>\n",
       "      <td>test</td>\n",
       "      <td>2</td>\n",
       "      <td>39322</td>\n",
       "      <td>[402]</td>\n",
       "      <td>test   Do You Yahoo!? Find the one for you at ...</td>\n",
       "      <td>2001-11-15 09:27:59-08:00</td>\n",
       "      <td>402</td>\n",
       "      <td>[39322]</td>\n",
       "      <td>sorry, but i didn't get your message until lat...</td>\n",
       "    </tr>\n",
       "  </tbody>\n",
       "</table>\n",
       "</div>"
      ],
      "text/plain": [
       "    Email_ID                       time   subject  thread  sender  \\\n",
       "0          0  1999-06-09 04:18:00-07:00  RE: test       2    5552   \n",
       "1          1  1999-06-09 08:06:00-07:00  RE: test       2   40034   \n",
       "2          2  1999-06-09 08:06:00-07:00  RE: test       2   40034   \n",
       "3          3  1999-06-09 08:06:00-07:00  RE: test       2   40034   \n",
       "4          4  1999-06-09 08:06:00-07:00  RE: test       2   40034   \n",
       "5          7  2001-09-07 07:00:56-07:00  RE: test       2    1033   \n",
       "6          8  2001-10-19 09:10:09-07:00      test       2   14587   \n",
       "7          9  2001-10-19 09:15:37-07:00  RE: test       2   32780   \n",
       "8         10  2001-10-19 10:00:58-07:00  RE: test       2   14587   \n",
       "9         11  2001-10-19 10:05:47-07:00  RE: test       2   32780   \n",
       "10        13  2001-11-08 14:18:15-08:00      test       2   39298   \n",
       "11        14  2001-11-09 09:03:31-08:00  RE: test       2     402   \n",
       "12        15  2001-11-13 09:08:48-08:00      test       2   39322   \n",
       "\n",
       "         recipient                                            message  \\\n",
       "0          [40034]  How about this Friday ? Julie has not left yet...   \n",
       "1           [5552]  when? how are you and your family? is julie go...   \n",
       "2           [5552]  when? how are you and your family? is julie go...   \n",
       "3           [5552]  when? how are you and your family? is julie go...   \n",
       "4           [5552]  when? how are you and your family? is julie go...   \n",
       "5          [12830]  Hi, I got your email. Thank you for keeping me...   \n",
       "6          [32780]  Larry, I'm checking your email so if you get t...   \n",
       "7          [14587]         Your test was successful  How's it going?    \n",
       "8   [32795, 32780]  We are meeting for drinks after work today, so...   \n",
       "9          [14587]  I'm going to Bob's Halloween party on the 27th...   \n",
       "10           [402]                                          test Dave   \n",
       "11         [39298]  Dave, Take a look at this before you pass it o...   \n",
       "12           [402]  test   Do You Yahoo!? Find the one for you at ...   \n",
       "\n",
       "                   reply_time  reply_sender reply_recipient  \\\n",
       "0   1999-06-09 08:06:00-07:00         40034          [5552]   \n",
       "1   1999-06-10 03:54:00-07:00          5552         [40034]   \n",
       "2   1999-11-23 01:38:00-08:00          5552         [40034]   \n",
       "3   1999-11-23 03:13:00-08:00          5552         [40034]   \n",
       "4   1999-11-23 03:58:00-08:00          5552         [40034]   \n",
       "5   2001-09-07 14:12:38-07:00         12830          [1033]   \n",
       "6   2001-10-19 09:15:37-07:00         32780         [14587]   \n",
       "7   2001-10-19 10:00:58-07:00         14587  [32795, 32780]   \n",
       "8   2001-10-19 10:05:47-07:00         32780         [14587]   \n",
       "9   2001-10-19 10:20:46-07:00         14587  [32795, 32780]   \n",
       "10  2001-11-09 09:03:31-08:00           402         [39298]   \n",
       "11  2001-11-09 12:06:40-08:00         39298           [402]   \n",
       "12  2001-11-15 09:27:59-08:00           402         [39322]   \n",
       "\n",
       "                                        reply_message  \n",
       "0   when? how are you and your family? is julie go...  \n",
       "1            Today is bad. Tommorrow I will call you.  \n",
       "2                      Do you have lunch plans today?  \n",
       "3   Really? I'd feel like a mooch. Lets have lunch...  \n",
       "4                        Tues.is good. I'll call you.  \n",
       "5   Great! I'll look forward to meeting you. Candi...  \n",
       "6          Your test was successful  How's it going?   \n",
       "7   We are meeting for drinks after work today, so...  \n",
       "8   I'm going to Bob's Halloween party on the 27th...  \n",
       "9   We are thinking of renting a Limo Saturday nig...  \n",
       "10  Dave, Take a look at this before you pass it o...  \n",
       "11   looks good. Metz says it looks fine too. You'...  \n",
       "12  sorry, but i didn't get your message until lat...  "
      ]
     },
     "execution_count": 14,
     "metadata": {},
     "output_type": "execute_result"
    }
   ],
   "source": [
    "emails.head(13)"
   ]
  },
  {
   "cell_type": "code",
   "execution_count": 15,
   "metadata": {},
   "outputs": [
    {
     "data": {
      "text/html": [
       "<div>\n",
       "<style scoped>\n",
       "    .dataframe tbody tr th:only-of-type {\n",
       "        vertical-align: middle;\n",
       "    }\n",
       "\n",
       "    .dataframe tbody tr th {\n",
       "        vertical-align: top;\n",
       "    }\n",
       "\n",
       "    .dataframe thead th {\n",
       "        text-align: right;\n",
       "    }\n",
       "</style>\n",
       "<table border=\"1\" class=\"dataframe\">\n",
       "  <thead>\n",
       "    <tr style=\"text-align: right;\">\n",
       "      <th></th>\n",
       "      <th>Email_ID</th>\n",
       "      <th>time</th>\n",
       "      <th>subject</th>\n",
       "      <th>thread</th>\n",
       "      <th>sender</th>\n",
       "      <th>recipient</th>\n",
       "      <th>message</th>\n",
       "      <th>reply_time</th>\n",
       "      <th>reply_sender</th>\n",
       "      <th>reply_recipient</th>\n",
       "      <th>reply_message</th>\n",
       "    </tr>\n",
       "  </thead>\n",
       "  <tbody>\n",
       "    <tr>\n",
       "      <th>10</th>\n",
       "      <td>13</td>\n",
       "      <td>2001-11-08 14:18:15-08:00</td>\n",
       "      <td>test</td>\n",
       "      <td>2</td>\n",
       "      <td>39298</td>\n",
       "      <td>[402]</td>\n",
       "      <td>test Dave</td>\n",
       "      <td>2001-11-09 09:03:31-08:00</td>\n",
       "      <td>402</td>\n",
       "      <td>[39298]</td>\n",
       "      <td>Dave, Take a look at this before you pass it o...</td>\n",
       "    </tr>\n",
       "  </tbody>\n",
       "</table>\n",
       "</div>"
      ],
      "text/plain": [
       "    Email_ID                       time subject  thread  sender recipient  \\\n",
       "10        13  2001-11-08 14:18:15-08:00    test       2   39298     [402]   \n",
       "\n",
       "      message                 reply_time  reply_sender reply_recipient  \\\n",
       "10  test Dave  2001-11-09 09:03:31-08:00           402         [39298]   \n",
       "\n",
       "                                        reply_message  \n",
       "10  Dave, Take a look at this before you pass it o...  "
      ]
     },
     "execution_count": 15,
     "metadata": {},
     "output_type": "execute_result"
    }
   ],
   "source": [
    "sender_df = emails[emails.sender == 39298]\n",
    "sender_df.head()"
   ]
  },
  {
   "cell_type": "code",
   "execution_count": 16,
   "metadata": {},
   "outputs": [
    {
     "data": {
      "text/plain": [
       "1"
      ]
     },
     "execution_count": 16,
     "metadata": {},
     "output_type": "execute_result"
    }
   ],
   "source": [
    "len(sender_df)"
   ]
  },
  {
   "cell_type": "code",
   "execution_count": 17,
   "metadata": {},
   "outputs": [],
   "source": [
    "top_emails = sender_df[sender_df['recipient'].apply(lambda x: any(item in x for item in [1721]))]"
   ]
  },
  {
   "cell_type": "code",
   "execution_count": 18,
   "metadata": {},
   "outputs": [
    {
     "data": {
      "text/html": [
       "<div>\n",
       "<style scoped>\n",
       "    .dataframe tbody tr th:only-of-type {\n",
       "        vertical-align: middle;\n",
       "    }\n",
       "\n",
       "    .dataframe tbody tr th {\n",
       "        vertical-align: top;\n",
       "    }\n",
       "\n",
       "    .dataframe thead th {\n",
       "        text-align: right;\n",
       "    }\n",
       "</style>\n",
       "<table border=\"1\" class=\"dataframe\">\n",
       "  <thead>\n",
       "    <tr style=\"text-align: right;\">\n",
       "      <th></th>\n",
       "      <th>Email_ID</th>\n",
       "      <th>time</th>\n",
       "      <th>subject</th>\n",
       "      <th>thread</th>\n",
       "      <th>sender</th>\n",
       "      <th>recipient</th>\n",
       "      <th>message</th>\n",
       "      <th>reply_time</th>\n",
       "      <th>reply_sender</th>\n",
       "      <th>reply_recipient</th>\n",
       "      <th>reply_message</th>\n",
       "    </tr>\n",
       "  </thead>\n",
       "  <tbody>\n",
       "  </tbody>\n",
       "</table>\n",
       "</div>"
      ],
      "text/plain": [
       "Empty DataFrame\n",
       "Columns: [Email_ID, time, subject, thread, sender, recipient, message, reply_time, reply_sender, reply_recipient, reply_message]\n",
       "Index: []"
      ]
     },
     "execution_count": 18,
     "metadata": {},
     "output_type": "execute_result"
    }
   ],
   "source": [
    "top_emails.head()"
   ]
  },
  {
   "cell_type": "code",
   "execution_count": 19,
   "metadata": {},
   "outputs": [
    {
     "data": {
      "text/plain": [
       "0"
      ]
     },
     "execution_count": 19,
     "metadata": {},
     "output_type": "execute_result"
    }
   ],
   "source": [
    "len(top_emails)"
   ]
  },
  {
   "cell_type": "code",
   "execution_count": 20,
   "metadata": {},
   "outputs": [],
   "source": [
    "def get_sender_receiver_emails(row):\n",
    "    sender = row['sender']\n",
    "    recipients = row['recipient']\n",
    "    email_id = row['Email_ID']\n",
    "        \n",
    "    sender_df = emails[emails.sender == sender]\n",
    "    sender_df = sender_df[sender_df.Email_ID != email_id]\n",
    "    \n",
    "    top_emails = sender_df[sender_df['recipient'].apply(lambda x: any(item in x for item in recipients))]    \n",
    "    \n",
    "    if(top_emails.empty):\n",
    "        return \"\"\n",
    "    \n",
    "    relevent_emails = list(top_emails['message'])\n",
    "    relevent_emails = [str(item) for item in relevent_emails]\n",
    "    \n",
    "#     print(len(relevent_emails))\n",
    "#     print('\\n')\n",
    "#     combined_string = \" \".join(relevent_emails)\n",
    "#     return combined_string\n",
    "    return relevent_emails\n",
    "\n",
    "def get_sender_emails(row):\n",
    "    sender = row['sender']\n",
    "    email_id = row['Email_ID']\n",
    "        \n",
    "    sender_df = emails[emails.sender == sender]\n",
    "    sender_df = sender_df[sender_df.Email_ID != email_id]\n",
    "\n",
    "    if(sender_df.empty):\n",
    "        return \"\"\n",
    "    \n",
    "    relevent_emails = list(sender_df['message'])\n",
    "    relevent_emails = [str(item) for item in relevent_emails]\n",
    "    \n",
    "#     print(len(relevent_emails))\n",
    "#     print('\\n')\n",
    "    \n",
    "#     combined_string = \" \".join(relevent_emails)\n",
    "    \n",
    "#     return combined_string\n",
    "    return relevent_emails\n",
    "\n",
    "def remove_same_emails(row):\n",
    "    all_emails = row['Sender_Emails_All']\n",
    "    sender_receiver_emails = row['Sender_Receiver_Emails']    \n",
    "    \n",
    "    return [x for x in all_emails if x not in sender_receiver_emails]"
   ]
  },
  {
   "cell_type": "code",
   "execution_count": 21,
   "metadata": {},
   "outputs": [],
   "source": [
    "emails['Sender_Receiver_Emails'] = emails.apply(get_sender_receiver_emails,axis=1)\n",
    "emails['Sender_Emails_All'] = emails.apply(get_sender_emails,axis=1)"
   ]
  },
  {
   "cell_type": "code",
   "execution_count": 22,
   "metadata": {},
   "outputs": [],
   "source": [
    "emails['Sender_Emails_Filtered'] = emails.apply(remove_same_emails,axis=1)"
   ]
  },
  {
   "cell_type": "code",
   "execution_count": 23,
   "metadata": {},
   "outputs": [],
   "source": [
    "emails_small = emails.drop(columns = ['Sender_Emails_All','Sender_Emails_Filtered'])"
   ]
  },
  {
   "cell_type": "code",
   "execution_count": 24,
   "metadata": {},
   "outputs": [
    {
     "data": {
      "text/html": [
       "<div>\n",
       "<style scoped>\n",
       "    .dataframe tbody tr th:only-of-type {\n",
       "        vertical-align: middle;\n",
       "    }\n",
       "\n",
       "    .dataframe tbody tr th {\n",
       "        vertical-align: top;\n",
       "    }\n",
       "\n",
       "    .dataframe thead th {\n",
       "        text-align: right;\n",
       "    }\n",
       "</style>\n",
       "<table border=\"1\" class=\"dataframe\">\n",
       "  <thead>\n",
       "    <tr style=\"text-align: right;\">\n",
       "      <th></th>\n",
       "      <th>Email_ID</th>\n",
       "      <th>time</th>\n",
       "      <th>subject</th>\n",
       "      <th>thread</th>\n",
       "      <th>sender</th>\n",
       "      <th>recipient</th>\n",
       "      <th>message</th>\n",
       "      <th>reply_time</th>\n",
       "      <th>reply_sender</th>\n",
       "      <th>reply_recipient</th>\n",
       "      <th>reply_message</th>\n",
       "      <th>Sender_Receiver_Emails</th>\n",
       "    </tr>\n",
       "  </thead>\n",
       "  <tbody>\n",
       "    <tr>\n",
       "      <th>0</th>\n",
       "      <td>0</td>\n",
       "      <td>1999-06-09 04:18:00-07:00</td>\n",
       "      <td>RE: test</td>\n",
       "      <td>2</td>\n",
       "      <td>5552</td>\n",
       "      <td>[40034]</td>\n",
       "      <td>How about this Friday ? Julie has not left yet...</td>\n",
       "      <td>1999-06-09 08:06:00-07:00</td>\n",
       "      <td>40034</td>\n",
       "      <td>[5552]</td>\n",
       "      <td>when? how are you and your family? is julie go...</td>\n",
       "      <td></td>\n",
       "    </tr>\n",
       "    <tr>\n",
       "      <th>1</th>\n",
       "      <td>1</td>\n",
       "      <td>1999-06-09 08:06:00-07:00</td>\n",
       "      <td>RE: test</td>\n",
       "      <td>2</td>\n",
       "      <td>40034</td>\n",
       "      <td>[5552]</td>\n",
       "      <td>when? how are you and your family? is julie go...</td>\n",
       "      <td>1999-06-10 03:54:00-07:00</td>\n",
       "      <td>5552</td>\n",
       "      <td>[40034]</td>\n",
       "      <td>Today is bad. Tommorrow I will call you.</td>\n",
       "      <td>[when? how are you and your family? is julie g...</td>\n",
       "    </tr>\n",
       "    <tr>\n",
       "      <th>2</th>\n",
       "      <td>2</td>\n",
       "      <td>1999-06-09 08:06:00-07:00</td>\n",
       "      <td>RE: test</td>\n",
       "      <td>2</td>\n",
       "      <td>40034</td>\n",
       "      <td>[5552]</td>\n",
       "      <td>when? how are you and your family? is julie go...</td>\n",
       "      <td>1999-11-23 01:38:00-08:00</td>\n",
       "      <td>5552</td>\n",
       "      <td>[40034]</td>\n",
       "      <td>Do you have lunch plans today?</td>\n",
       "      <td>[when? how are you and your family? is julie g...</td>\n",
       "    </tr>\n",
       "    <tr>\n",
       "      <th>3</th>\n",
       "      <td>3</td>\n",
       "      <td>1999-06-09 08:06:00-07:00</td>\n",
       "      <td>RE: test</td>\n",
       "      <td>2</td>\n",
       "      <td>40034</td>\n",
       "      <td>[5552]</td>\n",
       "      <td>when? how are you and your family? is julie go...</td>\n",
       "      <td>1999-11-23 03:13:00-08:00</td>\n",
       "      <td>5552</td>\n",
       "      <td>[40034]</td>\n",
       "      <td>Really? I'd feel like a mooch. Lets have lunch...</td>\n",
       "      <td>[when? how are you and your family? is julie g...</td>\n",
       "    </tr>\n",
       "    <tr>\n",
       "      <th>4</th>\n",
       "      <td>4</td>\n",
       "      <td>1999-06-09 08:06:00-07:00</td>\n",
       "      <td>RE: test</td>\n",
       "      <td>2</td>\n",
       "      <td>40034</td>\n",
       "      <td>[5552]</td>\n",
       "      <td>when? how are you and your family? is julie go...</td>\n",
       "      <td>1999-11-23 03:58:00-08:00</td>\n",
       "      <td>5552</td>\n",
       "      <td>[40034]</td>\n",
       "      <td>Tues.is good. I'll call you.</td>\n",
       "      <td>[when? how are you and your family? is julie g...</td>\n",
       "    </tr>\n",
       "    <tr>\n",
       "      <th>...</th>\n",
       "      <td>...</td>\n",
       "      <td>...</td>\n",
       "      <td>...</td>\n",
       "      <td>...</td>\n",
       "      <td>...</td>\n",
       "      <td>...</td>\n",
       "      <td>...</td>\n",
       "      <td>...</td>\n",
       "      <td>...</td>\n",
       "      <td>...</td>\n",
       "      <td>...</td>\n",
       "      <td>...</td>\n",
       "    </tr>\n",
       "    <tr>\n",
       "      <th>24635</th>\n",
       "      <td>27458</td>\n",
       "      <td>2002-01-31 09:26:01-08:00</td>\n",
       "      <td>Canadian Trader List</td>\n",
       "      <td>137631</td>\n",
       "      <td>56</td>\n",
       "      <td>[322]</td>\n",
       "      <td>John, Please review the list below and let me ...</td>\n",
       "      <td>2002-01-31 09:34:39-08:00</td>\n",
       "      <td>322</td>\n",
       "      <td>[56]</td>\n",
       "      <td>Stephane Brodeur should be removed from the li...</td>\n",
       "      <td>[John, Please provide the list of Canadian Ori...</td>\n",
       "    </tr>\n",
       "    <tr>\n",
       "      <th>24636</th>\n",
       "      <td>27459</td>\n",
       "      <td>2002-01-31 09:34:39-08:00</td>\n",
       "      <td>RE: Canadian Trader List</td>\n",
       "      <td>137631</td>\n",
       "      <td>322</td>\n",
       "      <td>[56]</td>\n",
       "      <td>Stephane Brodeur should be removed from the li...</td>\n",
       "      <td>2002-01-31 10:35:06-08:00</td>\n",
       "      <td>56</td>\n",
       "      <td>[322]</td>\n",
       "      <td>Thank you. Please let me know about Chris Lamb...</td>\n",
       "      <td></td>\n",
       "    </tr>\n",
       "    <tr>\n",
       "      <th>24637</th>\n",
       "      <td>27460</td>\n",
       "      <td>2002-01-31 06:44:41-08:00</td>\n",
       "      <td>RE: Physical Gas</td>\n",
       "      <td>137634</td>\n",
       "      <td>322</td>\n",
       "      <td>[551]</td>\n",
       "      <td>that was our plan but I am not sure whether UB...</td>\n",
       "      <td>2002-01-31 06:49:52-08:00</td>\n",
       "      <td>551</td>\n",
       "      <td>[322]</td>\n",
       "      <td>John, I understand Peter Keohane is here today...</td>\n",
       "      <td></td>\n",
       "    </tr>\n",
       "    <tr>\n",
       "      <th>24638</th>\n",
       "      <td>27461</td>\n",
       "      <td>2002-01-30 09:40:23-08:00</td>\n",
       "      <td>Estate DPR Reporting for Power</td>\n",
       "      <td>137640</td>\n",
       "      <td>3595</td>\n",
       "      <td>[3421, 322]</td>\n",
       "      <td>Peggy &amp; John The estate's DPR reporting requir...</td>\n",
       "      <td>2002-01-30 10:09:47-08:00</td>\n",
       "      <td>322</td>\n",
       "      <td>[3595]</td>\n",
       "      <td>ok</td>\n",
       "      <td></td>\n",
       "    </tr>\n",
       "    <tr>\n",
       "      <th>24639</th>\n",
       "      <td>27462</td>\n",
       "      <td>2002-01-28 12:49:37-08:00</td>\n",
       "      <td>Termianted Contracts</td>\n",
       "      <td>137655</td>\n",
       "      <td>13704</td>\n",
       "      <td>[13306, 9868, 322]</td>\n",
       "      <td>Further to our meeting today, please find atta...</td>\n",
       "      <td>2002-01-28 12:57:25-08:00</td>\n",
       "      <td>322</td>\n",
       "      <td>[13704]</td>\n",
       "      <td>according to the packet that was distributed ...</td>\n",
       "      <td></td>\n",
       "    </tr>\n",
       "  </tbody>\n",
       "</table>\n",
       "<p>24640 rows × 12 columns</p>\n",
       "</div>"
      ],
      "text/plain": [
       "       Email_ID                       time                         subject  \\\n",
       "0             0  1999-06-09 04:18:00-07:00                        RE: test   \n",
       "1             1  1999-06-09 08:06:00-07:00                        RE: test   \n",
       "2             2  1999-06-09 08:06:00-07:00                        RE: test   \n",
       "3             3  1999-06-09 08:06:00-07:00                        RE: test   \n",
       "4             4  1999-06-09 08:06:00-07:00                        RE: test   \n",
       "...         ...                        ...                             ...   \n",
       "24635     27458  2002-01-31 09:26:01-08:00            Canadian Trader List   \n",
       "24636     27459  2002-01-31 09:34:39-08:00        RE: Canadian Trader List   \n",
       "24637     27460  2002-01-31 06:44:41-08:00                RE: Physical Gas   \n",
       "24638     27461  2002-01-30 09:40:23-08:00  Estate DPR Reporting for Power   \n",
       "24639     27462  2002-01-28 12:49:37-08:00            Termianted Contracts   \n",
       "\n",
       "       thread  sender           recipient  \\\n",
       "0           2    5552             [40034]   \n",
       "1           2   40034              [5552]   \n",
       "2           2   40034              [5552]   \n",
       "3           2   40034              [5552]   \n",
       "4           2   40034              [5552]   \n",
       "...       ...     ...                 ...   \n",
       "24635  137631      56               [322]   \n",
       "24636  137631     322                [56]   \n",
       "24637  137634     322               [551]   \n",
       "24638  137640    3595         [3421, 322]   \n",
       "24639  137655   13704  [13306, 9868, 322]   \n",
       "\n",
       "                                                 message  \\\n",
       "0      How about this Friday ? Julie has not left yet...   \n",
       "1      when? how are you and your family? is julie go...   \n",
       "2      when? how are you and your family? is julie go...   \n",
       "3      when? how are you and your family? is julie go...   \n",
       "4      when? how are you and your family? is julie go...   \n",
       "...                                                  ...   \n",
       "24635  John, Please review the list below and let me ...   \n",
       "24636  Stephane Brodeur should be removed from the li...   \n",
       "24637  that was our plan but I am not sure whether UB...   \n",
       "24638  Peggy & John The estate's DPR reporting requir...   \n",
       "24639  Further to our meeting today, please find atta...   \n",
       "\n",
       "                      reply_time  reply_sender reply_recipient  \\\n",
       "0      1999-06-09 08:06:00-07:00         40034          [5552]   \n",
       "1      1999-06-10 03:54:00-07:00          5552         [40034]   \n",
       "2      1999-11-23 01:38:00-08:00          5552         [40034]   \n",
       "3      1999-11-23 03:13:00-08:00          5552         [40034]   \n",
       "4      1999-11-23 03:58:00-08:00          5552         [40034]   \n",
       "...                          ...           ...             ...   \n",
       "24635  2002-01-31 09:34:39-08:00           322            [56]   \n",
       "24636  2002-01-31 10:35:06-08:00            56           [322]   \n",
       "24637  2002-01-31 06:49:52-08:00           551           [322]   \n",
       "24638  2002-01-30 10:09:47-08:00           322          [3595]   \n",
       "24639  2002-01-28 12:57:25-08:00           322         [13704]   \n",
       "\n",
       "                                           reply_message  \\\n",
       "0      when? how are you and your family? is julie go...   \n",
       "1               Today is bad. Tommorrow I will call you.   \n",
       "2                         Do you have lunch plans today?   \n",
       "3      Really? I'd feel like a mooch. Lets have lunch...   \n",
       "4                           Tues.is good. I'll call you.   \n",
       "...                                                  ...   \n",
       "24635  Stephane Brodeur should be removed from the li...   \n",
       "24636  Thank you. Please let me know about Chris Lamb...   \n",
       "24637  John, I understand Peter Keohane is here today...   \n",
       "24638                                                ok    \n",
       "24639   according to the packet that was distributed ...   \n",
       "\n",
       "                                  Sender_Receiver_Emails  \n",
       "0                                                         \n",
       "1      [when? how are you and your family? is julie g...  \n",
       "2      [when? how are you and your family? is julie g...  \n",
       "3      [when? how are you and your family? is julie g...  \n",
       "4      [when? how are you and your family? is julie g...  \n",
       "...                                                  ...  \n",
       "24635  [John, Please provide the list of Canadian Ori...  \n",
       "24636                                                     \n",
       "24637                                                     \n",
       "24638                                                     \n",
       "24639                                                     \n",
       "\n",
       "[24640 rows x 12 columns]"
      ]
     },
     "execution_count": 24,
     "metadata": {},
     "output_type": "execute_result"
    }
   ],
   "source": [
    "emails_small"
   ]
  },
  {
   "cell_type": "code",
   "execution_count": 66,
   "metadata": {},
   "outputs": [],
   "source": [
    "emails_small.to_csv('20231008_Emails_with_Previous_as_List.csv',mode='w+')"
   ]
  },
  {
   "cell_type": "code",
   "execution_count": 26,
   "metadata": {},
   "outputs": [],
   "source": [
    "emails = emails.drop(columns=['Sender_Emails_All'])"
   ]
  },
  {
   "cell_type": "code",
   "execution_count": 28,
   "metadata": {},
   "outputs": [],
   "source": [
    "emails.to_csv('20231008_Emails_with_All_Previous.csv',mode='w+')"
   ]
  },
  {
   "cell_type": "code",
   "execution_count": 33,
   "metadata": {},
   "outputs": [],
   "source": [
    "emails.to_csv('20231008_Emails_with_Previous.csv',mode='w+')"
   ]
  },
  {
   "cell_type": "code",
   "execution_count": 34,
   "metadata": {},
   "outputs": [],
   "source": [
    "emails['total_emails'] = emails['Sender_Emails_All'].apply(lambda x: len(x))"
   ]
  },
  {
   "cell_type": "code",
   "execution_count": 36,
   "metadata": {},
   "outputs": [
    {
     "data": {
      "text/plain": [
       "count    3576.000000\n",
       "mean        5.890380\n",
       "std        33.877505\n",
       "min         0.000000\n",
       "25%         0.000000\n",
       "50%         1.000000\n",
       "75%         3.000000\n",
       "max       864.000000\n",
       "Name: total_emails, dtype: float64"
      ]
     },
     "execution_count": 36,
     "metadata": {},
     "output_type": "execute_result"
    }
   ],
   "source": [
    "test = emails.groupby('sender').first().reset_index()\n",
    "test['total_emails'].describe()"
   ]
  },
  {
   "cell_type": "code",
   "execution_count": 45,
   "metadata": {},
   "outputs": [
    {
     "data": {
      "text/plain": [
       "1721     865\n",
       "13209    860\n",
       "1691     716\n",
       "151      622\n",
       "414      544\n",
       "        ... \n",
       "8559       1\n",
       "24479      1\n",
       "24140      1\n",
       "8588       1\n",
       "5456       1\n",
       "Name: sender, Length: 3576, dtype: int64"
      ]
     },
     "execution_count": 45,
     "metadata": {},
     "output_type": "execute_result"
    }
   ],
   "source": [
    "import matplotlib.pyplot as plt\n",
    "\n",
    "counts = emails['sender'].value_counts()\n",
    "counts"
   ]
  },
  {
   "cell_type": "code",
   "execution_count": 37,
   "metadata": {},
   "outputs": [
    {
     "data": {
      "text/plain": [
       "3576"
      ]
     },
     "execution_count": 37,
     "metadata": {},
     "output_type": "execute_result"
    }
   ],
   "source": [
    "len(test)"
   ]
  },
  {
   "cell_type": "code",
   "execution_count": 140,
   "metadata": {},
   "outputs": [],
   "source": [
    "emails.to_csv('20231006_Emails_with_identical_users.csv',mode='w+')"
   ]
  },
  {
   "cell_type": "code",
   "execution_count": 3,
   "metadata": {},
   "outputs": [
    {
     "name": "stdout",
     "output_type": "stream",
     "text": [
      "/Users/scottsmacbook/Hedwig/Hedwig/05_RRM\r\n"
     ]
    }
   ],
   "source": [
    "# if the user has talked about the subject before \n",
    "# "
   ]
  },
  {
   "cell_type": "code",
   "execution_count": 68,
   "metadata": {},
   "outputs": [
    {
     "name": "stdout",
     "output_type": "stream",
     "text": [
      "OpenAI API Key:········\n"
     ]
    }
   ],
   "source": [
    "import os\n",
    "import getpass\n",
    "\n",
    "os.environ['OPENAI_API_KEY'] = getpass.getpass('OpenAI API Key:')\n",
    "    "
   ]
  },
  {
   "cell_type": "code",
   "execution_count": 6,
   "metadata": {},
   "outputs": [],
   "source": [
    "# !pip install --upgrade pip\n",
    "# !pip install python-dotenv\n",
    "# !pip install openai\n",
    "# ! pip install chromadb\n",
    "# ! pip install langchain"
   ]
  },
  {
   "cell_type": "code",
   "execution_count": 5,
   "metadata": {},
   "outputs": [
    {
     "ename": "ModuleNotFoundError",
     "evalue": "No module named 'langchain'",
     "output_type": "error",
     "traceback": [
      "\u001b[0;31m---------------------------------------------------------------------------\u001b[0m",
      "\u001b[0;31mModuleNotFoundError\u001b[0m                       Traceback (most recent call last)",
      "Cell \u001b[0;32mIn[5], line 1\u001b[0m\n\u001b[0;32m----> 1\u001b[0m \u001b[38;5;28;01mimport\u001b[39;00m \u001b[38;5;21;01mlangchain\u001b[39;00m\n\u001b[1;32m      2\u001b[0m \u001b[38;5;28;01mfrom\u001b[39;00m \u001b[38;5;21;01mlangchain\u001b[39;00m\u001b[38;5;21;01m.\u001b[39;00m\u001b[38;5;21;01mdocument_loaders\u001b[39;00m \u001b[38;5;28;01mimport\u001b[39;00m TextLoader\n\u001b[1;32m      3\u001b[0m \u001b[38;5;28;01mfrom\u001b[39;00m \u001b[38;5;21;01mlangchain\u001b[39;00m\u001b[38;5;21;01m.\u001b[39;00m\u001b[38;5;21;01membeddings\u001b[39;00m\u001b[38;5;21;01m.\u001b[39;00m\u001b[38;5;21;01mopenai\u001b[39;00m \u001b[38;5;28;01mimport\u001b[39;00m OpenAIEmbeddings\n",
      "\u001b[0;31mModuleNotFoundError\u001b[0m: No module named 'langchain'"
     ]
    }
   ],
   "source": [
    "import langchain\n",
    "from langchain.document_loaders import TextLoader\n",
    "from langchain.embeddings.openai import OpenAIEmbeddings\n",
    "from langchain.text_splitter import CharacterTextSplitter\n",
    "from langchain.vectorstores import Chroma"
   ]
  }
 ],
 "metadata": {
  "kernelspec": {
   "display_name": "Python 3 (ipykernel)",
   "language": "python",
   "name": "python3"
  },
  "language_info": {
   "codemirror_mode": {
    "name": "ipython",
    "version": 3
   },
   "file_extension": ".py",
   "mimetype": "text/x-python",
   "name": "python",
   "nbconvert_exporter": "python",
   "pygments_lexer": "ipython3",
   "version": "3.9.16"
  }
 },
 "nbformat": 4,
 "nbformat_minor": 2
}
