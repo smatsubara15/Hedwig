{
 "cells": [
  {
   "cell_type": "markdown",
   "metadata": {},
   "source": [
    "## Working with GCS Blob Storage\n",
    "**Run this Notebook on GCP with Python Kernel**"
   ]
  },
  {
   "cell_type": "code",
   "execution_count": 1,
   "metadata": {},
   "outputs": [],
   "source": [
    "import time\n",
    "import datetime\n",
    "import os\n",
    "import pandas as pd"
   ]
  },
  {
   "cell_type": "markdown",
   "metadata": {},
   "source": [
    "#### Set-up COS functions for GCS"
   ]
  },
  {
   "cell_type": "code",
   "execution_count": 2,
   "metadata": {},
   "outputs": [],
   "source": [
    "from google.cloud import storage"
   ]
  },
  {
   "cell_type": "code",
   "execution_count": 3,
   "metadata": {},
   "outputs": [],
   "source": [
    "def list_blobs(bucket_name, folder_name):\n",
    "    \"\"\"List all files in given COS directory.\"\"\"    \n",
    "    gcs_client = storage.Client()\n",
    "    bucket = gcs_client.bucket(bucket_name)\n",
    "    blobs = list(bucket.list_blobs(prefix=folder_name))\n",
    "    for blob in blobs:\n",
    "        print(blob.name + '\\t' + str(blob.size))"
   ]
  },
  {
   "cell_type": "code",
   "execution_count": 4,
   "metadata": {},
   "outputs": [],
   "source": [
    "def upload_blob(bucket_name, source_file_name, destination_blob_name):\n",
    "    \"\"\"Uploads a file to the bucket.\"\"\"    \n",
    "    gcs_client = storage.Client()\n",
    "    bucket = gcs_client.bucket(bucket_name)\n",
    "    blob = bucket.blob(destination_blob_name)\n",
    "    blob.upload_from_filename(source_file_name)"
   ]
  },
  {
   "cell_type": "code",
   "execution_count": 5,
   "metadata": {},
   "outputs": [],
   "source": [
    "def download_blob(bucket_name, source_blob_name, destination_file_name):\n",
    "    \"\"\"Downloads a blob from COS bucket.\"\"\"\n",
    "    gcs_client = storage.Client()\n",
    "    bucket = gcs_client.bucket(bucket_name)\n",
    "    blob = bucket.blob(source_blob_name)\n",
    "    blob.download_to_filename(destination_file_name)"
   ]
  },
  {
   "cell_type": "code",
   "execution_count": 6,
   "metadata": {},
   "outputs": [],
   "source": [
    "def delete_folder(bucket_name, folder_name):\n",
    "    \"\"\"Delete folder from COS bucket.\"\"\"    \n",
    "    gcs_client = storage.Client()\n",
    "    bucket = gcs_client.bucket(bucket_name)\n",
    "    blobs = list(bucket.list_blobs(prefix=folder_name))\n",
    "    for blob in blobs:\n",
    "        blob.delete()"
   ]
  },
  {
   "cell_type": "code",
   "execution_count": 7,
   "metadata": {},
   "outputs": [],
   "source": [
    "def list_blobs_pd(bucket_name, folder_name):\n",
    "    \"\"\"List all files in given COS directory.\"\"\"       \n",
    "    gcs_client = storage.Client()\n",
    "    bucket = gcs_client.bucket(bucket_name)\n",
    "    blobs = list(bucket.list_blobs(prefix=folder_name))\n",
    "\n",
    "    blob_name = []\n",
    "    blob_size = []\n",
    "    blob_time = []\n",
    "    \n",
    "    for blob in blobs:\n",
    "        blob_name.append(blob.name)\n",
    "        blob_size.append(blob.size)\n",
    "        blob_time.append(blob.time_created)\n",
    "\n",
    "    blobs_df = pd.DataFrame(list(zip(blob_name, blob_size, blob_time)), columns=['Name', 'Size', 'Time_Stamp'])\n",
    "\n",
    "#     blobs_df = blobs_df.style.format({\"Size\": \"{:,.0f}\"}) \n",
    "    \n",
    "    return blobs_df"
   ]
  },
  {
   "cell_type": "markdown",
   "metadata": {},
   "source": [
    "### Accessing data using Pandas from GCS"
   ]
  },
  {
   "cell_type": "code",
   "execution_count": 8,
   "metadata": {},
   "outputs": [
    {
     "name": "stdout",
     "output_type": "stream",
     "text": [
      "austin/\t0\n",
      "austin/Austin_311.json\t214537534\n",
      "austin/Austin_311_Data.json\t214524951\n",
      "austin/Municipal_Court_Caseload_Information.csv\t877080187\n",
      "austin/Municipal_Court_Caseload_Information.zip\t94212181\n",
      "austin/PO_Commodity_Goods.csv\t68316711\n",
      "austin/PO_Commodity_Goods.parquet\t21978945\n",
      "austin/Water_Quality_Sampling_Data.csv\t320434750\n",
      "austin/Water_Quality_Sampling_Data.zip\t18928325\n",
      "austin/violation_type_desc.csv\t152\n"
     ]
    }
   ],
   "source": [
    "list_blobs(bucket_name='msca-bdp-data-open', \n",
    "           folder_name='austin/')"
   ]
  },
  {
   "cell_type": "code",
   "execution_count": 9,
   "metadata": {},
   "outputs": [
    {
     "data": {
      "text/html": [
       "<div>\n",
       "<style scoped>\n",
       "    .dataframe tbody tr th:only-of-type {\n",
       "        vertical-align: middle;\n",
       "    }\n",
       "\n",
       "    .dataframe tbody tr th {\n",
       "        vertical-align: top;\n",
       "    }\n",
       "\n",
       "    .dataframe thead th {\n",
       "        text-align: right;\n",
       "    }\n",
       "</style>\n",
       "<table border=\"1\" class=\"dataframe\">\n",
       "  <thead>\n",
       "    <tr style=\"text-align: right;\">\n",
       "      <th></th>\n",
       "      <th>COMMODITY</th>\n",
       "      <th>COMMODITY_DESCRIPTION</th>\n",
       "      <th>EXTENDED_DESCRIPTION</th>\n",
       "      <th>QUANTITY</th>\n",
       "      <th>UNIT_OF_MEASURE</th>\n",
       "      <th>UNIT_OF_MEAS_DESC</th>\n",
       "      <th>UNIT_PRICE</th>\n",
       "      <th>ITM_TOT_AM</th>\n",
       "      <th>MASTER_AGREEMENT</th>\n",
       "      <th>CONTRACT_NAME</th>\n",
       "      <th>...</th>\n",
       "      <th>AWARD_DATE</th>\n",
       "      <th>VENDOR_CODE</th>\n",
       "      <th>LGL_NM</th>\n",
       "      <th>AD_LN_1</th>\n",
       "      <th>AD_LN_2</th>\n",
       "      <th>CITY</th>\n",
       "      <th>ST</th>\n",
       "      <th>ZIP</th>\n",
       "      <th>CTRY</th>\n",
       "      <th>DATA_BUILD_DATE</th>\n",
       "    </tr>\n",
       "  </thead>\n",
       "  <tbody>\n",
       "    <tr>\n",
       "      <th>0</th>\n",
       "      <td>21045</td>\n",
       "      <td>Meter Boxes and Concrete Pull Boxes</td>\n",
       "      <td>MANHOLE, 36\", REINFORCED TONGUE, AND GROOVE CO...</td>\n",
       "      <td>4.0</td>\n",
       "      <td>EA</td>\n",
       "      <td>Each</td>\n",
       "      <td>253.0</td>\n",
       "      <td>1012.0</td>\n",
       "      <td>MA1100GA120000004</td>\n",
       "      <td>Generated by reorder 6/11/15 2:06 PM.</td>\n",
       "      <td>...</td>\n",
       "      <td>06/12/2015</td>\n",
       "      <td>HAN7137140</td>\n",
       "      <td>HANSON PIPE &amp; PRECAST LLC</td>\n",
       "      <td>801 AIRPORT BLVD</td>\n",
       "      <td>NaN</td>\n",
       "      <td>AUSTIN</td>\n",
       "      <td>TX</td>\n",
       "      <td>78702</td>\n",
       "      <td>US</td>\n",
       "      <td>09/12/2016</td>\n",
       "    </tr>\n",
       "  </tbody>\n",
       "</table>\n",
       "<p>1 rows × 21 columns</p>\n",
       "</div>"
      ],
      "text/plain": [
       "  COMMODITY                COMMODITY_DESCRIPTION  \\\n",
       "0     21045  Meter Boxes and Concrete Pull Boxes   \n",
       "\n",
       "                                EXTENDED_DESCRIPTION  QUANTITY  \\\n",
       "0  MANHOLE, 36\", REINFORCED TONGUE, AND GROOVE CO...       4.0   \n",
       "\n",
       "  UNIT_OF_MEASURE UNIT_OF_MEAS_DESC  UNIT_PRICE  ITM_TOT_AM  \\\n",
       "0              EA              Each       253.0      1012.0   \n",
       "\n",
       "    MASTER_AGREEMENT                          CONTRACT_NAME  ...  AWARD_DATE  \\\n",
       "0  MA1100GA120000004  Generated by reorder 6/11/15 2:06 PM.  ...  06/12/2015   \n",
       "\n",
       "  VENDOR_CODE                     LGL_NM           AD_LN_1 AD_LN_2    CITY  \\\n",
       "0  HAN7137140  HANSON PIPE & PRECAST LLC  801 AIRPORT BLVD     NaN  AUSTIN   \n",
       "\n",
       "   ST    ZIP CTRY DATA_BUILD_DATE  \n",
       "0  TX  78702   US      09/12/2016  \n",
       "\n",
       "[1 rows x 21 columns]"
      ]
     },
     "execution_count": 9,
     "metadata": {},
     "output_type": "execute_result"
    }
   ],
   "source": [
    "df = pd.read_csv('gs://msca-bdp-data-open/austin/PO_Commodity_Goods.csv')\n",
    "df.head(1)"
   ]
  },
  {
   "cell_type": "code",
   "execution_count": 10,
   "metadata": {},
   "outputs": [],
   "source": [
    "df.to_csv('gs://msca-bdp-data-shared/temp_gcs/PO_Commodity_Goods.csv')"
   ]
  },
  {
   "cell_type": "code",
   "execution_count": 11,
   "metadata": {},
   "outputs": [
    {
     "name": "stdout",
     "output_type": "stream",
     "text": [
      "temp_gcs/PO_Commodity_Goods.csv\t70169254\n"
     ]
    }
   ],
   "source": [
    "list_blobs(bucket_name='msca-bdp-data-shared', \n",
    "           folder_name='temp_gcs/')"
   ]
  },
  {
   "cell_type": "code",
   "execution_count": 12,
   "metadata": {},
   "outputs": [
    {
     "name": "stdout",
     "output_type": "stream",
     "text": [
      "  70169254  2023-04-13T15:32:37Z  gs://msca-bdp-data-shared/temp_gcs/PO_Commodity_Goods.csv\n",
      "TOTAL: 1 objects, 70169254 bytes (66.92 MiB)\n"
     ]
    }
   ],
   "source": [
    "!gsutil ls -l 'gs://msca-bdp-data-shared/temp_gcs/PO_Commodity_Goods.csv'"
   ]
  },
  {
   "cell_type": "code",
   "execution_count": 13,
   "metadata": {},
   "outputs": [],
   "source": [
    "delete_folder(bucket_name='msca-bdp-data-shared', \n",
    "           folder_name='temp_gcs/')"
   ]
  },
  {
   "cell_type": "code",
   "execution_count": 14,
   "metadata": {},
   "outputs": [
    {
     "name": "stdout",
     "output_type": "stream",
     "text": [
      "CommandException: One or more URLs matched no objects.\n"
     ]
    }
   ],
   "source": [
    "!gsutil ls -l 'gs://msca-bdp-data-shared/temp_gcs'"
   ]
  },
  {
   "cell_type": "code",
   "execution_count": null,
   "metadata": {},
   "outputs": [],
   "source": []
  },
  {
   "cell_type": "code",
   "execution_count": null,
   "metadata": {},
   "outputs": [],
   "source": []
  },
  {
   "cell_type": "code",
   "execution_count": null,
   "metadata": {},
   "outputs": [],
   "source": []
  },
  {
   "cell_type": "code",
   "execution_count": 15,
   "metadata": {},
   "outputs": [
    {
     "data": {
      "text/plain": [
       "'Thu, 13 April 2023 10:32:41'"
      ]
     },
     "execution_count": 15,
     "metadata": {},
     "output_type": "execute_result"
    }
   ],
   "source": [
    "import datetime\n",
    "import pytz\n",
    "\n",
    "datetime.datetime.now(pytz.timezone('US/Central')).strftime(\"%a, %d %B %Y %H:%M:%S\")"
   ]
  }
 ],
 "metadata": {
  "anaconda-cloud": {},
  "environment": {
   "kernel": "python3",
   "name": "common-cpu.m107",
   "type": "gcloud",
   "uri": "gcr.io/deeplearning-platform-release/base-cpu:m107"
  },
  "kernelspec": {
   "display_name": "base",
   "language": "python",
   "name": "python3"
  },
  "language_info": {
   "codemirror_mode": {
    "name": "ipython",
    "version": 3
   },
   "file_extension": ".py",
   "mimetype": "text/x-python",
   "name": "python",
   "nbconvert_exporter": "python",
   "pygments_lexer": "ipython3",
   "version": "3.9.12 (main, Apr  5 2022, 01:53:17) \n[Clang 12.0.0 ]"
  },
  "vscode": {
   "interpreter": {
    "hash": "b1fa752ca0887f17b8e0c109bdb7229e3d67df240d797e9f30425dc0f1ef03b0"
   }
  }
 },
 "nbformat": 4,
 "nbformat_minor": 4
}
