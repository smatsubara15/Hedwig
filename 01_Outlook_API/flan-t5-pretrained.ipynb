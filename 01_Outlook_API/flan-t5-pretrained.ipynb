{
 "cells": [
  {
   "cell_type": "code",
   "execution_count": 1,
   "id": "e9a3f4db-0b18-4c1f-8e91-403279848bd4",
   "metadata": {},
   "outputs": [],
   "source": [
    "# %pip install transformers"
   ]
  },
  {
   "cell_type": "code",
   "execution_count": 3,
   "id": "483a8c15-87a1-441a-8036-ee34cf6e93e1",
   "metadata": {},
   "outputs": [],
   "source": [
    "# %pip install datasets"
   ]
  },
  {
   "cell_type": "code",
   "execution_count": 1,
   "id": "d5b381b9-0ec8-4e3a-b9a6-bc2b3a905287",
   "metadata": {},
   "outputs": [],
   "source": [
    "# %pip install accelerate"
   ]
  },
  {
   "cell_type": "code",
   "execution_count": 2,
   "id": "ffc90c01-dec7-4925-ae93-8941468334a0",
   "metadata": {},
   "outputs": [],
   "source": [
    "# %pip install sentencepiece"
   ]
  },
  {
   "cell_type": "code",
   "execution_count": 1,
   "id": "ae4701a4-c5e3-470a-a6b3-6d5240148d28",
   "metadata": {},
   "outputs": [],
   "source": [
    "from transformers import AutoModelForSeq2SeqLM, AutoTokenizer\n",
    "from datasets import load_dataset"
   ]
  },
  {
   "cell_type": "code",
   "execution_count": 2,
   "id": "c7b9e013-286b-40f0-8cde-4d69894c9991",
   "metadata": {},
   "outputs": [],
   "source": [
    "# directory where to cache models\n",
    "cache_dir = '/home/jupyter/data/transformers'"
   ]
  },
  {
   "cell_type": "markdown",
   "id": "967b6f92-a3cd-4f28-88af-ec455de44bb6",
   "metadata": {},
   "source": [
    "## Pre-Trained Model Examples"
   ]
  },
  {
   "cell_type": "code",
   "execution_count": 4,
   "id": "c534c504-6591-4dea-937f-bca02fd28343",
   "metadata": {},
   "outputs": [],
   "source": [
    "def generate(prompt, max_new_tokens=100):\n",
    "    \n",
    "    inputs = tokenizer(prompt, return_tensors=\"pt\")\n",
    "    outputs = model.generate(**inputs, max_new_tokens=max_new_tokens)\n",
    "    \n",
    "    result = tokenizer.batch_decode(outputs, skip_special_tokens=True)\n",
    "    \n",
    "    return \"\\n\".join(result)"
   ]
  },
  {
   "cell_type": "code",
   "execution_count": 5,
   "id": "65807ec1-395f-42b4-b26c-d29a3bf46849",
   "metadata": {},
   "outputs": [],
   "source": [
    "# one of the available flan-t5 models\n",
    "checkpoint = \"google/flan-t5-base\""
   ]
  },
  {
   "cell_type": "code",
   "execution_count": 6,
   "id": "37c4b46a-563f-4784-96e7-242be8088aa4",
   "metadata": {},
   "outputs": [],
   "source": [
    "# loading model and tokenizer based on particular model checkpoint\n",
    "# tokenizer is used to preprocess text input in a way that the model can understand\n",
    "tokenizer = AutoTokenizer.from_pretrained(checkpoint)\n",
    "model = AutoModelForSeq2SeqLM.from_pretrained(checkpoint, cache_dir=cache_dir)"
   ]
  },
  {
   "cell_type": "code",
   "execution_count": 8,
   "id": "e6da7257-4305-444f-b008-23d8bf469d58",
   "metadata": {},
   "outputs": [
    {
     "data": {
      "text/plain": [
       "'Wie old sind Sie?'"
      ]
     },
     "execution_count": 8,
     "metadata": {},
     "output_type": "execute_result"
    }
   ],
   "source": [
    "prompt = \"translate English to German: How old are you?\"\n",
    "\n",
    "response = generate(prompt)\n",
    "response"
   ]
  },
  {
   "cell_type": "code",
   "execution_count": 9,
   "id": "87cbc9df-05d5-43fc-a101-1fd3541c9e9e",
   "metadata": {},
   "outputs": [
    {
     "data": {
      "text/plain": [
       "'Great pizza.'"
      ]
     },
     "execution_count": 9,
     "metadata": {},
     "output_type": "execute_result"
    }
   ],
   "source": [
    "prompt = \"summarize: The pizza at Roberts Pizza & Dough company is great, although expensive. I'd recommended the pepporoni.\"\n",
    "\n",
    "response = generate(prompt, max_new_tokens=10)\n",
    "response"
   ]
  },
  {
   "cell_type": "code",
   "execution_count": 10,
   "id": "66611346-80f0-408e-b035-a090eda97255",
   "metadata": {},
   "outputs": [
    {
     "data": {
      "text/plain": [
       "'SECTION 1. Section 10295.35 is added to the Public Contract Code, to read: 10295.35.'"
      ]
     },
     "execution_count": 10,
     "metadata": {},
     "output_type": "execute_result"
    }
   ],
   "source": [
    "prompt = \"summarize: The people of the State of California do enact as follows:\\n\\n\\nSECTION 1.\\nSection 10295.35 is added to the Public Contract Code, to read:\\n10295.35.\\n(a) (1) Notwithstanding any other law, a state agency shall not enter into any contract for the acquisition of goods or services in the amount of one hundred thousand dollars ($100,000) or more with a contractor that, in the provision of benefits, discriminates between employees on the basis of an employee’s or dependent’s actual or perceived gender identity, including, but not limited to, the employee’s or dependent’s identification as transgender.\\n(2) For purposes of this section, “contract” includes contracts with a cumulative amount of one hundred thousand dollars ($100,000) or more per contractor in each fiscal year.\\n(3) For purposes of this section, an employee health plan is discriminatory if the plan is not consistent with Section 1365.5 of the Health and Safety Code and Section 10140 of the Insurance Code.\\n(4) The requirements of this section shall apply only to those portions of a contractor’s operations that occur under any of the following conditions:\\n(A) Within the state.\\n(B) On real property outside the state if the property is owned by the state or if the state has a right to occupy the property, and if the contractor’s presence at that location is connected to a contract with the state.\\n(C) Elsewhere in the United States where work related to a state contract is being performed.\\n(b) Contractors shall treat as confidential, to the maximum extent allowed by law or by the requirement of the contractor’s insurance provider, any request by an employee or applicant for employment benefits or any documentation of eligibility for benefits submitted by an employee or applicant for employment.\\n(c) After taking all reasonable measures to find a contractor that complies with this section, as determined by the state agency, the requirements of this section may be waived under any of the following circumstances:\\n(1) There is only one prospective contractor willing to enter into a specific contract with the state agency.\"\n",
    "\n",
    "response = generate(prompt, max_new_tokens=100)\n",
    "response"
   ]
  },
  {
   "cell_type": "code",
   "execution_count": null,
   "id": "1e17908b-26c5-4050-823e-4459d2f97879",
   "metadata": {},
   "outputs": [],
   "source": [
    "prompt = \"A step by step recipe to make bolognese pasta do not repeat the steps:\"\n",
    "\n",
    "response = generate(prompt, max_new_tokens=100)\n",
    "response"
   ]
  },
  {
   "cell_type": "code",
   "execution_count": 12,
   "id": "3052aba0-61ec-48c5-91a0-dc8fccc4da64",
   "metadata": {},
   "outputs": [
    {
     "data": {
      "text/plain": [
       "'NLP and Conversation AI'"
      ]
     },
     "execution_count": 12,
     "metadata": {},
     "output_type": "execute_result"
    }
   ],
   "source": [
    "prompt = (\n",
    "    \"Question: What class do I TA for in the past? \"\n",
    "    \"Context: My name is Ignas and I currently a TA NLP and Conversation AI but have also TA'd Optimization and Simulation Methods in the past\"\n",
    ")\n",
    "\n",
    "response = generate(prompt, max_new_tokens=100)\n",
    "response"
   ]
  }
 ],
 "metadata": {
  "environment": {
   "kernel": "python3",
   "name": "common-cu110.m107",
   "type": "gcloud",
   "uri": "gcr.io/deeplearning-platform-release/base-cu110:m107"
  },
  "kernelspec": {
   "display_name": "Python 3",
   "language": "python",
   "name": "python3"
  },
  "language_info": {
   "codemirror_mode": {
    "name": "ipython",
    "version": 3
   },
   "file_extension": ".py",
   "mimetype": "text/x-python",
   "name": "python",
   "nbconvert_exporter": "python",
   "pygments_lexer": "ipython3",
   "version": "3.7.12"
  }
 },
 "nbformat": 4,
 "nbformat_minor": 5
}
