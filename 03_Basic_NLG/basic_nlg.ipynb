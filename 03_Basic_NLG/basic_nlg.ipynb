{
 "cells": [
  {
   "cell_type": "code",
   "execution_count": null,
   "id": "28aa50bf-efbd-4271-840b-e6a48e4085a6",
   "metadata": {},
   "outputs": [],
   "source": [
    "from transformers import GPT2LMHeadModel, GPT2Tokenizer\n",
    "\n",
    "# Load the pre-trained model and tokenizer\n",
    "model = GPT2LMHeadModel.from_pretrained(\"gpt2\")\n",
    "tokenizer = GPT2Tokenizer.from_pretrained(\"gpt2\")\n",
    "\n",
    "# Set up the API call\n",
    "def get_response(prompt):\n",
    "    inputs = tokenizer.encode(prompt, return_tensors=\"pt\")\n",
    "    outputs = model.generate(inputs, max_length=100, num_return_sequences=1)\n",
    "    response = tokenizer.decode(outputs[0], skip_special_tokens=True)\n",
    "    return response"
   ]
  },
  {
   "cell_type": "markdown",
   "id": "c3ae45e5-c6ef-4856-a5e8-aefe8dfe3591",
   "metadata": {
    "tags": []
   },
   "source": [
    "## GPT2 Model"
   ]
  },
  {
   "cell_type": "code",
   "execution_count": 2,
   "id": "4b26416c-fb54-4d00-95d9-c8f39d6e3e47",
   "metadata": {},
   "outputs": [
    {
     "name": "stderr",
     "output_type": "stream",
     "text": [
      "The attention mask and the pad token id were not set. As a consequence, you may observe unexpected behavior. Please pass your input's `attention_mask` to obtain reliable results.\n",
      "Setting `pad_token_id` to `eos_token_id`:50256 for open-end generation.\n"
     ]
    },
    {
     "name": "stdout",
     "output_type": "stream",
     "text": [
      "Respond to this email: Hey when do you want to meet tomorrow? I'm sure you can find a place to meet me. I'm sure you can find a place to meet me. I'm sure you can find a place to meet me. I'm sure you can find a place to meet me. I'm sure you can find a place to meet me. I'm sure you can find a place to meet me. I'm sure you can find a place to meet me. I\n"
     ]
    }
   ],
   "source": [
    "# Send a prompt and get a response\n",
    "prompt = \"Respond to this email: Hey when do you want to meet tomorrow?\"\n",
    "response = get_response(prompt)\n",
    "\n",
    "# Print the response\n",
    "print(response)"
   ]
  },
  {
   "cell_type": "markdown",
   "id": "883d30f4-9661-402e-83f6-610de06486ae",
   "metadata": {},
   "source": [
    "## T5 Model"
   ]
  },
  {
   "cell_type": "code",
   "execution_count": 3,
   "id": "27671f81-3d91-4406-b3bf-07a6eb5ee0f0",
   "metadata": {},
   "outputs": [],
   "source": [
    "from transformers import CTRLConfig, CTRLModel\n",
    "\n",
    "def generate(prompt, max_new_tokens=100):\n",
    "    \n",
    "    inputs = tokenizer(prompt, return_tensors=\"pt\")\n",
    "    outputs = model.generate(**inputs, max_new_tokens=max_new_tokens)\n",
    "    \n",
    "    result = tokenizer.batch_decode(outputs, skip_special_tokens=True)\n",
    "    \n",
    "    return \"\\n\".join(result)"
   ]
  },
  {
   "cell_type": "code",
   "execution_count": 5,
   "id": "3bf7ced4-c005-4cd6-946b-73874b97da95",
   "metadata": {},
   "outputs": [],
   "source": [
    "from transformers import AutoModelForSeq2SeqLM, AutoTokenizer\n",
    "\n",
    "# one of the available flan-t5 models\n",
    "checkpoint = \"google/flan-t5-base\"\n",
    "\n",
    "# directory where to cache models\n",
    "cache_dir = '/home/jupyter/Hedwig/03_Basic_NLG'"
   ]
  },
  {
   "cell_type": "code",
   "execution_count": 6,
   "id": "1124c622-bdd1-435b-ba4c-c904f9d976d1",
   "metadata": {},
   "outputs": [
    {
     "data": {
      "application/vnd.jupyter.widget-view+json": {
       "model_id": "11d292a0e657454ea18345b9714149d4",
       "version_major": 2,
       "version_minor": 0
      },
      "text/plain": [
       "Downloading (…)lve/main/config.json:   0%|          | 0.00/1.40k [00:00<?, ?B/s]"
      ]
     },
     "metadata": {},
     "output_type": "display_data"
    },
    {
     "data": {
      "application/vnd.jupyter.widget-view+json": {
       "model_id": "aec9778de3a84a6fb85e590dade83e99",
       "version_major": 2,
       "version_minor": 0
      },
      "text/plain": [
       "Downloading pytorch_model.bin:   0%|          | 0.00/990M [00:00<?, ?B/s]"
      ]
     },
     "metadata": {},
     "output_type": "display_data"
    },
    {
     "data": {
      "application/vnd.jupyter.widget-view+json": {
       "model_id": "f3aa8feccb6441b2a8ee6fe0e4d64b75",
       "version_major": 2,
       "version_minor": 0
      },
      "text/plain": [
       "Downloading (…)neration_config.json:   0%|          | 0.00/147 [00:00<?, ?B/s]"
      ]
     },
     "metadata": {},
     "output_type": "display_data"
    }
   ],
   "source": [
    "# loading model and tokenizer based on particular model checkpoint\n",
    "# tokenizer is used to preprocess text input in a way that the model can understand\n",
    "tokenizer = AutoTokenizer.from_pretrained(checkpoint)\n",
    "model = AutoModelForSeq2SeqLM.from_pretrained(checkpoint, cache_dir=cache_dir)"
   ]
  },
  {
   "cell_type": "code",
   "execution_count": 7,
   "id": "89ad1773-60a6-489a-9393-cc3b15a84899",
   "metadata": {},
   "outputs": [
    {
     "data": {
      "text/plain": [
       "\"I'm going to be at the zoo tomorrow.\""
      ]
     },
     "execution_count": 7,
     "metadata": {},
     "output_type": "execute_result"
    }
   ],
   "source": [
    "prompt = \"Respond to this email: Hey when do you want to meet tomorrow?\"\n",
    "\n",
    "response = generate(prompt)\n",
    "response"
   ]
  }
 ],
 "metadata": {
  "environment": {
   "kernel": "python3",
   "name": "common-cpu.m107",
   "type": "gcloud",
   "uri": "gcr.io/deeplearning-platform-release/base-cpu:m107"
  },
  "kernelspec": {
   "display_name": "Python 3",
   "language": "python",
   "name": "python3"
  },
  "language_info": {
   "codemirror_mode": {
    "name": "ipython",
    "version": 3
   },
   "file_extension": ".py",
   "mimetype": "text/x-python",
   "name": "python",
   "nbconvert_exporter": "python",
   "pygments_lexer": "ipython3",
   "version": "3.7.12"
  }
 },
 "nbformat": 4,
 "nbformat_minor": 5
}
