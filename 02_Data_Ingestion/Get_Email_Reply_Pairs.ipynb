{
 "cells": [
  {
   "cell_type": "code",
   "execution_count": 1,
   "id": "63bd5b56-6641-4e59-a2bf-c74f1f0342de",
   "metadata": {},
   "outputs": [],
   "source": [
    "#!pip install google-cloud-storage\n",
    "import pandas as pd\n",
    "from google.cloud import storage\n",
    "# import os\n",
    "\n",
    "# os.environ[\"GOOGLE_APPLICATION_CREDENTIALS\"] = \"Hedwig/00_Data/msca310019-capstone-49b3-6876cdba6fac.json\""
   ]
  },
  {
   "cell_type": "code",
   "execution_count": 2,
   "id": "fdf3676a-8239-4f76-86ae-c3ce28cdf393",
   "metadata": {},
   "outputs": [],
   "source": [
    "client = storage.Client()\n",
    "bucket = client.get_bucket('user-scripts-msca310019-capstone-49b3')"
   ]
  },
  {
   "cell_type": "code",
   "execution_count": 3,
   "id": "14877c46-bc04-4d38-96af-6d7310078479",
   "metadata": {},
   "outputs": [],
   "source": [
    "blob = bucket.blob('data/conversation_emails.csv')\n",
    "content = blob.download_as_string()"
   ]
  },
  {
   "cell_type": "code",
   "execution_count": 4,
   "id": "276493bb-25cb-4162-8903-72c1f6ee845a",
   "metadata": {},
   "outputs": [],
   "source": [
    "import io\n",
    "df = pd.read_csv(io.BytesIO(content))"
   ]
  },
  {
   "cell_type": "code",
   "execution_count": 6,
   "id": "7c743044-dc05-45e6-953f-3e2bcc8071ab",
   "metadata": {},
   "outputs": [],
   "source": [
    "df.drop_duplicates(subset=['message'], keep='first',inplace=True)"
   ]
  },
  {
   "cell_type": "code",
   "execution_count": 10,
   "id": "c425cc0d-35b7-4235-85b7-61a2349117db",
   "metadata": {},
   "outputs": [
    {
     "data": {
      "text/html": [
       "<div>\n",
       "<style scoped>\n",
       "    .dataframe tbody tr th:only-of-type {\n",
       "        vertical-align: middle;\n",
       "    }\n",
       "\n",
       "    .dataframe tbody tr th {\n",
       "        vertical-align: top;\n",
       "    }\n",
       "\n",
       "    .dataframe thead th {\n",
       "        text-align: right;\n",
       "    }\n",
       "</style>\n",
       "<table border=\"1\" class=\"dataframe\">\n",
       "  <thead>\n",
       "    <tr style=\"text-align: right;\">\n",
       "      <th></th>\n",
       "      <th>Unnamed: 0</th>\n",
       "      <th>time</th>\n",
       "      <th>subject</th>\n",
       "      <th>thread</th>\n",
       "      <th>sender</th>\n",
       "      <th>recipient</th>\n",
       "      <th>cc</th>\n",
       "      <th>bcc</th>\n",
       "      <th>message</th>\n",
       "    </tr>\n",
       "  </thead>\n",
       "  <tbody>\n",
       "    <tr>\n",
       "      <th>8</th>\n",
       "      <td>8</td>\n",
       "      <td>Tue, 17 Oct 2000 02:26:00 -0700 (PDT)</td>\n",
       "      <td>Re: High Speed Internet Access</td>\n",
       "      <td>5</td>\n",
       "      <td>0</td>\n",
       "      <td>[9]</td>\n",
       "      <td>[]</td>\n",
       "      <td>[]</td>\n",
       "      <td>1. login: pallen pw: ke9davis I don't think th...</td>\n",
       "    </tr>\n",
       "    <tr>\n",
       "      <th>77249</th>\n",
       "      <td>153335</td>\n",
       "      <td>Mon, 23 Oct 2000 07:48:00 -0700 (PDT)</td>\n",
       "      <td>High Speed Internet Access</td>\n",
       "      <td>5</td>\n",
       "      <td>3678</td>\n",
       "      <td>[1681]</td>\n",
       "      <td>[]</td>\n",
       "      <td>[]</td>\n",
       "      <td>Could you please respond for me. Mark ----- Fo...</td>\n",
       "    </tr>\n",
       "  </tbody>\n",
       "</table>\n",
       "</div>"
      ],
      "text/plain": [
       "       Unnamed: 0                                   time  \\\n",
       "8               8  Tue, 17 Oct 2000 02:26:00 -0700 (PDT)   \n",
       "77249      153335  Mon, 23 Oct 2000 07:48:00 -0700 (PDT)   \n",
       "\n",
       "                              subject  thread  sender recipient  cc bcc  \\\n",
       "8      Re: High Speed Internet Access       5       0       [9]  []  []   \n",
       "77249      High Speed Internet Access       5    3678    [1681]  []  []   \n",
       "\n",
       "                                                 message  \n",
       "8      1. login: pallen pw: ke9davis I don't think th...  \n",
       "77249  Could you please respond for me. Mark ----- Fo...  "
      ]
     },
     "execution_count": 10,
     "metadata": {},
     "output_type": "execute_result"
    }
   ],
   "source": [
    "df[df.thread==5].head(30)"
   ]
  }
 ],
 "metadata": {
  "environment": {
   "kernel": "python3",
   "name": "common-cpu.m107",
   "type": "gcloud",
   "uri": "gcr.io/deeplearning-platform-release/base-cpu:m107"
  },
  "kernelspec": {
   "display_name": "Python 3",
   "language": "python",
   "name": "python3"
  },
  "language_info": {
   "codemirror_mode": {
    "name": "ipython",
    "version": 3
   },
   "file_extension": ".py",
   "mimetype": "text/x-python",
   "name": "python",
   "nbconvert_exporter": "python",
   "pygments_lexer": "ipython3",
   "version": "3.7.12"
  }
 },
 "nbformat": 4,
 "nbformat_minor": 5
}
