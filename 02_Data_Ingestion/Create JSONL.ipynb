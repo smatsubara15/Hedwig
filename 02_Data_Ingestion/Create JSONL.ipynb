{
 "cells": [
  {
   "cell_type": "code",
   "execution_count": 45,
   "id": "4da9b1a4",
   "metadata": {},
   "outputs": [],
   "source": [
    "import pandas as pd\n",
    "pd.set_option(\"display.max_colwidth\", None)"
   ]
  },
  {
   "cell_type": "code",
   "execution_count": 46,
   "id": "9b64efa3",
   "metadata": {},
   "outputs": [],
   "source": [
    "# message_replies = pd.read_csv('/Users/scottsmacbook/capstone/00_Data/data_data_message_reply_pairs_cleaned.csv')\n",
    "message_replies = pd.read_csv('/Users/kshitijmittal/Documents/UChicago Acad/Hedwig_AI/Hedwig/00_Data/data_message_reply_pairs_cleaned.csv')"
   ]
  },
  {
   "cell_type": "code",
   "execution_count": 47,
   "id": "7c077abe",
   "metadata": {},
   "outputs": [
    {
     "data": {
      "text/plain": [
       "36"
      ]
     },
     "execution_count": 47,
     "metadata": {},
     "output_type": "execute_result"
    }
   ],
   "source": [
    "list(message_replies.thread.unique())[4]"
   ]
  },
  {
   "cell_type": "code",
   "execution_count": 48,
   "id": "e22da82d",
   "metadata": {},
   "outputs": [
    {
     "data": {
      "text/html": [
       "<div>\n",
       "<style scoped>\n",
       "    .dataframe tbody tr th:only-of-type {\n",
       "        vertical-align: middle;\n",
       "    }\n",
       "\n",
       "    .dataframe tbody tr th {\n",
       "        vertical-align: top;\n",
       "    }\n",
       "\n",
       "    .dataframe thead th {\n",
       "        text-align: right;\n",
       "    }\n",
       "</style>\n",
       "<table border=\"1\" class=\"dataframe\">\n",
       "  <thead>\n",
       "    <tr style=\"text-align: right;\">\n",
       "      <th></th>\n",
       "      <th>Unnamed: 0</th>\n",
       "      <th>time</th>\n",
       "      <th>subject</th>\n",
       "      <th>thread</th>\n",
       "      <th>sender</th>\n",
       "      <th>recipient</th>\n",
       "      <th>message</th>\n",
       "      <th>reply_time</th>\n",
       "      <th>reply_sender</th>\n",
       "      <th>reply_recipient</th>\n",
       "      <th>reply_message</th>\n",
       "    </tr>\n",
       "  </thead>\n",
       "  <tbody>\n",
       "    <tr>\n",
       "      <th>70</th>\n",
       "      <td>75</td>\n",
       "      <td>2000-10-26 04:09:00-07:00</td>\n",
       "      <td>(No Subject)</td>\n",
       "      <td>36</td>\n",
       "      <td>18258</td>\n",
       "      <td>[13140]</td>\n",
       "      <td>Hi Mark, I'm really sorry to have heard about your Dad. I know I'm just one on a long list of people that always enjoyed his company, hospitality and high spirits he always treated me like a bro and I know how much he meant to you. I'm heading north to Humboldt with Stacey this afternoon (been in Sac all week) and will probably be there for a little while. Be sure to let me know where you're gonna be, 'cause I plan on heading further north sometime. Hope to see you soon, and I'll be in touch until then   Marc Get FREE Email/Voicemail with 15MB at Lycos Communications at http://comm.lycos.com</td>\n",
       "      <td>2000-11-05 23:22:00-08:00</td>\n",
       "      <td>13140</td>\n",
       "      <td>[18258]</td>\n",
       "      <td>Dude thanks for the words. I appreciate. It has been a tough month. I am back in portland for good now and would love to see you if your time frame allows. How long are you in the state? I or have a wierd work schedule in which I work three days on t hen two days off for four shifts in a row nt then get a six day break. Why don't you give me a call at 503 228 7767 or on my cell at 503 702 0463 some time this evening or in the next few days. Hope to see you while you are here</td>\n",
       "    </tr>\n",
       "  </tbody>\n",
       "</table>\n",
       "</div>"
      ],
      "text/plain": [
       "    Unnamed: 0                       time       subject  thread  sender  \\\n",
       "70          75  2000-10-26 04:09:00-07:00  (No Subject)      36   18258   \n",
       "\n",
       "   recipient  \\\n",
       "70   [13140]   \n",
       "\n",
       "                                                                                                                                                                                                                                                                                                                                                                                                                                                                                                                                                                                                                   message  \\\n",
       "70  Hi Mark, I'm really sorry to have heard about your Dad. I know I'm just one on a long list of people that always enjoyed his company, hospitality and high spirits he always treated me like a bro and I know how much he meant to you. I'm heading north to Humboldt with Stacey this afternoon (been in Sac all week) and will probably be there for a little while. Be sure to let me know where you're gonna be, 'cause I plan on heading further north sometime. Hope to see you soon, and I'll be in touch until then   Marc Get FREE Email/Voicemail with 15MB at Lycos Communications at http://comm.lycos.com   \n",
       "\n",
       "                   reply_time  reply_sender reply_recipient  \\\n",
       "70  2000-11-05 23:22:00-08:00         13140         [18258]   \n",
       "\n",
       "                                                                                                                                                                                                                                                                                                                                                                                                                                                                                      reply_message  \n",
       "70  Dude thanks for the words. I appreciate. It has been a tough month. I am back in portland for good now and would love to see you if your time frame allows. How long are you in the state? I or have a wierd work schedule in which I work three days on t hen two days off for four shifts in a row nt then get a six day break. Why don't you give me a call at 503 228 7767 or on my cell at 503 702 0463 some time this evening or in the next few days. Hope to see you while you are here  "
      ]
     },
     "execution_count": 48,
     "metadata": {},
     "output_type": "execute_result"
    }
   ],
   "source": [
    "message_replies[message_replies.thread==36]"
   ]
  },
  {
   "cell_type": "code",
   "execution_count": 49,
   "id": "cead1f43",
   "metadata": {},
   "outputs": [
    {
     "name": "stderr",
     "output_type": "stream",
     "text": [
      "/var/folders/bc/l3jxf3wn11n_gkl2jz5m2vph0000gn/T/ipykernel_59537/4012199754.py:2: SettingWithCopyWarning: \n",
      "A value is trying to be set on a copy of a slice from a DataFrame\n",
      "\n",
      "See the caveats in the documentation: https://pandas.pydata.org/pandas-docs/stable/user_guide/indexing.html#returning-a-view-versus-a-copy\n",
      "  m_r_original.rename(columns = {'message':'input_text','reply_message':'output_text'},inplace=True)\n"
     ]
    }
   ],
   "source": [
    "m_r_original = message_replies[['message','reply_message']]\n",
    "m_r_original.rename(columns = {'message':'input_text','reply_message':'output_text'},inplace=True)"
   ]
  },
  {
   "cell_type": "code",
   "execution_count": 50,
   "id": "981660ca",
   "metadata": {},
   "outputs": [],
   "source": [
    "m_r_original = m_r_original.reset_index(drop=True)"
   ]
  },
  {
   "cell_type": "code",
   "execution_count": 51,
   "id": "bfdf7c81",
   "metadata": {},
   "outputs": [],
   "source": [
    "question = \"instruction: Respond to the following email in a professional corporate manner. email: \"\n",
    "\n",
    "m_r_original[\"input_text\"] = m_r_original[\"input_text\"].apply(lambda x: question + str(x))"
   ]
  },
  {
   "cell_type": "code",
   "execution_count": 52,
   "id": "e0c2b2f9",
   "metadata": {},
   "outputs": [
    {
     "data": {
      "text/html": [
       "<div>\n",
       "<style scoped>\n",
       "    .dataframe tbody tr th:only-of-type {\n",
       "        vertical-align: middle;\n",
       "    }\n",
       "\n",
       "    .dataframe tbody tr th {\n",
       "        vertical-align: top;\n",
       "    }\n",
       "\n",
       "    .dataframe thead th {\n",
       "        text-align: right;\n",
       "    }\n",
       "</style>\n",
       "<table border=\"1\" class=\"dataframe\">\n",
       "  <thead>\n",
       "    <tr style=\"text-align: right;\">\n",
       "      <th></th>\n",
       "      <th>input_text</th>\n",
       "      <th>output_text</th>\n",
       "    </tr>\n",
       "  </thead>\n",
       "  <tbody>\n",
       "    <tr>\n",
       "      <th>0</th>\n",
       "      <td>instruction: Respond to the following email in a professional corporate manner. email: How about this Friday ? Julie has not left yet. She was 2 days away from leaving to start school on June 7th when she, quite by accident, looked at the school schedule for the first time in several weeks. Now mind you she had lined up a babysitter ,lined up a place to stay, arranged to get a key to start the 7th. The schedule says the school starts the 14th. Pretty funny. How many years will it take her to live this down?. Enron Capital &amp; Trade Resources Corp.</td>\n",
       "      <td>when? how are you and your family? is julie gone?</td>\n",
       "    </tr>\n",
       "    <tr>\n",
       "      <th>1</th>\n",
       "      <td>instruction: Respond to the following email in a professional corporate manner. email: when? how are you and your family? is julie gone?</td>\n",
       "      <td>Today is bad. Tommorrow I will call you.</td>\n",
       "    </tr>\n",
       "    <tr>\n",
       "      <th>2</th>\n",
       "      <td>instruction: Respond to the following email in a professional corporate manner. email: when? how are you and your family? is julie gone?</td>\n",
       "      <td>Do you have lunch plans today?</td>\n",
       "    </tr>\n",
       "    <tr>\n",
       "      <th>3</th>\n",
       "      <td>instruction: Respond to the following email in a professional corporate manner. email: when? how are you and your family? is julie gone?</td>\n",
       "      <td>Really? I'd feel like a mooch. Lets have lunch next week. Any day but Monday or Thurs.</td>\n",
       "    </tr>\n",
       "    <tr>\n",
       "      <th>4</th>\n",
       "      <td>instruction: Respond to the following email in a professional corporate manner. email: when? how are you and your family? is julie gone?</td>\n",
       "      <td>Tues.is good. I'll call you.</td>\n",
       "    </tr>\n",
       "    <tr>\n",
       "      <th>...</th>\n",
       "      <td>...</td>\n",
       "      <td>...</td>\n",
       "    </tr>\n",
       "    <tr>\n",
       "      <th>24635</th>\n",
       "      <td>instruction: Respond to the following email in a professional corporate manner. email: John, Please review the list below and let me know if there are any changes for Stack Manager access. Ryan WattRWATTAECO Cash Trader Mike CowanMCOWANAECO Cash Trader Chris LambieCLAMBIEAECO Term Trader Stephane BrodeurSBRODEURBC Cash Trader Chad ClarkCCLARK5BC Cash Trader Chris DorlandCDORLANBC Term Trader Lon DraperLDRAPEROptions Trader Cooper RicheyCRICHEYPower Trader John ZufferliJZUFFERVP Canada Trading Thank you, Stephanie Sever EnronOnline 713 853 3465</td>\n",
       "      <td>Stephane Brodeur should be removed from the list. I am not sure about Chris Lambie, whether he is joining the company. Garrett Trip should be added as the Ontario Power trader (that market won't open until May 2002)</td>\n",
       "    </tr>\n",
       "    <tr>\n",
       "      <th>24636</th>\n",
       "      <td>instruction: Respond to the following email in a professional corporate manner. email: Stephane Brodeur should be removed from the list. I am not sure about Chris Lambie, whether he is joining the company. Garrett Trip should be added as the Ontario Power trader (that market won't open until May 2002)</td>\n",
       "      <td>Thank you. Please let me know about Chris Lambie if he does not join UBS.</td>\n",
       "    </tr>\n",
       "    <tr>\n",
       "      <th>24637</th>\n",
       "      <td>instruction: Respond to the following email in a professional corporate manner. email: that was our plan but I am not sure whether UBS has the proper Canadian corporate structure to allow to do that yet</td>\n",
       "      <td>John, I understand Peter Keohane is here today and through the weekend if necessary to complete contracts for Canada with UBS legal. I am hoping that completion of contracts includes identification of corporate entity (vain hope?) Dave</td>\n",
       "    </tr>\n",
       "    <tr>\n",
       "      <th>24638</th>\n",
       "      <td>instruction: Respond to the following email in a professional corporate manner. email: Peggy &amp; John The estate's DPR reporting requirement to risk controls in Houston is going to be twice a week. Consistent with this I would also like to change our internal DPR reporting process for ECC Power Estate from DAILY to twice per week. Note that curves and an official calc will still be required daily. I would like to make this change starting Feb 1. Please let me know if you are okay with this. Kathy</td>\n",
       "      <td>ok</td>\n",
       "    </tr>\n",
       "    <tr>\n",
       "      <th>24639</th>\n",
       "      <td>instruction: Respond to the following email in a professional corporate manner. email: Further to our meeting today, please find attached the list of contracts ECC is taking the view are properly terminated and the dates of such termination (in ECC's opinion). This list was last updated on January 9, 2002 before I went away, so Bryan, if there are any other counterparties that should be added to the list, can you please let Kyle, Eric, John and myself know as soon as possible? Thanks Greg</td>\n",
       "      <td>according to the packet that was distributed in the meeting today with BC, it appears that Calpine, El Paso, Williams, AEC Marketing, AEC Storage are all FEB 1, this doesn't jive with what you just sent, wassup?</td>\n",
       "    </tr>\n",
       "  </tbody>\n",
       "</table>\n",
       "<p>24640 rows × 2 columns</p>\n",
       "</div>"
      ],
      "text/plain": [
       "                                                                                                                                                                                                                                                                                                                                                                                                                                                                                                                                                                      input_text  \\\n",
       "0      instruction: Respond to the following email in a professional corporate manner. email: How about this Friday ? Julie has not left yet. She was 2 days away from leaving to start school on June 7th when she, quite by accident, looked at the school schedule for the first time in several weeks. Now mind you she had lined up a babysitter ,lined up a place to stay, arranged to get a key to start the 7th. The schedule says the school starts the 14th. Pretty funny. How many years will it take her to live this down?. Enron Capital & Trade Resources Corp.     \n",
       "1                                                                                                                                                                                                                                                                                                                                                                                                                                      instruction: Respond to the following email in a professional corporate manner. email: when? how are you and your family? is julie gone?    \n",
       "2                                                                                                                                                                                                                                                                                                                                                                                                                                      instruction: Respond to the following email in a professional corporate manner. email: when? how are you and your family? is julie gone?    \n",
       "3                                                                                                                                                                                                                                                                                                                                                                                                                                      instruction: Respond to the following email in a professional corporate manner. email: when? how are you and your family? is julie gone?    \n",
       "4                                                                                                                                                                                                                                                                                                                                                                                                                                      instruction: Respond to the following email in a professional corporate manner. email: when? how are you and your family? is julie gone?    \n",
       "...                                                                                                                                                                                                                                                                                                                                                                                                                                                                                                                                                                          ...   \n",
       "24635      instruction: Respond to the following email in a professional corporate manner. email: John, Please review the list below and let me know if there are any changes for Stack Manager access. Ryan WattRWATTAECO Cash Trader Mike CowanMCOWANAECO Cash Trader Chris LambieCLAMBIEAECO Term Trader Stephane BrodeurSBRODEURBC Cash Trader Chad ClarkCCLARK5BC Cash Trader Chris DorlandCDORLANBC Term Trader Lon DraperLDRAPEROptions Trader Cooper RicheyCRICHEYPower Trader John ZufferliJZUFFERVP Canada Trading Thank you, Stephanie Sever EnronOnline 713 853 3465   \n",
       "24636                                                                                                                                                                                                                                                            instruction: Respond to the following email in a professional corporate manner. email: Stephane Brodeur should be removed from the list. I am not sure about Chris Lambie, whether he is joining the company. Garrett Trip should be added as the Ontario Power trader (that market won't open until May 2002)    \n",
       "24637                                                                                                                                                                                                                                                                                                                                                                instruction: Respond to the following email in a professional corporate manner. email: that was our plan but I am not sure whether UBS has the proper Canadian corporate structure to allow to do that yet    \n",
       "24638                                                       instruction: Respond to the following email in a professional corporate manner. email: Peggy & John The estate's DPR reporting requirement to risk controls in Houston is going to be twice a week. Consistent with this I would also like to change our internal DPR reporting process for ECC Power Estate from DAILY to twice per week. Note that curves and an official calc will still be required daily. I would like to make this change starting Feb 1. Please let me know if you are okay with this. Kathy    \n",
       "24639                                                             instruction: Respond to the following email in a professional corporate manner. email: Further to our meeting today, please find attached the list of contracts ECC is taking the view are properly terminated and the dates of such termination (in ECC's opinion). This list was last updated on January 9, 2002 before I went away, so Bryan, if there are any other counterparties that should be added to the list, can you please let Kyle, Eric, John and myself know as soon as possible? Thanks Greg    \n",
       "\n",
       "                                                                                                                                                                                                                                        output_text  \n",
       "0                                                                                                                                                                                                when? how are you and your family? is julie gone?   \n",
       "1                                                                                                                                                                                                          Today is bad. Tommorrow I will call you.  \n",
       "2                                                                                                                                                                                                                    Do you have lunch plans today?  \n",
       "3                                                                                                                                                            Really? I'd feel like a mooch. Lets have lunch next week. Any day but Monday or Thurs.  \n",
       "4                                                                                                                                                                                                                      Tues.is good. I'll call you.  \n",
       "...                                                                                                                                                                                                                                             ...  \n",
       "24635                      Stephane Brodeur should be removed from the list. I am not sure about Chris Lambie, whether he is joining the company. Garrett Trip should be added as the Ontario Power trader (that market won't open until May 2002)   \n",
       "24636                                                                                                                                                                    Thank you. Please let me know about Chris Lambie if he does not join UBS.   \n",
       "24637  John, I understand Peter Keohane is here today and through the weekend if necessary to complete contracts for Canada with UBS legal. I am hoping that completion of contracts includes identification of corporate entity (vain hope?) Dave   \n",
       "24638                                                                                                                                                                                                                                           ok   \n",
       "24639                          according to the packet that was distributed in the meeting today with BC, it appears that Calpine, El Paso, Williams, AEC Marketing, AEC Storage are all FEB 1, this doesn't jive with what you just sent, wassup?   \n",
       "\n",
       "[24640 rows x 2 columns]"
      ]
     },
     "execution_count": 52,
     "metadata": {},
     "output_type": "execute_result"
    }
   ],
   "source": [
    "m_r_original"
   ]
  },
  {
   "cell_type": "code",
   "execution_count": 53,
   "id": "2a9c661c",
   "metadata": {},
   "outputs": [],
   "source": [
    "# m_r_original.to_csv(\"/Users/scottsmacbook/capstone/00_Data/just_message_reply.csv\")\n",
    "\n",
    "m_r_original=m_r_original.sample(10_000)\n",
    "m_r_original.to_csv(\"/Users/kshitijmittal/Documents/UChicago Acad/Hedwig_AI/Hedwig/00_Data/message_reply_full.csv\")"
   ]
  },
  {
   "cell_type": "code",
   "execution_count": 54,
   "id": "5269b9d8",
   "metadata": {},
   "outputs": [],
   "source": [
    "import csv\n",
    "import json\n",
    "\n",
    "# csv_file_path = \"/Users/scottsmacbook/capstone/00_Data/just_message_reply.csv\"\n",
    "# jsonl_file_path = \"/Users/scottsmacbook/capstone/00_Data/just_message_reply.jsonl\"\n",
    "# updated_jsonl_file_path = \"/Users/scottsmacbook/capstone/00_Data/just_message_reply_new.jsonl\"\n",
    "\n",
    "csv_file_path = \"/Users/kshitijmittal/Documents/UChicago Acad/Hedwig_AI/Hedwig/00_Data/message_reply_full.csv\"\n",
    "jsonl_file_path = \"/Users/kshitijmittal/Documents/UChicago Acad/Hedwig_AI/Hedwig/00_Data/message_reply_full.jsonl\"\n",
    "updated_jsonl_file_path = \"/Users/kshitijmittal/Documents/UChicago Acad/Hedwig_AI/Hedwig/00_Data/message_reply_full_new.jsonl\"\n",
    "\n",
    "\n",
    "# Open CSV file for reading and JSONL file for writing\n",
    "with open(csv_file_path, 'r') as csv_file, open(jsonl_file_path, 'w') as jsonl_file:\n",
    "    # Parse CSV file as a dictionary\n",
    "    csv_reader = csv.DictReader(csv_file)\n",
    "    # Loop through each row in the CSV file\n",
    "    for row in csv_reader:\n",
    "        # Convert the row to a JSON string\n",
    "        json_string = json.dumps(row)\n",
    "        # Write the JSON string to the JSONL file, followed by a newline character\n",
    "        jsonl_file.write(json_string + '\\n')"
   ]
  },
  {
   "cell_type": "code",
   "execution_count": 55,
   "id": "b8035ec3",
   "metadata": {},
   "outputs": [],
   "source": [
    "# loop through each line in the input JSONL file\n",
    "with open(jsonl_file_path, 'r') as jsonl_file, \\\n",
    "     open(updated_jsonl_file_path, 'w') as updated_jsonl_file:\n",
    "    for line in jsonl_file:\n",
    "        # parse the line as a JSON object\n",
    "        data = json.loads(line)\n",
    "\n",
    "        # remove the empty key from the dictionary\n",
    "        data.pop('', None)\n",
    "\n",
    "        # write the updated dictionary as a new line in the output JSONL file\n",
    "        updated_jsonl_file.write(json.dumps(data) + \"\\n\")"
   ]
  }
 ],
 "metadata": {
  "kernelspec": {
   "display_name": "MSCA_HEDW",
   "language": "python",
   "name": "python3"
  },
  "language_info": {
   "codemirror_mode": {
    "name": "ipython",
    "version": 3
   },
   "file_extension": ".py",
   "mimetype": "text/x-python",
   "name": "python",
   "nbconvert_exporter": "python",
   "pygments_lexer": "ipython3",
   "version": "3.9.16 (main, Mar  8 2023, 04:29:44) \n[Clang 14.0.6 ]"
  },
  "vscode": {
   "interpreter": {
    "hash": "7b3bfb2f1c6c40e251d88f16f93dccb101a0c97fda1372b1118b2d882ff1707e"
   }
  }
 },
 "nbformat": 4,
 "nbformat_minor": 5
}
