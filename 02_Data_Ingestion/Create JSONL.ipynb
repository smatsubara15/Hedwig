{
 "cells": [
  {
   "cell_type": "code",
   "execution_count": 1,
   "id": "17969e92",
   "metadata": {},
   "outputs": [],
   "source": [
    "import pandas as pd"
   ]
  },
  {
   "cell_type": "code",
   "execution_count": 2,
   "id": "50242377",
   "metadata": {},
   "outputs": [],
   "source": [
    "message_replies = pd.read_csv('/Users/scottsmacbook/capstone/00_Data/data_data_message_reply_pairs_cleaned.csv')"
   ]
  },
  {
   "cell_type": "code",
   "execution_count": 6,
   "id": "249c7626",
   "metadata": {},
   "outputs": [
    {
     "data": {
      "text/plain": [
       "36"
      ]
     },
     "execution_count": 6,
     "metadata": {},
     "output_type": "execute_result"
    }
   ],
   "source": [
    "list(message_replies.thread.unique())[4]"
   ]
  },
  {
   "cell_type": "code",
   "execution_count": 7,
   "id": "f5d3ed1d",
   "metadata": {},
   "outputs": [
    {
     "data": {
      "text/html": [
       "<div>\n",
       "<style scoped>\n",
       "    .dataframe tbody tr th:only-of-type {\n",
       "        vertical-align: middle;\n",
       "    }\n",
       "\n",
       "    .dataframe tbody tr th {\n",
       "        vertical-align: top;\n",
       "    }\n",
       "\n",
       "    .dataframe thead th {\n",
       "        text-align: right;\n",
       "    }\n",
       "</style>\n",
       "<table border=\"1\" class=\"dataframe\">\n",
       "  <thead>\n",
       "    <tr style=\"text-align: right;\">\n",
       "      <th></th>\n",
       "      <th>Unnamed: 0</th>\n",
       "      <th>time</th>\n",
       "      <th>subject</th>\n",
       "      <th>thread</th>\n",
       "      <th>sender</th>\n",
       "      <th>recipient</th>\n",
       "      <th>message</th>\n",
       "      <th>reply_time</th>\n",
       "      <th>reply_sender</th>\n",
       "      <th>reply_recipient</th>\n",
       "      <th>reply_message</th>\n",
       "    </tr>\n",
       "  </thead>\n",
       "  <tbody>\n",
       "    <tr>\n",
       "      <th>70</th>\n",
       "      <td>75</td>\n",
       "      <td>2000-10-26 04:09:00-07:00</td>\n",
       "      <td>(No Subject)</td>\n",
       "      <td>36</td>\n",
       "      <td>18258</td>\n",
       "      <td>[13140]</td>\n",
       "      <td>Hi Mark, I'm really sorry to have heard about ...</td>\n",
       "      <td>2000-11-05 23:22:00-08:00</td>\n",
       "      <td>13140</td>\n",
       "      <td>[18258]</td>\n",
       "      <td>Dude thanks for the words. I appreciate. It ha...</td>\n",
       "    </tr>\n",
       "  </tbody>\n",
       "</table>\n",
       "</div>"
      ],
      "text/plain": [
       "    Unnamed: 0                       time       subject  thread  sender  \\\n",
       "70          75  2000-10-26 04:09:00-07:00  (No Subject)      36   18258   \n",
       "\n",
       "   recipient                                            message  \\\n",
       "70   [13140]  Hi Mark, I'm really sorry to have heard about ...   \n",
       "\n",
       "                   reply_time  reply_sender reply_recipient  \\\n",
       "70  2000-11-05 23:22:00-08:00         13140         [18258]   \n",
       "\n",
       "                                        reply_message  \n",
       "70  Dude thanks for the words. I appreciate. It ha...  "
      ]
     },
     "execution_count": 7,
     "metadata": {},
     "output_type": "execute_result"
    }
   ],
   "source": [
    "message_replies[message_replies.thread==36]"
   ]
  },
  {
   "cell_type": "code",
   "execution_count": 16,
   "id": "03117f7a",
   "metadata": {},
   "outputs": [
    {
     "name": "stderr",
     "output_type": "stream",
     "text": [
      "/var/folders/p4/82nd8dg50fq_lzgh5s75s36h0000gn/T/ipykernel_11398/21801756.py:2: SettingWithCopyWarning: \n",
      "A value is trying to be set on a copy of a slice from a DataFrame\n",
      "\n",
      "See the caveats in the documentation: https://pandas.pydata.org/pandas-docs/stable/user_guide/indexing.html#returning-a-view-versus-a-copy\n",
      "  m_r.rename(columns = {'message':'input_data','reply_message':'output_data'},inplace=True)\n"
     ]
    },
    {
     "data": {
      "text/html": [
       "<div>\n",
       "<style scoped>\n",
       "    .dataframe tbody tr th:only-of-type {\n",
       "        vertical-align: middle;\n",
       "    }\n",
       "\n",
       "    .dataframe tbody tr th {\n",
       "        vertical-align: top;\n",
       "    }\n",
       "\n",
       "    .dataframe thead th {\n",
       "        text-align: right;\n",
       "    }\n",
       "</style>\n",
       "<table border=\"1\" class=\"dataframe\">\n",
       "  <thead>\n",
       "    <tr style=\"text-align: right;\">\n",
       "      <th></th>\n",
       "      <th>input_data</th>\n",
       "      <th>output_data</th>\n",
       "    </tr>\n",
       "  </thead>\n",
       "  <tbody>\n",
       "    <tr>\n",
       "      <th>0</th>\n",
       "      <td>How about this Friday ? Julie has not left yet...</td>\n",
       "      <td>when? how are you and your family? is julie go...</td>\n",
       "    </tr>\n",
       "    <tr>\n",
       "      <th>1</th>\n",
       "      <td>when? how are you and your family? is julie go...</td>\n",
       "      <td>Today is bad. Tommorrow I will call you.</td>\n",
       "    </tr>\n",
       "    <tr>\n",
       "      <th>2</th>\n",
       "      <td>when? how are you and your family? is julie go...</td>\n",
       "      <td>Do you have lunch plans today?</td>\n",
       "    </tr>\n",
       "    <tr>\n",
       "      <th>3</th>\n",
       "      <td>when? how are you and your family? is julie go...</td>\n",
       "      <td>Really? I'd feel like a mooch. Lets have lunch...</td>\n",
       "    </tr>\n",
       "    <tr>\n",
       "      <th>4</th>\n",
       "      <td>when? how are you and your family? is julie go...</td>\n",
       "      <td>Tues.is good. I'll call you.</td>\n",
       "    </tr>\n",
       "    <tr>\n",
       "      <th>...</th>\n",
       "      <td>...</td>\n",
       "      <td>...</td>\n",
       "    </tr>\n",
       "    <tr>\n",
       "      <th>24635</th>\n",
       "      <td>John, Please review the list below and let me ...</td>\n",
       "      <td>Stephane Brodeur should be removed from the li...</td>\n",
       "    </tr>\n",
       "    <tr>\n",
       "      <th>24636</th>\n",
       "      <td>Stephane Brodeur should be removed from the li...</td>\n",
       "      <td>Thank you. Please let me know about Chris Lamb...</td>\n",
       "    </tr>\n",
       "    <tr>\n",
       "      <th>24637</th>\n",
       "      <td>that was our plan but I am not sure whether UB...</td>\n",
       "      <td>John, I understand Peter Keohane is here today...</td>\n",
       "    </tr>\n",
       "    <tr>\n",
       "      <th>24638</th>\n",
       "      <td>Peggy &amp; John The estate's DPR reporting requir...</td>\n",
       "      <td>ok</td>\n",
       "    </tr>\n",
       "    <tr>\n",
       "      <th>24639</th>\n",
       "      <td>Further to our meeting today, please find atta...</td>\n",
       "      <td>according to the packet that was distributed ...</td>\n",
       "    </tr>\n",
       "  </tbody>\n",
       "</table>\n",
       "<p>24640 rows × 2 columns</p>\n",
       "</div>"
      ],
      "text/plain": [
       "                                              input_data  \\\n",
       "0      How about this Friday ? Julie has not left yet...   \n",
       "1      when? how are you and your family? is julie go...   \n",
       "2      when? how are you and your family? is julie go...   \n",
       "3      when? how are you and your family? is julie go...   \n",
       "4      when? how are you and your family? is julie go...   \n",
       "...                                                  ...   \n",
       "24635  John, Please review the list below and let me ...   \n",
       "24636  Stephane Brodeur should be removed from the li...   \n",
       "24637  that was our plan but I am not sure whether UB...   \n",
       "24638  Peggy & John The estate's DPR reporting requir...   \n",
       "24639  Further to our meeting today, please find atta...   \n",
       "\n",
       "                                             output_data  \n",
       "0      when? how are you and your family? is julie go...  \n",
       "1               Today is bad. Tommorrow I will call you.  \n",
       "2                         Do you have lunch plans today?  \n",
       "3      Really? I'd feel like a mooch. Lets have lunch...  \n",
       "4                           Tues.is good. I'll call you.  \n",
       "...                                                  ...  \n",
       "24635  Stephane Brodeur should be removed from the li...  \n",
       "24636  Thank you. Please let me know about Chris Lamb...  \n",
       "24637  John, I understand Peter Keohane is here today...  \n",
       "24638                                                ok   \n",
       "24639   according to the packet that was distributed ...  \n",
       "\n",
       "[24640 rows x 2 columns]"
      ]
     },
     "execution_count": 16,
     "metadata": {},
     "output_type": "execute_result"
    }
   ],
   "source": [
    "m_r = message_replies[['message','reply_message']]\n",
    "m_r.rename(columns = {'message':'input_data','reply_message':'output_data'},inplace=True)\n"
   ]
  },
  {
   "cell_type": "code",
   "execution_count": 21,
   "id": "e827d65a",
   "metadata": {},
   "outputs": [],
   "source": [
    "m_r = m_r.reset_index(drop=True)"
   ]
  },
  {
   "cell_type": "code",
   "execution_count": 40,
   "id": "c909f009",
   "metadata": {},
   "outputs": [],
   "source": [
    "prompt = \"Respond to the following email in a professional corporate manner:\"\n",
    "m_r[\"input_data\"] = m_r[\"input_data\"].apply(lambda x: prompt + str(x))"
   ]
  },
  {
   "cell_type": "code",
   "execution_count": 41,
   "id": "3a0063ce",
   "metadata": {},
   "outputs": [
    {
     "data": {
      "text/html": [
       "<div>\n",
       "<style scoped>\n",
       "    .dataframe tbody tr th:only-of-type {\n",
       "        vertical-align: middle;\n",
       "    }\n",
       "\n",
       "    .dataframe tbody tr th {\n",
       "        vertical-align: top;\n",
       "    }\n",
       "\n",
       "    .dataframe thead th {\n",
       "        text-align: right;\n",
       "    }\n",
       "</style>\n",
       "<table border=\"1\" class=\"dataframe\">\n",
       "  <thead>\n",
       "    <tr style=\"text-align: right;\">\n",
       "      <th></th>\n",
       "      <th>input_data</th>\n",
       "      <th>output_data</th>\n",
       "    </tr>\n",
       "  </thead>\n",
       "  <tbody>\n",
       "    <tr>\n",
       "      <th>0</th>\n",
       "      <td>Respond to the following email in a profession...</td>\n",
       "      <td>when? how are you and your family? is julie go...</td>\n",
       "    </tr>\n",
       "    <tr>\n",
       "      <th>1</th>\n",
       "      <td>Respond to the following email in a profession...</td>\n",
       "      <td>Today is bad. Tommorrow I will call you.</td>\n",
       "    </tr>\n",
       "    <tr>\n",
       "      <th>2</th>\n",
       "      <td>Respond to the following email in a profession...</td>\n",
       "      <td>Do you have lunch plans today?</td>\n",
       "    </tr>\n",
       "    <tr>\n",
       "      <th>3</th>\n",
       "      <td>Respond to the following email in a profession...</td>\n",
       "      <td>Really? I'd feel like a mooch. Lets have lunch...</td>\n",
       "    </tr>\n",
       "    <tr>\n",
       "      <th>4</th>\n",
       "      <td>Respond to the following email in a profession...</td>\n",
       "      <td>Tues.is good. I'll call you.</td>\n",
       "    </tr>\n",
       "    <tr>\n",
       "      <th>...</th>\n",
       "      <td>...</td>\n",
       "      <td>...</td>\n",
       "    </tr>\n",
       "    <tr>\n",
       "      <th>24635</th>\n",
       "      <td>Respond to the following email in a profession...</td>\n",
       "      <td>Stephane Brodeur should be removed from the li...</td>\n",
       "    </tr>\n",
       "    <tr>\n",
       "      <th>24636</th>\n",
       "      <td>Respond to the following email in a profession...</td>\n",
       "      <td>Thank you. Please let me know about Chris Lamb...</td>\n",
       "    </tr>\n",
       "    <tr>\n",
       "      <th>24637</th>\n",
       "      <td>Respond to the following email in a profession...</td>\n",
       "      <td>John, I understand Peter Keohane is here today...</td>\n",
       "    </tr>\n",
       "    <tr>\n",
       "      <th>24638</th>\n",
       "      <td>Respond to the following email in a profession...</td>\n",
       "      <td>ok</td>\n",
       "    </tr>\n",
       "    <tr>\n",
       "      <th>24639</th>\n",
       "      <td>Respond to the following email in a profession...</td>\n",
       "      <td>according to the packet that was distributed ...</td>\n",
       "    </tr>\n",
       "  </tbody>\n",
       "</table>\n",
       "<p>24640 rows × 2 columns</p>\n",
       "</div>"
      ],
      "text/plain": [
       "                                              input_data  \\\n",
       "0      Respond to the following email in a profession...   \n",
       "1      Respond to the following email in a profession...   \n",
       "2      Respond to the following email in a profession...   \n",
       "3      Respond to the following email in a profession...   \n",
       "4      Respond to the following email in a profession...   \n",
       "...                                                  ...   \n",
       "24635  Respond to the following email in a profession...   \n",
       "24636  Respond to the following email in a profession...   \n",
       "24637  Respond to the following email in a profession...   \n",
       "24638  Respond to the following email in a profession...   \n",
       "24639  Respond to the following email in a profession...   \n",
       "\n",
       "                                             output_data  \n",
       "0      when? how are you and your family? is julie go...  \n",
       "1               Today is bad. Tommorrow I will call you.  \n",
       "2                         Do you have lunch plans today?  \n",
       "3      Really? I'd feel like a mooch. Lets have lunch...  \n",
       "4                           Tues.is good. I'll call you.  \n",
       "...                                                  ...  \n",
       "24635  Stephane Brodeur should be removed from the li...  \n",
       "24636  Thank you. Please let me know about Chris Lamb...  \n",
       "24637  John, I understand Peter Keohane is here today...  \n",
       "24638                                                ok   \n",
       "24639   according to the packet that was distributed ...  \n",
       "\n",
       "[24640 rows x 2 columns]"
      ]
     },
     "execution_count": 41,
     "metadata": {},
     "output_type": "execute_result"
    }
   ],
   "source": [
    "m_r"
   ]
  },
  {
   "cell_type": "code",
   "execution_count": 42,
   "id": "945a143b",
   "metadata": {},
   "outputs": [],
   "source": [
    "m_r.to_csv(\"/Users/scottsmacbook/capstone/00_Data/just_message_reply.csv\")"
   ]
  },
  {
   "cell_type": "code",
   "execution_count": 43,
   "id": "c0ce353b",
   "metadata": {},
   "outputs": [
    {
     "data": {
      "text/plain": [
       "str"
      ]
     },
     "execution_count": 43,
     "metadata": {},
     "output_type": "execute_result"
    }
   ],
   "source": [
    "type(list(m_r.input_data)[0])"
   ]
  },
  {
   "cell_type": "code",
   "execution_count": 44,
   "id": "1e373d62",
   "metadata": {},
   "outputs": [],
   "source": [
    "import csv\n",
    "import json\n",
    "\n",
    "csv_file_path = \"/Users/scottsmacbook/capstone/00_Data/just_message_reply.csv\"\n",
    "jsonl_file_path = \"/Users/scottsmacbook/capstone/00_Data/just_message_reply.jsonl\"\n",
    "\n",
    "updated_jsonl_file_path = \"/Users/scottsmacbook/capstone/00_Data/just_message_reply_new.jsonl\"\n",
    "\n",
    "# Open CSV file for reading and JSONL file for writing\n",
    "with open(csv_file_path, 'r') as csv_file, open(jsonl_file_path, 'w') as jsonl_file:\n",
    "    # Parse CSV file as a dictionary\n",
    "    csv_reader = csv.DictReader(csv_file)\n",
    "    # Loop through each row in the CSV file\n",
    "    for row in csv_reader:\n",
    "        # Convert the row to a JSON string\n",
    "        json_string = json.dumps(row)\n",
    "        # Write the JSON string to the JSONL file, followed by a newline character\n",
    "        jsonl_file.write(json_string + '\\n')"
   ]
  },
  {
   "cell_type": "code",
   "execution_count": 45,
   "id": "c2ec1bc9",
   "metadata": {},
   "outputs": [],
   "source": [
    "# loop through each line in the input JSONL file\n",
    "with open(jsonl_file_path, 'r') as jsonl_file, \\\n",
    "     open(updated_jsonl_file_path, 'w') as updated_jsonl_file:\n",
    "    for line in jsonl_file:\n",
    "        # parse the line as a JSON object\n",
    "        data = json.loads(line)\n",
    "\n",
    "        # remove the empty key from the dictionary\n",
    "        data.pop('', None)\n",
    "\n",
    "        # write the updated dictionary as a new line in the output JSONL file\n",
    "        updated_jsonl_file.write(json.dumps(data) + \"\\n\")"
   ]
  }
 ],
 "metadata": {
  "kernelspec": {
   "display_name": "Python 3 (ipykernel)",
   "language": "python",
   "name": "python3"
  },
  "language_info": {
   "codemirror_mode": {
    "name": "ipython",
    "version": 3
   },
   "file_extension": ".py",
   "mimetype": "text/x-python",
   "name": "python",
   "nbconvert_exporter": "python",
   "pygments_lexer": "ipython3",
   "version": "3.9.12"
  }
 },
 "nbformat": 4,
 "nbformat_minor": 5
}
