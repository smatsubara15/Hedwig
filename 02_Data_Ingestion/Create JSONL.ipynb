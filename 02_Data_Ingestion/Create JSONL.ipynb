{
 "cells": [
  {
   "cell_type": "code",
   "execution_count": 86,
   "id": "4da9b1a4",
   "metadata": {},
   "outputs": [],
   "source": [
    "import pandas as pd\n",
    "pd.set_option(\"display.max_colwidth\", None)"
   ]
  },
  {
   "cell_type": "code",
   "execution_count": 2,
   "id": "9b64efa3",
   "metadata": {},
   "outputs": [],
   "source": [
    "message_replies = pd.read_csv('/Users/scottsmacbook/capstone/00_Data/data_data_message_reply_pairs_cleaned.csv')"
   ]
  },
  {
   "cell_type": "code",
   "execution_count": 6,
   "id": "7c077abe",
   "metadata": {},
   "outputs": [
    {
     "data": {
      "text/plain": [
       "36"
      ]
     },
     "execution_count": 6,
     "metadata": {},
     "output_type": "execute_result"
    }
   ],
   "source": [
    "list(message_replies.thread.unique())[4]"
   ]
  },
  {
   "cell_type": "code",
   "execution_count": 87,
   "id": "e22da82d",
   "metadata": {},
   "outputs": [
    {
     "data": {
      "text/html": [
       "<div>\n",
       "<style scoped>\n",
       "    .dataframe tbody tr th:only-of-type {\n",
       "        vertical-align: middle;\n",
       "    }\n",
       "\n",
       "    .dataframe tbody tr th {\n",
       "        vertical-align: top;\n",
       "    }\n",
       "\n",
       "    .dataframe thead th {\n",
       "        text-align: right;\n",
       "    }\n",
       "</style>\n",
       "<table border=\"1\" class=\"dataframe\">\n",
       "  <thead>\n",
       "    <tr style=\"text-align: right;\">\n",
       "      <th></th>\n",
       "      <th>Unnamed: 0</th>\n",
       "      <th>time</th>\n",
       "      <th>subject</th>\n",
       "      <th>thread</th>\n",
       "      <th>sender</th>\n",
       "      <th>recipient</th>\n",
       "      <th>message</th>\n",
       "      <th>reply_time</th>\n",
       "      <th>reply_sender</th>\n",
       "      <th>reply_recipient</th>\n",
       "      <th>reply_message</th>\n",
       "    </tr>\n",
       "  </thead>\n",
       "  <tbody>\n",
       "    <tr>\n",
       "      <th>70</th>\n",
       "      <td>75</td>\n",
       "      <td>2000-10-26 04:09:00-07:00</td>\n",
       "      <td>(No Subject)</td>\n",
       "      <td>36</td>\n",
       "      <td>18258</td>\n",
       "      <td>[13140]</td>\n",
       "      <td>Hi Mark, I'm really sorry to have heard about your Dad. I know I'm just one on a long list of people that always enjoyed his company, hospitality and high spirits he always treated me like a bro and I know how much he meant to you. I'm heading north to Humboldt with Stacey this afternoon (been in Sac all week) and will probably be there for a little while. Be sure to let me know where you're gonna be, 'cause I plan on heading further north sometime. Hope to see you soon, and I'll be in touch until then   Marc Get FREE Email/Voicemail with 15MB at Lycos Communications at http://comm.lycos.com</td>\n",
       "      <td>2000-11-05 23:22:00-08:00</td>\n",
       "      <td>13140</td>\n",
       "      <td>[18258]</td>\n",
       "      <td>Dude thanks for the words. I appreciate. It has been a tough month. I am back in portland for good now and would love to see you if your time frame allows. How long are you in the state? I or have a wierd work schedule in which I work three days on t hen two days off for four shifts in a row nt then get a six day break. Why don't you give me a call at 503 228 7767 or on my cell at 503 702 0463 some time this evening or in the next few days. Hope to see you while you are here</td>\n",
       "    </tr>\n",
       "  </tbody>\n",
       "</table>\n",
       "</div>"
      ],
      "text/plain": [
       "    Unnamed: 0                       time       subject  thread  sender  \\\n",
       "70          75  2000-10-26 04:09:00-07:00  (No Subject)      36   18258   \n",
       "\n",
       "   recipient  \\\n",
       "70   [13140]   \n",
       "\n",
       "                                                                                                                                                                                                                                                                                                                                                                                                                                                                                                                                                                                                                   message  \\\n",
       "70  Hi Mark, I'm really sorry to have heard about your Dad. I know I'm just one on a long list of people that always enjoyed his company, hospitality and high spirits he always treated me like a bro and I know how much he meant to you. I'm heading north to Humboldt with Stacey this afternoon (been in Sac all week) and will probably be there for a little while. Be sure to let me know where you're gonna be, 'cause I plan on heading further north sometime. Hope to see you soon, and I'll be in touch until then   Marc Get FREE Email/Voicemail with 15MB at Lycos Communications at http://comm.lycos.com   \n",
       "\n",
       "                   reply_time  reply_sender reply_recipient  \\\n",
       "70  2000-11-05 23:22:00-08:00         13140         [18258]   \n",
       "\n",
       "                                                                                                                                                                                                                                                                                                                                                                                                                                                                                      reply_message  \n",
       "70  Dude thanks for the words. I appreciate. It has been a tough month. I am back in portland for good now and would love to see you if your time frame allows. How long are you in the state? I or have a wierd work schedule in which I work three days on t hen two days off for four shifts in a row nt then get a six day break. Why don't you give me a call at 503 228 7767 or on my cell at 503 702 0463 some time this evening or in the next few days. Hope to see you while you are here  "
      ]
     },
     "execution_count": 87,
     "metadata": {},
     "output_type": "execute_result"
    }
   ],
   "source": [
    "message_replies[message_replies.thread==36]"
   ]
  },
  {
   "cell_type": "code",
   "execution_count": 88,
   "id": "cead1f43",
   "metadata": {},
   "outputs": [
    {
     "name": "stderr",
     "output_type": "stream",
     "text": [
      "/var/folders/p4/82nd8dg50fq_lzgh5s75s36h0000gn/T/ipykernel_11398/995372070.py:2: SettingWithCopyWarning: \n",
      "A value is trying to be set on a copy of a slice from a DataFrame\n",
      "\n",
      "See the caveats in the documentation: https://pandas.pydata.org/pandas-docs/stable/user_guide/indexing.html#returning-a-view-versus-a-copy\n",
      "  m_r_original.rename(columns = {'message':'input_text','reply_message':'output_text'},inplace=True)\n"
     ]
    }
   ],
   "source": [
    "m_r_original = message_replies[['message','reply_message']]\n",
    "m_r_original.rename(columns = {'message':'input_text','reply_message':'output_text'},inplace=True)\n"
   ]
  },
  {
   "cell_type": "code",
   "execution_count": 89,
   "id": "981660ca",
   "metadata": {},
   "outputs": [],
   "source": [
    "m_r_original = m_r_original.reset_index(drop=True)"
   ]
  },
  {
   "cell_type": "code",
   "execution_count": 81,
   "id": "bfdf7c81",
   "metadata": {},
   "outputs": [],
   "source": [
    "prompt = \"Respond to the following email in a professional corporate manner:\"\n",
    "m_r_original[\"input_text\"] = m_r_original[\"input_text\"].apply(lambda x: prompt + str(x))"
   ]
  },
  {
   "cell_type": "code",
   "execution_count": 82,
   "id": "e0c2b2f9",
   "metadata": {},
   "outputs": [],
   "source": [
    "m_r = m_r_original.sample(1000)\n",
    "#m_r = m_r_original"
   ]
  },
  {
   "cell_type": "code",
   "execution_count": 83,
   "id": "2a9c661c",
   "metadata": {},
   "outputs": [],
   "source": [
    "m_r.to_csv(\"/Users/scottsmacbook/capstone/00_Data/just_message_reply.csv\")"
   ]
  },
  {
   "cell_type": "code",
   "execution_count": 84,
   "id": "5269b9d8",
   "metadata": {},
   "outputs": [],
   "source": [
    "import csv\n",
    "import json\n",
    "\n",
    "csv_file_path = \"/Users/scottsmacbook/capstone/00_Data/just_message_reply.csv\"\n",
    "jsonl_file_path = \"/Users/scottsmacbook/capstone/00_Data/just_message_reply.jsonl\"\n",
    "\n",
    "updated_jsonl_file_path = \"/Users/scottsmacbook/capstone/00_Data/just_message_reply_new.jsonl\"\n",
    "\n",
    "# Open CSV file for reading and JSONL file for writing\n",
    "with open(csv_file_path, 'r') as csv_file, open(jsonl_file_path, 'w') as jsonl_file:\n",
    "    # Parse CSV file as a dictionary\n",
    "    csv_reader = csv.DictReader(csv_file)\n",
    "    # Loop through each row in the CSV file\n",
    "    for row in csv_reader:\n",
    "        # Convert the row to a JSON string\n",
    "        json_string = json.dumps(row)\n",
    "        # Write the JSON string to the JSONL file, followed by a newline character\n",
    "        jsonl_file.write(json_string + '\\n')"
   ]
  },
  {
   "cell_type": "code",
   "execution_count": 85,
   "id": "b8035ec3",
   "metadata": {},
   "outputs": [],
   "source": [
    "# loop through each line in the input JSONL file\n",
    "with open(jsonl_file_path, 'r') as jsonl_file, \\\n",
    "     open(updated_jsonl_file_path, 'w') as updated_jsonl_file:\n",
    "    for line in jsonl_file:\n",
    "        # parse the line as a JSON object\n",
    "        data = json.loads(line)\n",
    "\n",
    "        # remove the empty key from the dictionary\n",
    "        data.pop('', None)\n",
    "\n",
    "        # write the updated dictionary as a new line in the output JSONL file\n",
    "        updated_jsonl_file.write(json.dumps(data) + \"\\n\")"
   ]
  }
 ],
 "metadata": {
  "kernelspec": {
   "display_name": "Python 3 (ipykernel)",
   "language": "python",
   "name": "python3"
  },
  "language_info": {
   "codemirror_mode": {
    "name": "ipython",
    "version": 3
   },
   "file_extension": ".py",
   "mimetype": "text/x-python",
   "name": "python",
   "nbconvert_exporter": "python",
   "pygments_lexer": "ipython3",
   "version": "3.9.12"
  }
 },
 "nbformat": 4,
 "nbformat_minor": 5
}
