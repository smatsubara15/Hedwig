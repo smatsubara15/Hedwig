{
 "cells": [
  {
   "cell_type": "markdown",
   "id": "f9d1c5a7",
   "metadata": {
    "papermill": {
     "duration": 0.009503,
     "end_time": "2023-04-15T11:34:40.206422",
     "exception": false,
     "start_time": "2023-04-15T11:34:40.196919",
     "status": "completed"
    },
    "tags": []
   },
   "source": [
    "### Enron Email classification :\n",
    "The Enron Email classification problem aims to classify the emails of the Enron Corporation, an American energy company that famously collapsed due to financial scandal and fraud. The dataset consists of approximately 500,000 emails from over 150 Enron employees, including senior executives.\n",
    "\n",
    "The objective of the problem is to develop a machine learning algorithm that can accurately classify the emails into different categories based on their content.\n",
    "\n",
    "The Enron Email classification problem is a challenging task due to the high dimensionality of the data and the complex relationships between the emails and their categories. However, it is also a crucial problem with many practical applications and can benefit from advances in natural language processing and machine learning techniques.\n",
    "\n",
    "Before going to the machine learning model building, we will need to clearning and preprocessing the given. In this notebook, I will be preprocessing and cleaning the given data."
   ]
  },
  {
   "cell_type": "code",
   "execution_count": 1,
   "id": "90f738d1",
   "metadata": {
    "_cell_guid": "b1076dfc-b9ad-4769-8c92-a6c4dae69d19",
    "_uuid": "8f2839f25d086af736a60e9eeb907d3b93b6e0e5",
    "execution": {
     "iopub.execute_input": "2023-04-15T11:34:40.226199Z",
     "iopub.status.busy": "2023-04-15T11:34:40.225459Z",
     "iopub.status.idle": "2023-04-15T11:34:40.246321Z",
     "shell.execute_reply": "2023-04-15T11:34:40.245124Z"
    },
    "papermill": {
     "duration": 0.034097,
     "end_time": "2023-04-15T11:34:40.249357",
     "exception": false,
     "start_time": "2023-04-15T11:34:40.215260",
     "status": "completed"
    },
    "tags": []
   },
   "outputs": [],
   "source": [
    "\n",
    "import numpy as np # linear algebra\n",
    "import pandas as pd # data processing, CSV file I/O (e.g. pd.read_csv)\n",
    "\n",
    "import os\n",
    "for dirname, _, filenames in os.walk('/kaggle/input'):\n",
    "    for filename in filenames:\n",
    "        print(os.path.join(dirname, filename))\n"
   ]
  },
  {
   "cell_type": "markdown",
   "id": "29a48a17",
   "metadata": {
    "papermill": {
     "duration": 0.008367,
     "end_time": "2023-04-15T11:34:40.266712",
     "exception": false,
     "start_time": "2023-04-15T11:34:40.258345",
     "status": "completed"
    },
    "tags": []
   },
   "source": [
    "### load the required libraries"
   ]
  },
  {
   "cell_type": "code",
   "execution_count": 2,
   "id": "6f263f21",
   "metadata": {
    "execution": {
     "iopub.execute_input": "2023-04-15T11:34:40.286407Z",
     "iopub.status.busy": "2023-04-15T11:34:40.286050Z",
     "iopub.status.idle": "2023-04-15T11:34:41.326760Z",
     "shell.execute_reply": "2023-04-15T11:34:41.325733Z"
    },
    "papermill": {
     "duration": 1.054096,
     "end_time": "2023-04-15T11:34:41.329396",
     "exception": false,
     "start_time": "2023-04-15T11:34:40.275300",
     "status": "completed"
    },
    "tags": []
   },
   "outputs": [],
   "source": [
    "import pandas as pd\n",
    "import numpy as np\n",
    "import matplotlib.pyplot as plt\n",
    "import seaborn as sns\n",
    "import email\n",
    "import warnings \n",
    "warnings.filterwarnings('ignore')\n",
    "import parse"
   ]
  },
  {
   "cell_type": "code",
   "execution_count": 3,
   "id": "f8f0d76b",
   "metadata": {},
   "outputs": [
    {
     "name": "stdout",
     "output_type": "stream",
     "text": [
      "Available CPUs: 8\n",
      "INFO: Pandarallel will run on 7 workers.\n",
      "INFO: Pandarallel will use standard multiprocessing data transfer (pipe) to transfer data between the main process and workers.\n"
     ]
    }
   ],
   "source": [
    "#pip install pandarallel\n",
    "import multiprocessing\n",
    "\n",
    "num_processors = multiprocessing.cpu_count()\n",
    "print(f'Available CPUs: {num_processors}')\n",
    "\n",
    "import pandarallel\n",
    "from pandarallel import pandarallel\n",
    "pandarallel.initialize(nb_workers=num_processors-1, use_memory_fs=False)"
   ]
  },
  {
   "cell_type": "code",
   "execution_count": 4,
   "id": "73bca311",
   "metadata": {
    "execution": {
     "iopub.execute_input": "2023-04-15T11:34:41.349809Z",
     "iopub.status.busy": "2023-04-15T11:34:41.349394Z",
     "iopub.status.idle": "2023-04-15T11:35:09.409623Z",
     "shell.execute_reply": "2023-04-15T11:35:09.408652Z"
    },
    "papermill": {
     "duration": 28.073413,
     "end_time": "2023-04-15T11:35:09.411993",
     "exception": false,
     "start_time": "2023-04-15T11:34:41.338580",
     "status": "completed"
    },
    "tags": []
   },
   "outputs": [],
   "source": [
    "# read the dataset\n",
    "df= pd.read_csv(\"/Users/kshitijmittal/Documents/UChicago Acad/Hedwig_AI/Hedwig/00_Data/emails.csv\")"
   ]
  },
  {
   "cell_type": "markdown",
   "id": "994ee3c2",
   "metadata": {
    "papermill": {
     "duration": 0.008903,
     "end_time": "2023-04-15T11:35:09.430471",
     "exception": false,
     "start_time": "2023-04-15T11:35:09.421568",
     "status": "completed"
    },
    "tags": []
   },
   "source": [
    "## EDA"
   ]
  },
  {
   "cell_type": "code",
   "execution_count": 5,
   "id": "5dedcfce",
   "metadata": {
    "execution": {
     "iopub.execute_input": "2023-04-15T11:35:09.450700Z",
     "iopub.status.busy": "2023-04-15T11:35:09.449691Z",
     "iopub.status.idle": "2023-04-15T11:35:09.472864Z",
     "shell.execute_reply": "2023-04-15T11:35:09.471837Z"
    },
    "papermill": {
     "duration": 0.036165,
     "end_time": "2023-04-15T11:35:09.475608",
     "exception": false,
     "start_time": "2023-04-15T11:35:09.439443",
     "status": "completed"
    },
    "tags": []
   },
   "outputs": [
    {
     "data": {
      "text/html": [
       "<div>\n",
       "<style scoped>\n",
       "    .dataframe tbody tr th:only-of-type {\n",
       "        vertical-align: middle;\n",
       "    }\n",
       "\n",
       "    .dataframe tbody tr th {\n",
       "        vertical-align: top;\n",
       "    }\n",
       "\n",
       "    .dataframe thead th {\n",
       "        text-align: right;\n",
       "    }\n",
       "</style>\n",
       "<table border=\"1\" class=\"dataframe\">\n",
       "  <thead>\n",
       "    <tr style=\"text-align: right;\">\n",
       "      <th></th>\n",
       "      <th>file</th>\n",
       "      <th>message</th>\n",
       "    </tr>\n",
       "  </thead>\n",
       "  <tbody>\n",
       "    <tr>\n",
       "      <th>0</th>\n",
       "      <td>allen-p/_sent_mail/1.</td>\n",
       "      <td>Message-ID: &lt;18782981.1075855378110.JavaMail.e...</td>\n",
       "    </tr>\n",
       "    <tr>\n",
       "      <th>1</th>\n",
       "      <td>allen-p/_sent_mail/10.</td>\n",
       "      <td>Message-ID: &lt;15464986.1075855378456.JavaMail.e...</td>\n",
       "    </tr>\n",
       "    <tr>\n",
       "      <th>2</th>\n",
       "      <td>allen-p/_sent_mail/100.</td>\n",
       "      <td>Message-ID: &lt;24216240.1075855687451.JavaMail.e...</td>\n",
       "    </tr>\n",
       "    <tr>\n",
       "      <th>3</th>\n",
       "      <td>allen-p/_sent_mail/1000.</td>\n",
       "      <td>Message-ID: &lt;13505866.1075863688222.JavaMail.e...</td>\n",
       "    </tr>\n",
       "    <tr>\n",
       "      <th>4</th>\n",
       "      <td>allen-p/_sent_mail/1001.</td>\n",
       "      <td>Message-ID: &lt;30922949.1075863688243.JavaMail.e...</td>\n",
       "    </tr>\n",
       "  </tbody>\n",
       "</table>\n",
       "</div>"
      ],
      "text/plain": [
       "                       file                                            message\n",
       "0     allen-p/_sent_mail/1.  Message-ID: <18782981.1075855378110.JavaMail.e...\n",
       "1    allen-p/_sent_mail/10.  Message-ID: <15464986.1075855378456.JavaMail.e...\n",
       "2   allen-p/_sent_mail/100.  Message-ID: <24216240.1075855687451.JavaMail.e...\n",
       "3  allen-p/_sent_mail/1000.  Message-ID: <13505866.1075863688222.JavaMail.e...\n",
       "4  allen-p/_sent_mail/1001.  Message-ID: <30922949.1075863688243.JavaMail.e..."
      ]
     },
     "execution_count": 5,
     "metadata": {},
     "output_type": "execute_result"
    }
   ],
   "source": [
    "# display first 5 rows of the dataset using head function\n",
    "df.head()"
   ]
  },
  {
   "cell_type": "code",
   "execution_count": 6,
   "id": "448227da",
   "metadata": {
    "execution": {
     "iopub.execute_input": "2023-04-15T11:35:09.495725Z",
     "iopub.status.busy": "2023-04-15T11:35:09.495330Z",
     "iopub.status.idle": "2023-04-15T11:35:09.503396Z",
     "shell.execute_reply": "2023-04-15T11:35:09.501752Z"
    },
    "papermill": {
     "duration": 0.021271,
     "end_time": "2023-04-15T11:35:09.506054",
     "exception": false,
     "start_time": "2023-04-15T11:35:09.484783",
     "status": "completed"
    },
    "tags": []
   },
   "outputs": [
    {
     "data": {
      "text/plain": [
       "(517401, 2)"
      ]
     },
     "execution_count": 6,
     "metadata": {},
     "output_type": "execute_result"
    }
   ],
   "source": [
    "# check the shape \n",
    "df.shape"
   ]
  },
  {
   "cell_type": "code",
   "execution_count": 7,
   "id": "7b341c5a",
   "metadata": {
    "execution": {
     "iopub.execute_input": "2023-04-15T11:35:09.525818Z",
     "iopub.status.busy": "2023-04-15T11:35:09.525465Z",
     "iopub.status.idle": "2023-04-15T11:35:09.535442Z",
     "shell.execute_reply": "2023-04-15T11:35:09.534086Z"
    },
    "papermill": {
     "duration": 0.021913,
     "end_time": "2023-04-15T11:35:09.537172",
     "exception": false,
     "start_time": "2023-04-15T11:35:09.515259",
     "status": "completed"
    },
    "tags": []
   },
   "outputs": [
    {
     "name": "stdout",
     "output_type": "stream",
     "text": [
      "allen-p/_sent_mail/10.\n",
      "\n",
      "\n",
      "Message-ID: <15464986.1075855378456.JavaMail.evans@thyme>\n",
      "Date: Fri, 4 May 2001 13:51:00 -0700 (PDT)\n",
      "From: phillip.allen@enron.com\n",
      "To: john.lavorato@enron.com\n",
      "Subject: Re:\n",
      "Mime-Version: 1.0\n",
      "Content-Type: text/plain; charset=us-ascii\n",
      "Content-Transfer-Encoding: 7bit\n",
      "X-From: Phillip K Allen\n",
      "X-To: John J Lavorato <John J Lavorato/ENRON@enronXgate@ENRON>\n",
      "X-cc: \n",
      "X-bcc: \n",
      "X-Folder: \\Phillip_Allen_Jan2002_1\\Allen, Phillip K.\\'Sent Mail\n",
      "X-Origin: Allen-P\n",
      "X-FileName: pallen (Non-Privileged).pst\n",
      "\n",
      "Traveling to have a business meeting takes the fun out of the trip.  Especially if you have to prepare a presentation.  I would suggest holding the business plan meetings here then take a trip without any formal business meetings.  I would even try and get some honest opinions on whether a trip is even desired or necessary.\n",
      "\n",
      "As far as the business meetings, I think it would be more productive to try and stimulate discussions across the different groups about what is working and what is not.  Too often the presenter speaks and the others are quiet just waiting for their turn.   The meetings might be better if held in a round table discussion format.  \n",
      "\n",
      "My suggestion for where to go is Austin.  Play golf and rent a ski boat and jet ski's.  Flying somewhere takes too much time.\n",
      "\n"
     ]
    }
   ],
   "source": [
    "# get message value\n",
    "print(df.loc[1]['file'])\n",
    "print(\"\\n\")\n",
    "print(df.loc[1]['message'])"
   ]
  },
  {
   "cell_type": "code",
   "execution_count": 8,
   "id": "77453cc9",
   "metadata": {
    "execution": {
     "iopub.execute_input": "2023-04-15T11:35:09.556836Z",
     "iopub.status.busy": "2023-04-15T11:35:09.556487Z",
     "iopub.status.idle": "2023-04-15T11:35:09.563431Z",
     "shell.execute_reply": "2023-04-15T11:35:09.562650Z"
    },
    "papermill": {
     "duration": 0.018872,
     "end_time": "2023-04-15T11:35:09.565004",
     "exception": false,
     "start_time": "2023-04-15T11:35:09.546132",
     "status": "completed"
    },
    "tags": []
   },
   "outputs": [
    {
     "data": {
      "text/plain": [
       "[('Message-ID', '<15464986.1075855378456.JavaMail.evans@thyme>'),\n",
       " ('Date', 'Fri, 4 May 2001 13:51:00 -0700 (PDT)'),\n",
       " ('From', 'phillip.allen@enron.com'),\n",
       " ('To', 'john.lavorato@enron.com'),\n",
       " ('Subject', 'Re:'),\n",
       " ('Mime-Version', '1.0'),\n",
       " ('Content-Type', 'text/plain; charset=us-ascii'),\n",
       " ('Content-Transfer-Encoding', '7bit'),\n",
       " ('X-From', 'Phillip K Allen'),\n",
       " ('X-To', 'John J Lavorato <John J Lavorato/ENRON@enronXgate@ENRON>'),\n",
       " ('X-cc', ''),\n",
       " ('X-bcc', ''),\n",
       " ('X-Folder', \"\\\\Phillip_Allen_Jan2002_1\\\\Allen, Phillip K.\\\\'Sent Mail\"),\n",
       " ('X-Origin', 'Allen-P'),\n",
       " ('X-FileName', 'pallen (Non-Privileged).pst')]"
      ]
     },
     "execution_count": 8,
     "metadata": {},
     "output_type": "execute_result"
    }
   ],
   "source": [
    "# transform the email into correct form\n",
    "message = df.loc[1]['message']\n",
    "emails = email.message_from_string(message)\n",
    "emails.items()"
   ]
  },
  {
   "cell_type": "code",
   "execution_count": 9,
   "id": "ca56f8f6",
   "metadata": {
    "execution": {
     "iopub.execute_input": "2023-04-15T11:35:09.585216Z",
     "iopub.status.busy": "2023-04-15T11:35:09.584492Z",
     "iopub.status.idle": "2023-04-15T11:35:09.591643Z",
     "shell.execute_reply": "2023-04-15T11:35:09.590589Z"
    },
    "papermill": {
     "duration": 0.019668,
     "end_time": "2023-04-15T11:35:09.593588",
     "exception": false,
     "start_time": "2023-04-15T11:35:09.573920",
     "status": "completed"
    },
    "tags": []
   },
   "outputs": [
    {
     "data": {
      "text/plain": [
       "\"Traveling to have a business meeting takes the fun out of the trip.  Especially if you have to prepare a presentation.  I would suggest holding the business plan meetings here then take a trip without any formal business meetings.  I would even try and get some honest opinions on whether a trip is even desired or necessary.\\n\\nAs far as the business meetings, I think it would be more productive to try and stimulate discussions across the different groups about what is working and what is not.  Too often the presenter speaks and the others are quiet just waiting for their turn.   The meetings might be better if held in a round table discussion format.  \\n\\nMy suggestion for where to go is Austin.  Play golf and rent a ski boat and jet ski's.  Flying somewhere takes too much time.\\n\""
      ]
     },
     "execution_count": 9,
     "metadata": {},
     "output_type": "execute_result"
    }
   ],
   "source": [
    "# get email body\n",
    "emails.get_payload()"
   ]
  },
  {
   "cell_type": "code",
   "execution_count": 10,
   "id": "4ebfea8c",
   "metadata": {
    "execution": {
     "iopub.execute_input": "2023-04-15T11:35:09.614062Z",
     "iopub.status.busy": "2023-04-15T11:35:09.613458Z",
     "iopub.status.idle": "2023-04-15T11:35:09.619550Z",
     "shell.execute_reply": "2023-04-15T11:35:09.618578Z"
    },
    "papermill": {
     "duration": 0.018765,
     "end_time": "2023-04-15T11:35:09.621447",
     "exception": false,
     "start_time": "2023-04-15T11:35:09.602682",
     "status": "completed"
    },
    "tags": []
   },
   "outputs": [
    {
     "data": {
      "text/plain": [
       "'Fri, 4 May 2001 13:51:00 -0700 (PDT)'"
      ]
     },
     "execution_count": 10,
     "metadata": {},
     "output_type": "execute_result"
    }
   ],
   "source": [
    "emails.get(\"Date\")"
   ]
  },
  {
   "cell_type": "code",
   "execution_count": 11,
   "id": "c28053db",
   "metadata": {
    "execution": {
     "iopub.execute_input": "2023-04-15T11:35:09.641834Z",
     "iopub.status.busy": "2023-04-15T11:35:09.641439Z",
     "iopub.status.idle": "2023-04-15T11:35:09.646770Z",
     "shell.execute_reply": "2023-04-15T11:35:09.645722Z"
    },
    "papermill": {
     "duration": 0.017698,
     "end_time": "2023-04-15T11:35:09.648471",
     "exception": false,
     "start_time": "2023-04-15T11:35:09.630773",
     "status": "completed"
    },
    "tags": []
   },
   "outputs": [],
   "source": [
    "# feature we are extract from the email \n",
    "# 1. date 2. X-From 3. X-To 4. Subject 5. X-Folder \n",
    "# extract feature from the email for all datasets\n",
    "def extract_data(feature,df):\n",
    "    column= []\n",
    "    for row in df:\n",
    "        e = email.message_from_string(row)\n",
    "        column.append(e.get(feature))\n",
    "    return column    "
   ]
  },
  {
   "cell_type": "code",
   "execution_count": 12,
   "id": "15103379",
   "metadata": {
    "execution": {
     "iopub.execute_input": "2023-04-15T11:35:09.670243Z",
     "iopub.status.busy": "2023-04-15T11:35:09.669879Z",
     "iopub.status.idle": "2023-04-15T11:40:50.519874Z",
     "shell.execute_reply": "2023-04-15T11:40:50.518788Z"
    },
    "papermill": {
     "duration": 340.864077,
     "end_time": "2023-04-15T11:40:50.522476",
     "exception": false,
     "start_time": "2023-04-15T11:35:09.658399",
     "status": "completed"
    },
    "tags": []
   },
   "outputs": [],
   "source": [
    "df['Date'] = extract_data(\"Date\",df['message'])\n",
    "df['Subject'] = extract_data(\"Subject\",df['message'])\n",
    "df['X-From'] = extract_data(\"X-From\",df['message'])\n",
    "df['X-To'] = extract_data(\"X-To\",df['message'])\n",
    "df['X-Folder'] = extract_data(\"X-Folder\",df['message'])"
   ]
  },
  {
   "cell_type": "code",
   "execution_count": 13,
   "id": "8a963033",
   "metadata": {
    "execution": {
     "iopub.execute_input": "2023-04-15T11:40:50.543911Z",
     "iopub.status.busy": "2023-04-15T11:40:50.543066Z",
     "iopub.status.idle": "2023-04-15T11:42:00.448827Z",
     "shell.execute_reply": "2023-04-15T11:42:00.447767Z"
    },
    "papermill": {
     "duration": 69.919349,
     "end_time": "2023-04-15T11:42:00.451489",
     "exception": false,
     "start_time": "2023-04-15T11:40:50.532140",
     "status": "completed"
    },
    "tags": []
   },
   "outputs": [],
   "source": [
    "# extract email body from email message\n",
    "def get_email_body(data):\n",
    "    column =[]\n",
    "    for msg in data:\n",
    "        e = email.message_from_string(msg)\n",
    "        column.append(e.get_payload())\n",
    "    return column\n",
    "df['body'] = get_email_body(df['message'])"
   ]
  },
  {
   "cell_type": "code",
   "execution_count": 14,
   "id": "80361152",
   "metadata": {
    "execution": {
     "iopub.execute_input": "2023-04-15T11:42:00.472611Z",
     "iopub.status.busy": "2023-04-15T11:42:00.472181Z",
     "iopub.status.idle": "2023-04-15T11:42:00.486614Z",
     "shell.execute_reply": "2023-04-15T11:42:00.485226Z"
    },
    "papermill": {
     "duration": 0.02764,
     "end_time": "2023-04-15T11:42:00.488881",
     "exception": false,
     "start_time": "2023-04-15T11:42:00.461241",
     "status": "completed"
    },
    "tags": []
   },
   "outputs": [
    {
     "data": {
      "text/html": [
       "<div>\n",
       "<style scoped>\n",
       "    .dataframe tbody tr th:only-of-type {\n",
       "        vertical-align: middle;\n",
       "    }\n",
       "\n",
       "    .dataframe tbody tr th {\n",
       "        vertical-align: top;\n",
       "    }\n",
       "\n",
       "    .dataframe thead th {\n",
       "        text-align: right;\n",
       "    }\n",
       "</style>\n",
       "<table border=\"1\" class=\"dataframe\">\n",
       "  <thead>\n",
       "    <tr style=\"text-align: right;\">\n",
       "      <th></th>\n",
       "      <th>file</th>\n",
       "      <th>message</th>\n",
       "      <th>Date</th>\n",
       "      <th>Subject</th>\n",
       "      <th>X-From</th>\n",
       "      <th>X-To</th>\n",
       "      <th>X-Folder</th>\n",
       "      <th>body</th>\n",
       "    </tr>\n",
       "  </thead>\n",
       "  <tbody>\n",
       "    <tr>\n",
       "      <th>0</th>\n",
       "      <td>allen-p/_sent_mail/1.</td>\n",
       "      <td>Message-ID: &lt;18782981.1075855378110.JavaMail.e...</td>\n",
       "      <td>Mon, 14 May 2001 16:39:00 -0700 (PDT)</td>\n",
       "      <td></td>\n",
       "      <td>Phillip K Allen</td>\n",
       "      <td>Tim Belden &lt;Tim Belden/Enron@EnronXGate&gt;</td>\n",
       "      <td>\\Phillip_Allen_Jan2002_1\\Allen, Phillip K.\\'Se...</td>\n",
       "      <td>Here is our forecast\\n\\n</td>\n",
       "    </tr>\n",
       "    <tr>\n",
       "      <th>1</th>\n",
       "      <td>allen-p/_sent_mail/10.</td>\n",
       "      <td>Message-ID: &lt;15464986.1075855378456.JavaMail.e...</td>\n",
       "      <td>Fri, 4 May 2001 13:51:00 -0700 (PDT)</td>\n",
       "      <td>Re:</td>\n",
       "      <td>Phillip K Allen</td>\n",
       "      <td>John J Lavorato &lt;John J Lavorato/ENRON@enronXg...</td>\n",
       "      <td>\\Phillip_Allen_Jan2002_1\\Allen, Phillip K.\\'Se...</td>\n",
       "      <td>Traveling to have a business meeting takes the...</td>\n",
       "    </tr>\n",
       "    <tr>\n",
       "      <th>2</th>\n",
       "      <td>allen-p/_sent_mail/100.</td>\n",
       "      <td>Message-ID: &lt;24216240.1075855687451.JavaMail.e...</td>\n",
       "      <td>Wed, 18 Oct 2000 03:00:00 -0700 (PDT)</td>\n",
       "      <td>Re: test</td>\n",
       "      <td>Phillip K Allen</td>\n",
       "      <td>Leah Van Arsdall</td>\n",
       "      <td>\\Phillip_Allen_Dec2000\\Notes Folders\\'sent mail</td>\n",
       "      <td>test successful.  way to go!!!</td>\n",
       "    </tr>\n",
       "    <tr>\n",
       "      <th>3</th>\n",
       "      <td>allen-p/_sent_mail/1000.</td>\n",
       "      <td>Message-ID: &lt;13505866.1075863688222.JavaMail.e...</td>\n",
       "      <td>Mon, 23 Oct 2000 06:13:00 -0700 (PDT)</td>\n",
       "      <td></td>\n",
       "      <td>Phillip K Allen</td>\n",
       "      <td>Randall L Gay</td>\n",
       "      <td>\\Phillip_Allen_Dec2000\\Notes Folders\\'sent mail</td>\n",
       "      <td>Randy,\\n\\n Can you send me a schedule of the s...</td>\n",
       "    </tr>\n",
       "    <tr>\n",
       "      <th>4</th>\n",
       "      <td>allen-p/_sent_mail/1001.</td>\n",
       "      <td>Message-ID: &lt;30922949.1075863688243.JavaMail.e...</td>\n",
       "      <td>Thu, 31 Aug 2000 05:07:00 -0700 (PDT)</td>\n",
       "      <td>Re: Hello</td>\n",
       "      <td>Phillip K Allen</td>\n",
       "      <td>Greg Piper</td>\n",
       "      <td>\\Phillip_Allen_Dec2000\\Notes Folders\\'sent mail</td>\n",
       "      <td>Let's shoot for Tuesday at 11:45.</td>\n",
       "    </tr>\n",
       "  </tbody>\n",
       "</table>\n",
       "</div>"
      ],
      "text/plain": [
       "                       file  \\\n",
       "0     allen-p/_sent_mail/1.   \n",
       "1    allen-p/_sent_mail/10.   \n",
       "2   allen-p/_sent_mail/100.   \n",
       "3  allen-p/_sent_mail/1000.   \n",
       "4  allen-p/_sent_mail/1001.   \n",
       "\n",
       "                                             message  \\\n",
       "0  Message-ID: <18782981.1075855378110.JavaMail.e...   \n",
       "1  Message-ID: <15464986.1075855378456.JavaMail.e...   \n",
       "2  Message-ID: <24216240.1075855687451.JavaMail.e...   \n",
       "3  Message-ID: <13505866.1075863688222.JavaMail.e...   \n",
       "4  Message-ID: <30922949.1075863688243.JavaMail.e...   \n",
       "\n",
       "                                    Date    Subject           X-From  \\\n",
       "0  Mon, 14 May 2001 16:39:00 -0700 (PDT)             Phillip K Allen   \n",
       "1   Fri, 4 May 2001 13:51:00 -0700 (PDT)        Re:  Phillip K Allen   \n",
       "2  Wed, 18 Oct 2000 03:00:00 -0700 (PDT)   Re: test  Phillip K Allen   \n",
       "3  Mon, 23 Oct 2000 06:13:00 -0700 (PDT)             Phillip K Allen   \n",
       "4  Thu, 31 Aug 2000 05:07:00 -0700 (PDT)  Re: Hello  Phillip K Allen   \n",
       "\n",
       "                                                X-To  \\\n",
       "0           Tim Belden <Tim Belden/Enron@EnronXGate>   \n",
       "1  John J Lavorato <John J Lavorato/ENRON@enronXg...   \n",
       "2                                   Leah Van Arsdall   \n",
       "3                                      Randall L Gay   \n",
       "4                                         Greg Piper   \n",
       "\n",
       "                                            X-Folder  \\\n",
       "0  \\Phillip_Allen_Jan2002_1\\Allen, Phillip K.\\'Se...   \n",
       "1  \\Phillip_Allen_Jan2002_1\\Allen, Phillip K.\\'Se...   \n",
       "2    \\Phillip_Allen_Dec2000\\Notes Folders\\'sent mail   \n",
       "3    \\Phillip_Allen_Dec2000\\Notes Folders\\'sent mail   \n",
       "4    \\Phillip_Allen_Dec2000\\Notes Folders\\'sent mail   \n",
       "\n",
       "                                                body  \n",
       "0                          Here is our forecast\\n\\n   \n",
       "1  Traveling to have a business meeting takes the...  \n",
       "2                     test successful.  way to go!!!  \n",
       "3  Randy,\\n\\n Can you send me a schedule of the s...  \n",
       "4                Let's shoot for Tuesday at 11:45.    "
      ]
     },
     "execution_count": 14,
     "metadata": {},
     "output_type": "execute_result"
    }
   ],
   "source": [
    "df.head()"
   ]
  },
  {
   "cell_type": "code",
   "execution_count": 15,
   "id": "2af27de3",
   "metadata": {
    "execution": {
     "iopub.execute_input": "2023-04-15T11:42:00.510626Z",
     "iopub.status.busy": "2023-04-15T11:42:00.510231Z",
     "iopub.status.idle": "2023-04-15T11:42:00.747611Z",
     "shell.execute_reply": "2023-04-15T11:42:00.746239Z"
    },
    "papermill": {
     "duration": 0.251129,
     "end_time": "2023-04-15T11:42:00.750171",
     "exception": false,
     "start_time": "2023-04-15T11:42:00.499042",
     "status": "completed"
    },
    "tags": []
   },
   "outputs": [],
   "source": [
    "# Employee names\n",
    "\n",
    "def emp_name(data):\n",
    "    column=[]\n",
    "    for msg in data:\n",
    "        column.append(msg.split(\"/\")[0])\n",
    "    return column\n",
    "\n",
    "df['Employee'] = emp_name(df['file'])"
   ]
  },
  {
   "cell_type": "code",
   "execution_count": 16,
   "id": "eac75917",
   "metadata": {
    "execution": {
     "iopub.execute_input": "2023-04-15T11:42:00.771780Z",
     "iopub.status.busy": "2023-04-15T11:42:00.771432Z",
     "iopub.status.idle": "2023-04-15T11:42:00.785827Z",
     "shell.execute_reply": "2023-04-15T11:42:00.784670Z"
    },
    "papermill": {
     "duration": 0.027533,
     "end_time": "2023-04-15T11:42:00.787771",
     "exception": false,
     "start_time": "2023-04-15T11:42:00.760238",
     "status": "completed"
    },
    "tags": []
   },
   "outputs": [
    {
     "data": {
      "text/html": [
       "<div>\n",
       "<style scoped>\n",
       "    .dataframe tbody tr th:only-of-type {\n",
       "        vertical-align: middle;\n",
       "    }\n",
       "\n",
       "    .dataframe tbody tr th {\n",
       "        vertical-align: top;\n",
       "    }\n",
       "\n",
       "    .dataframe thead th {\n",
       "        text-align: right;\n",
       "    }\n",
       "</style>\n",
       "<table border=\"1\" class=\"dataframe\">\n",
       "  <thead>\n",
       "    <tr style=\"text-align: right;\">\n",
       "      <th></th>\n",
       "      <th>file</th>\n",
       "      <th>message</th>\n",
       "      <th>Date</th>\n",
       "      <th>Subject</th>\n",
       "      <th>X-From</th>\n",
       "      <th>X-To</th>\n",
       "      <th>X-Folder</th>\n",
       "      <th>body</th>\n",
       "      <th>Employee</th>\n",
       "    </tr>\n",
       "  </thead>\n",
       "  <tbody>\n",
       "    <tr>\n",
       "      <th>0</th>\n",
       "      <td>allen-p/_sent_mail/1.</td>\n",
       "      <td>Message-ID: &lt;18782981.1075855378110.JavaMail.e...</td>\n",
       "      <td>Mon, 14 May 2001 16:39:00 -0700 (PDT)</td>\n",
       "      <td></td>\n",
       "      <td>Phillip K Allen</td>\n",
       "      <td>Tim Belden &lt;Tim Belden/Enron@EnronXGate&gt;</td>\n",
       "      <td>\\Phillip_Allen_Jan2002_1\\Allen, Phillip K.\\'Se...</td>\n",
       "      <td>Here is our forecast\\n\\n</td>\n",
       "      <td>allen-p</td>\n",
       "    </tr>\n",
       "    <tr>\n",
       "      <th>1</th>\n",
       "      <td>allen-p/_sent_mail/10.</td>\n",
       "      <td>Message-ID: &lt;15464986.1075855378456.JavaMail.e...</td>\n",
       "      <td>Fri, 4 May 2001 13:51:00 -0700 (PDT)</td>\n",
       "      <td>Re:</td>\n",
       "      <td>Phillip K Allen</td>\n",
       "      <td>John J Lavorato &lt;John J Lavorato/ENRON@enronXg...</td>\n",
       "      <td>\\Phillip_Allen_Jan2002_1\\Allen, Phillip K.\\'Se...</td>\n",
       "      <td>Traveling to have a business meeting takes the...</td>\n",
       "      <td>allen-p</td>\n",
       "    </tr>\n",
       "    <tr>\n",
       "      <th>2</th>\n",
       "      <td>allen-p/_sent_mail/100.</td>\n",
       "      <td>Message-ID: &lt;24216240.1075855687451.JavaMail.e...</td>\n",
       "      <td>Wed, 18 Oct 2000 03:00:00 -0700 (PDT)</td>\n",
       "      <td>Re: test</td>\n",
       "      <td>Phillip K Allen</td>\n",
       "      <td>Leah Van Arsdall</td>\n",
       "      <td>\\Phillip_Allen_Dec2000\\Notes Folders\\'sent mail</td>\n",
       "      <td>test successful.  way to go!!!</td>\n",
       "      <td>allen-p</td>\n",
       "    </tr>\n",
       "  </tbody>\n",
       "</table>\n",
       "</div>"
      ],
      "text/plain": [
       "                      file                                            message  \\\n",
       "0    allen-p/_sent_mail/1.  Message-ID: <18782981.1075855378110.JavaMail.e...   \n",
       "1   allen-p/_sent_mail/10.  Message-ID: <15464986.1075855378456.JavaMail.e...   \n",
       "2  allen-p/_sent_mail/100.  Message-ID: <24216240.1075855687451.JavaMail.e...   \n",
       "\n",
       "                                    Date   Subject           X-From  \\\n",
       "0  Mon, 14 May 2001 16:39:00 -0700 (PDT)            Phillip K Allen   \n",
       "1   Fri, 4 May 2001 13:51:00 -0700 (PDT)       Re:  Phillip K Allen   \n",
       "2  Wed, 18 Oct 2000 03:00:00 -0700 (PDT)  Re: test  Phillip K Allen   \n",
       "\n",
       "                                                X-To  \\\n",
       "0           Tim Belden <Tim Belden/Enron@EnronXGate>   \n",
       "1  John J Lavorato <John J Lavorato/ENRON@enronXg...   \n",
       "2                                   Leah Van Arsdall   \n",
       "\n",
       "                                            X-Folder  \\\n",
       "0  \\Phillip_Allen_Jan2002_1\\Allen, Phillip K.\\'Se...   \n",
       "1  \\Phillip_Allen_Jan2002_1\\Allen, Phillip K.\\'Se...   \n",
       "2    \\Phillip_Allen_Dec2000\\Notes Folders\\'sent mail   \n",
       "\n",
       "                                                body Employee  \n",
       "0                          Here is our forecast\\n\\n   allen-p  \n",
       "1  Traveling to have a business meeting takes the...  allen-p  \n",
       "2                     test successful.  way to go!!!  allen-p  "
      ]
     },
     "execution_count": 16,
     "metadata": {},
     "output_type": "execute_result"
    }
   ],
   "source": [
    "df.head(3)"
   ]
  },
  {
   "cell_type": "code",
   "execution_count": 17,
   "id": "469b649d",
   "metadata": {
    "execution": {
     "iopub.execute_input": "2023-04-15T11:42:00.810068Z",
     "iopub.status.busy": "2023-04-15T11:42:00.809333Z",
     "iopub.status.idle": "2023-04-15T11:42:00.816729Z",
     "shell.execute_reply": "2023-04-15T11:42:00.816158Z"
    },
    "papermill": {
     "duration": 0.020041,
     "end_time": "2023-04-15T11:42:00.818358",
     "exception": false,
     "start_time": "2023-04-15T11:42:00.798317",
     "status": "completed"
    },
    "tags": []
   },
   "outputs": [
    {
     "data": {
      "text/plain": [
       "0         Mon, 14 May 2001 16:39:00 -0700 (PDT)\n",
       "1          Fri, 4 May 2001 13:51:00 -0700 (PDT)\n",
       "2         Wed, 18 Oct 2000 03:00:00 -0700 (PDT)\n",
       "3         Mon, 23 Oct 2000 06:13:00 -0700 (PDT)\n",
       "4         Thu, 31 Aug 2000 05:07:00 -0700 (PDT)\n",
       "                          ...                  \n",
       "517396    Wed, 28 Nov 2001 13:30:11 -0800 (PST)\n",
       "517397    Wed, 28 Nov 2001 12:47:48 -0800 (PST)\n",
       "517398    Wed, 28 Nov 2001 07:20:00 -0800 (PST)\n",
       "517399    Tue, 27 Nov 2001 11:52:45 -0800 (PST)\n",
       "517400    Mon, 26 Nov 2001 10:48:43 -0800 (PST)\n",
       "Name: Date, Length: 517401, dtype: object"
      ]
     },
     "execution_count": 17,
     "metadata": {},
     "output_type": "execute_result"
    }
   ],
   "source": [
    "df['Date']"
   ]
  },
  {
   "cell_type": "code",
   "execution_count": 18,
   "id": "b259a09f",
   "metadata": {
    "execution": {
     "iopub.execute_input": "2023-04-15T11:42:00.839823Z",
     "iopub.status.busy": "2023-04-15T11:42:00.839366Z",
     "iopub.status.idle": "2023-04-15T11:42:00.926322Z",
     "shell.execute_reply": "2023-04-15T11:42:00.924764Z"
    },
    "papermill": {
     "duration": 0.099647,
     "end_time": "2023-04-15T11:42:00.928198",
     "exception": false,
     "start_time": "2023-04-15T11:42:00.828551",
     "status": "completed"
    },
    "tags": []
   },
   "outputs": [
    {
     "name": "stdout",
     "output_type": "stream",
     "text": [
      "number of folder : 517401\n",
      "number of unique folder : 5336\n"
     ]
    }
   ],
   "source": [
    "# find the unique folder\n",
    "print(\"number of folder :\",df.shape[0])\n",
    "print(\"number of unique folder :\",df['X-Folder'].unique().shape[0])"
   ]
  },
  {
   "cell_type": "code",
   "execution_count": 19,
   "id": "af95afc2",
   "metadata": {
    "execution": {
     "iopub.execute_input": "2023-04-15T11:42:00.950517Z",
     "iopub.status.busy": "2023-04-15T11:42:00.949654Z",
     "iopub.status.idle": "2023-04-15T11:42:01.005058Z",
     "shell.execute_reply": "2023-04-15T11:42:01.004103Z"
    },
    "papermill": {
     "duration": 0.068483,
     "end_time": "2023-04-15T11:42:01.007135",
     "exception": false,
     "start_time": "2023-04-15T11:42:00.938652",
     "status": "completed"
    },
    "tags": []
   },
   "outputs": [
    {
     "data": {
      "text/html": [
       "<div>\n",
       "<style scoped>\n",
       "    .dataframe tbody tr th:only-of-type {\n",
       "        vertical-align: middle;\n",
       "    }\n",
       "\n",
       "    .dataframe tbody tr th {\n",
       "        vertical-align: top;\n",
       "    }\n",
       "\n",
       "    .dataframe thead th {\n",
       "        text-align: right;\n",
       "    }\n",
       "</style>\n",
       "<table border=\"1\" class=\"dataframe\">\n",
       "  <thead>\n",
       "    <tr style=\"text-align: right;\">\n",
       "      <th></th>\n",
       "      <th>Folder_name</th>\n",
       "      <th>Count</th>\n",
       "    </tr>\n",
       "  </thead>\n",
       "  <tbody>\n",
       "    <tr>\n",
       "      <th>0</th>\n",
       "      <td>\\Kay_Mann_June2001_1\\Notes Folders\\All documents</td>\n",
       "      <td>6639</td>\n",
       "    </tr>\n",
       "    <tr>\n",
       "      <th>1</th>\n",
       "      <td>\\Tanya_Jones_Dec2000\\Notes Folders\\All documents</td>\n",
       "      <td>5934</td>\n",
       "    </tr>\n",
       "    <tr>\n",
       "      <th>2</th>\n",
       "      <td>\\Jeff_Dasovich_June2001\\Notes Folders\\All docu...</td>\n",
       "      <td>5637</td>\n",
       "    </tr>\n",
       "    <tr>\n",
       "      <th>3</th>\n",
       "      <td>\\Sara_Shackleton_Dec2000_June2001_1\\Notes Fold...</td>\n",
       "      <td>5211</td>\n",
       "    </tr>\n",
       "    <tr>\n",
       "      <th>4</th>\n",
       "      <td>\\Vincent_Kaminski_Jun2001_1\\Notes Folders\\All ...</td>\n",
       "      <td>5066</td>\n",
       "    </tr>\n",
       "    <tr>\n",
       "      <th>5</th>\n",
       "      <td>\\Kay_Mann_June2001_2\\Notes Folders\\Discussion ...</td>\n",
       "      <td>4956</td>\n",
       "    </tr>\n",
       "    <tr>\n",
       "      <th>6</th>\n",
       "      <td>\\Jeff_Dasovich_Dec2000\\Notes Folders\\All docum...</td>\n",
       "      <td>4660</td>\n",
       "    </tr>\n",
       "    <tr>\n",
       "      <th>7</th>\n",
       "      <td>\\Kay_Mann_June2001_3\\Notes Folders\\Sent</td>\n",
       "      <td>4440</td>\n",
       "    </tr>\n",
       "    <tr>\n",
       "      <th>8</th>\n",
       "      <td>\\Kay_Mann_June2001_4\\Notes Folders\\'sent mail</td>\n",
       "      <td>4220</td>\n",
       "    </tr>\n",
       "    <tr>\n",
       "      <th>9</th>\n",
       "      <td>\\Mark_Taylor _Dec_2000\\Notes Folders\\All docum...</td>\n",
       "      <td>4022</td>\n",
       "    </tr>\n",
       "    <tr>\n",
       "      <th>10</th>\n",
       "      <td>\\Vincent_Kaminski_Jun2001_2\\Notes Folders\\Disc...</td>\n",
       "      <td>3980</td>\n",
       "    </tr>\n",
       "    <tr>\n",
       "      <th>11</th>\n",
       "      <td>\\Jeff_Dasovich_June2001\\Notes Folders\\Notes inbox</td>\n",
       "      <td>3535</td>\n",
       "    </tr>\n",
       "    <tr>\n",
       "      <th>12</th>\n",
       "      <td>\\Steven_Kean_June2001_4\\Notes Folders\\Discussi...</td>\n",
       "      <td>3434</td>\n",
       "    </tr>\n",
       "    <tr>\n",
       "      <th>13</th>\n",
       "      <td>\\Tanya_Jones_June2001\\Notes Folders\\All documents</td>\n",
       "      <td>3365</td>\n",
       "    </tr>\n",
       "    <tr>\n",
       "      <th>14</th>\n",
       "      <td>\\kate symes 6-27-02\\Notes Folders\\All documents</td>\n",
       "      <td>3221</td>\n",
       "    </tr>\n",
       "    <tr>\n",
       "      <th>15</th>\n",
       "      <td>\\kate symes 6-27-02\\Notes Folders\\Discussion t...</td>\n",
       "      <td>3065</td>\n",
       "    </tr>\n",
       "    <tr>\n",
       "      <th>16</th>\n",
       "      <td>\\Tanya_Jones_Dec2000\\Notes Folders\\Notes inbox</td>\n",
       "      <td>2975</td>\n",
       "    </tr>\n",
       "    <tr>\n",
       "      <th>17</th>\n",
       "      <td>\\Sara_Shackleton_Dec2000_June2001_2\\Notes Fold...</td>\n",
       "      <td>2944</td>\n",
       "    </tr>\n",
       "    <tr>\n",
       "      <th>18</th>\n",
       "      <td>\\Darren_Farmer_Dec2000\\Notes Folders\\All docum...</td>\n",
       "      <td>2838</td>\n",
       "    </tr>\n",
       "    <tr>\n",
       "      <th>19</th>\n",
       "      <td>\\Tanya_Jones_Dec2000\\Notes Folders\\Sent</td>\n",
       "      <td>2633</td>\n",
       "    </tr>\n",
       "  </tbody>\n",
       "</table>\n",
       "</div>"
      ],
      "text/plain": [
       "                                          Folder_name  Count\n",
       "0    \\Kay_Mann_June2001_1\\Notes Folders\\All documents   6639\n",
       "1    \\Tanya_Jones_Dec2000\\Notes Folders\\All documents   5934\n",
       "2   \\Jeff_Dasovich_June2001\\Notes Folders\\All docu...   5637\n",
       "3   \\Sara_Shackleton_Dec2000_June2001_1\\Notes Fold...   5211\n",
       "4   \\Vincent_Kaminski_Jun2001_1\\Notes Folders\\All ...   5066\n",
       "5   \\Kay_Mann_June2001_2\\Notes Folders\\Discussion ...   4956\n",
       "6   \\Jeff_Dasovich_Dec2000\\Notes Folders\\All docum...   4660\n",
       "7             \\Kay_Mann_June2001_3\\Notes Folders\\Sent   4440\n",
       "8       \\Kay_Mann_June2001_4\\Notes Folders\\'sent mail   4220\n",
       "9   \\Mark_Taylor _Dec_2000\\Notes Folders\\All docum...   4022\n",
       "10  \\Vincent_Kaminski_Jun2001_2\\Notes Folders\\Disc...   3980\n",
       "11  \\Jeff_Dasovich_June2001\\Notes Folders\\Notes inbox   3535\n",
       "12  \\Steven_Kean_June2001_4\\Notes Folders\\Discussi...   3434\n",
       "13  \\Tanya_Jones_June2001\\Notes Folders\\All documents   3365\n",
       "14    \\kate symes 6-27-02\\Notes Folders\\All documents   3221\n",
       "15  \\kate symes 6-27-02\\Notes Folders\\Discussion t...   3065\n",
       "16     \\Tanya_Jones_Dec2000\\Notes Folders\\Notes inbox   2975\n",
       "17  \\Sara_Shackleton_Dec2000_June2001_2\\Notes Fold...   2944\n",
       "18  \\Darren_Farmer_Dec2000\\Notes Folders\\All docum...   2838\n",
       "19            \\Tanya_Jones_Dec2000\\Notes Folders\\Sent   2633"
      ]
     },
     "execution_count": 19,
     "metadata": {},
     "output_type": "execute_result"
    }
   ],
   "source": [
    "unique_emails = pd.DataFrame(df['X-Folder'].value_counts())\n",
    "unique_emails.reset_index(inplace=True)\n",
    "\n",
    "# show top 20 folder highest counts\n",
    "unique_emails.columns =['Folder_name','Count']\n",
    "unique_emails.iloc[:20,:]"
   ]
  },
  {
   "cell_type": "code",
   "execution_count": 20,
   "id": "ccaf04ec",
   "metadata": {
    "execution": {
     "iopub.execute_input": "2023-04-15T11:42:01.030072Z",
     "iopub.status.busy": "2023-04-15T11:42:01.029087Z",
     "iopub.status.idle": "2023-04-15T11:42:01.401439Z",
     "shell.execute_reply": "2023-04-15T11:42:01.400610Z"
    },
    "papermill": {
     "duration": 0.385873,
     "end_time": "2023-04-15T11:42:01.403410",
     "exception": false,
     "start_time": "2023-04-15T11:42:01.017537",
     "status": "completed"
    },
    "tags": []
   },
   "outputs": [
    {
     "data": {
      "image/png": "[encoded data removed]",
      "text/plain": [
       "<Figure size 1000x600 with 1 Axes>"
      ]
     },
     "metadata": {},
     "output_type": "display_data"
    }
   ],
   "source": [
    "# visualize top 20 folder name\n",
    "plt.figure(figsize=(10,6))\n",
    "sns.barplot(x='Count',y='Folder_name',data=unique_emails.iloc[:20,:])\n",
    "plt.title(\"Top 20 Folder\")\n",
    "plt.xlabel('Count')\n",
    "plt.ylabel(\"Folder name \")\n",
    "plt.show()"
   ]
  },
  {
   "cell_type": "code",
   "execution_count": 21,
   "id": "61ddcb6b",
   "metadata": {
    "execution": {
     "iopub.execute_input": "2023-04-15T11:42:01.430629Z",
     "iopub.status.busy": "2023-04-15T11:42:01.429575Z",
     "iopub.status.idle": "2023-04-15T11:42:01.478662Z",
     "shell.execute_reply": "2023-04-15T11:42:01.477505Z"
    },
    "papermill": {
     "duration": 0.064627,
     "end_time": "2023-04-15T11:42:01.480893",
     "exception": false,
     "start_time": "2023-04-15T11:42:01.416266",
     "status": "completed"
    },
    "tags": []
   },
   "outputs": [
    {
     "data": {
      "text/html": [
       "<div>\n",
       "<style scoped>\n",
       "    .dataframe tbody tr th:only-of-type {\n",
       "        vertical-align: middle;\n",
       "    }\n",
       "\n",
       "    .dataframe tbody tr th {\n",
       "        vertical-align: top;\n",
       "    }\n",
       "\n",
       "    .dataframe thead th {\n",
       "        text-align: right;\n",
       "    }\n",
       "</style>\n",
       "<table border=\"1\" class=\"dataframe\">\n",
       "  <thead>\n",
       "    <tr style=\"text-align: right;\">\n",
       "      <th></th>\n",
       "      <th>Employee Name</th>\n",
       "      <th>Count</th>\n",
       "    </tr>\n",
       "  </thead>\n",
       "  <tbody>\n",
       "    <tr>\n",
       "      <th>0</th>\n",
       "      <td>kaminski-v</td>\n",
       "      <td>28465</td>\n",
       "    </tr>\n",
       "    <tr>\n",
       "      <th>1</th>\n",
       "      <td>dasovich-j</td>\n",
       "      <td>28234</td>\n",
       "    </tr>\n",
       "    <tr>\n",
       "      <th>2</th>\n",
       "      <td>kean-s</td>\n",
       "      <td>25351</td>\n",
       "    </tr>\n",
       "    <tr>\n",
       "      <th>3</th>\n",
       "      <td>mann-k</td>\n",
       "      <td>23381</td>\n",
       "    </tr>\n",
       "    <tr>\n",
       "      <th>4</th>\n",
       "      <td>jones-t</td>\n",
       "      <td>19950</td>\n",
       "    </tr>\n",
       "    <tr>\n",
       "      <th>5</th>\n",
       "      <td>shackleton-s</td>\n",
       "      <td>18687</td>\n",
       "    </tr>\n",
       "    <tr>\n",
       "      <th>6</th>\n",
       "      <td>taylor-m</td>\n",
       "      <td>13875</td>\n",
       "    </tr>\n",
       "    <tr>\n",
       "      <th>7</th>\n",
       "      <td>farmer-d</td>\n",
       "      <td>13032</td>\n",
       "    </tr>\n",
       "    <tr>\n",
       "      <th>8</th>\n",
       "      <td>germany-c</td>\n",
       "      <td>12436</td>\n",
       "    </tr>\n",
       "    <tr>\n",
       "      <th>9</th>\n",
       "      <td>beck-s</td>\n",
       "      <td>11830</td>\n",
       "    </tr>\n",
       "    <tr>\n",
       "      <th>10</th>\n",
       "      <td>symes-k</td>\n",
       "      <td>10827</td>\n",
       "    </tr>\n",
       "    <tr>\n",
       "      <th>11</th>\n",
       "      <td>nemec-g</td>\n",
       "      <td>10655</td>\n",
       "    </tr>\n",
       "    <tr>\n",
       "      <th>12</th>\n",
       "      <td>scott-s</td>\n",
       "      <td>8022</td>\n",
       "    </tr>\n",
       "    <tr>\n",
       "      <th>13</th>\n",
       "      <td>rogers-b</td>\n",
       "      <td>8009</td>\n",
       "    </tr>\n",
       "    <tr>\n",
       "      <th>14</th>\n",
       "      <td>bass-e</td>\n",
       "      <td>7823</td>\n",
       "    </tr>\n",
       "    <tr>\n",
       "      <th>15</th>\n",
       "      <td>sanders-r</td>\n",
       "      <td>7329</td>\n",
       "    </tr>\n",
       "    <tr>\n",
       "      <th>16</th>\n",
       "      <td>campbell-l</td>\n",
       "      <td>6490</td>\n",
       "    </tr>\n",
       "    <tr>\n",
       "      <th>17</th>\n",
       "      <td>shapiro-r</td>\n",
       "      <td>6071</td>\n",
       "    </tr>\n",
       "    <tr>\n",
       "      <th>18</th>\n",
       "      <td>guzman-m</td>\n",
       "      <td>6054</td>\n",
       "    </tr>\n",
       "    <tr>\n",
       "      <th>19</th>\n",
       "      <td>lay-k</td>\n",
       "      <td>5937</td>\n",
       "    </tr>\n",
       "  </tbody>\n",
       "</table>\n",
       "</div>"
      ],
      "text/plain": [
       "   Employee Name  Count\n",
       "0     kaminski-v  28465\n",
       "1     dasovich-j  28234\n",
       "2         kean-s  25351\n",
       "3         mann-k  23381\n",
       "4        jones-t  19950\n",
       "5   shackleton-s  18687\n",
       "6       taylor-m  13875\n",
       "7       farmer-d  13032\n",
       "8      germany-c  12436\n",
       "9         beck-s  11830\n",
       "10       symes-k  10827\n",
       "11       nemec-g  10655\n",
       "12       scott-s   8022\n",
       "13      rogers-b   8009\n",
       "14        bass-e   7823\n",
       "15     sanders-r   7329\n",
       "16    campbell-l   6490\n",
       "17     shapiro-r   6071\n",
       "18      guzman-m   6054\n",
       "19         lay-k   5937"
      ]
     },
     "execution_count": 21,
     "metadata": {},
     "output_type": "execute_result"
    }
   ],
   "source": [
    "# top email sender employees\n",
    "emp_data = pd.DataFrame(df['Employee'].value_counts())\n",
    "emp_data.reset_index(inplace=True)\n",
    "\n",
    "emp_data.columns =['Employee Name','Count']\n",
    "emp_data.iloc[:20,:]"
   ]
  },
  {
   "cell_type": "code",
   "execution_count": 22,
   "id": "4f4245a9",
   "metadata": {
    "execution": {
     "iopub.execute_input": "2023-04-15T11:42:01.507313Z",
     "iopub.status.busy": "2023-04-15T11:42:01.506937Z",
     "iopub.status.idle": "2023-04-15T11:42:01.788127Z",
     "shell.execute_reply": "2023-04-15T11:42:01.786652Z"
    },
    "papermill": {
     "duration": 0.297132,
     "end_time": "2023-04-15T11:42:01.790323",
     "exception": false,
     "start_time": "2023-04-15T11:42:01.493191",
     "status": "completed"
    },
    "tags": []
   },
   "outputs": [
    {
     "data": {
      "image/png": "[encoded data removed]",
      "text/plain": [
       "<Figure size 1000x600 with 1 Axes>"
      ]
     },
     "metadata": {},
     "output_type": "display_data"
    }
   ],
   "source": [
    "# visualize top 20 emails sender employee\n",
    "plt.figure(figsize=(10,6))\n",
    "sns.barplot(x='Count',y='Employee Name',data=emp_data.iloc[:20,:])\n",
    "plt.title(\"Top 20 Emails Sender Emails\")\n",
    "plt.xlabel(\"Count\")\n",
    "\n",
    "plt.ylabel(\"Emplyree Name\")\n",
    "plt.show()"
   ]
  },
  {
   "cell_type": "code",
   "execution_count": 23,
   "id": "b47fe55e",
   "metadata": {
    "execution": {
     "iopub.execute_input": "2023-04-15T11:42:01.823866Z",
     "iopub.status.busy": "2023-04-15T11:42:01.823329Z",
     "iopub.status.idle": "2023-04-15T11:42:01.841008Z",
     "shell.execute_reply": "2023-04-15T11:42:01.839221Z"
    },
    "papermill": {
     "duration": 0.03854,
     "end_time": "2023-04-15T11:42:01.843971",
     "exception": false,
     "start_time": "2023-04-15T11:42:01.805431",
     "status": "completed"
    },
    "tags": []
   },
   "outputs": [
    {
     "data": {
      "text/html": [
       "<div>\n",
       "<style scoped>\n",
       "    .dataframe tbody tr th:only-of-type {\n",
       "        vertical-align: middle;\n",
       "    }\n",
       "\n",
       "    .dataframe tbody tr th {\n",
       "        vertical-align: top;\n",
       "    }\n",
       "\n",
       "    .dataframe thead th {\n",
       "        text-align: right;\n",
       "    }\n",
       "</style>\n",
       "<table border=\"1\" class=\"dataframe\">\n",
       "  <thead>\n",
       "    <tr style=\"text-align: right;\">\n",
       "      <th></th>\n",
       "      <th>file</th>\n",
       "      <th>message</th>\n",
       "      <th>Date</th>\n",
       "      <th>Subject</th>\n",
       "      <th>X-From</th>\n",
       "      <th>X-To</th>\n",
       "      <th>X-Folder</th>\n",
       "      <th>body</th>\n",
       "      <th>Employee</th>\n",
       "    </tr>\n",
       "  </thead>\n",
       "  <tbody>\n",
       "    <tr>\n",
       "      <th>0</th>\n",
       "      <td>allen-p/_sent_mail/1.</td>\n",
       "      <td>Message-ID: &lt;18782981.1075855378110.JavaMail.e...</td>\n",
       "      <td>Mon, 14 May 2001 16:39:00 -0700 (PDT)</td>\n",
       "      <td></td>\n",
       "      <td>Phillip K Allen</td>\n",
       "      <td>Tim Belden &lt;Tim Belden/Enron@EnronXGate&gt;</td>\n",
       "      <td>\\Phillip_Allen_Jan2002_1\\Allen, Phillip K.\\'Se...</td>\n",
       "      <td>Here is our forecast\\n\\n</td>\n",
       "      <td>allen-p</td>\n",
       "    </tr>\n",
       "    <tr>\n",
       "      <th>1</th>\n",
       "      <td>allen-p/_sent_mail/10.</td>\n",
       "      <td>Message-ID: &lt;15464986.1075855378456.JavaMail.e...</td>\n",
       "      <td>Fri, 4 May 2001 13:51:00 -0700 (PDT)</td>\n",
       "      <td>Re:</td>\n",
       "      <td>Phillip K Allen</td>\n",
       "      <td>John J Lavorato &lt;John J Lavorato/ENRON@enronXg...</td>\n",
       "      <td>\\Phillip_Allen_Jan2002_1\\Allen, Phillip K.\\'Se...</td>\n",
       "      <td>Traveling to have a business meeting takes the...</td>\n",
       "      <td>allen-p</td>\n",
       "    </tr>\n",
       "    <tr>\n",
       "      <th>2</th>\n",
       "      <td>allen-p/_sent_mail/100.</td>\n",
       "      <td>Message-ID: &lt;24216240.1075855687451.JavaMail.e...</td>\n",
       "      <td>Wed, 18 Oct 2000 03:00:00 -0700 (PDT)</td>\n",
       "      <td>Re: test</td>\n",
       "      <td>Phillip K Allen</td>\n",
       "      <td>Leah Van Arsdall</td>\n",
       "      <td>\\Phillip_Allen_Dec2000\\Notes Folders\\'sent mail</td>\n",
       "      <td>test successful.  way to go!!!</td>\n",
       "      <td>allen-p</td>\n",
       "    </tr>\n",
       "  </tbody>\n",
       "</table>\n",
       "</div>"
      ],
      "text/plain": [
       "                      file                                            message  \\\n",
       "0    allen-p/_sent_mail/1.  Message-ID: <18782981.1075855378110.JavaMail.e...   \n",
       "1   allen-p/_sent_mail/10.  Message-ID: <15464986.1075855378456.JavaMail.e...   \n",
       "2  allen-p/_sent_mail/100.  Message-ID: <24216240.1075855687451.JavaMail.e...   \n",
       "\n",
       "                                    Date   Subject           X-From  \\\n",
       "0  Mon, 14 May 2001 16:39:00 -0700 (PDT)            Phillip K Allen   \n",
       "1   Fri, 4 May 2001 13:51:00 -0700 (PDT)       Re:  Phillip K Allen   \n",
       "2  Wed, 18 Oct 2000 03:00:00 -0700 (PDT)  Re: test  Phillip K Allen   \n",
       "\n",
       "                                                X-To  \\\n",
       "0           Tim Belden <Tim Belden/Enron@EnronXGate>   \n",
       "1  John J Lavorato <John J Lavorato/ENRON@enronXg...   \n",
       "2                                   Leah Van Arsdall   \n",
       "\n",
       "                                            X-Folder  \\\n",
       "0  \\Phillip_Allen_Jan2002_1\\Allen, Phillip K.\\'Se...   \n",
       "1  \\Phillip_Allen_Jan2002_1\\Allen, Phillip K.\\'Se...   \n",
       "2    \\Phillip_Allen_Dec2000\\Notes Folders\\'sent mail   \n",
       "\n",
       "                                                body Employee  \n",
       "0                          Here is our forecast\\n\\n   allen-p  \n",
       "1  Traveling to have a business meeting takes the...  allen-p  \n",
       "2                     test successful.  way to go!!!  allen-p  "
      ]
     },
     "execution_count": 23,
     "metadata": {},
     "output_type": "execute_result"
    }
   ],
   "source": [
    "df.head(3)"
   ]
  },
  {
   "cell_type": "markdown",
   "id": "04d80819",
   "metadata": {
    "papermill": {
     "duration": 0.015373,
     "end_time": "2023-04-15T11:42:01.875224",
     "exception": false,
     "start_time": "2023-04-15T11:42:01.859851",
     "status": "completed"
    },
    "tags": []
   },
   "source": [
    "### data cleaning and transformation"
   ]
  },
  {
   "cell_type": "code",
   "execution_count": 24,
   "id": "7c32be3a",
   "metadata": {
    "execution": {
     "iopub.execute_input": "2023-04-15T11:42:01.903083Z",
     "iopub.status.busy": "2023-04-15T11:42:01.902687Z",
     "iopub.status.idle": "2023-04-15T11:42:01.909766Z",
     "shell.execute_reply": "2023-04-15T11:42:01.908345Z"
    },
    "papermill": {
     "duration": 0.023241,
     "end_time": "2023-04-15T11:42:01.911713",
     "exception": false,
     "start_time": "2023-04-15T11:42:01.888472",
     "status": "completed"
    },
    "tags": []
   },
   "outputs": [
    {
     "name": "stdout",
     "output_type": "stream",
     "text": [
      "04-05-2001 13:51:00\n"
     ]
    }
   ],
   "source": [
    "#Date columns\n",
    "from datetime import datetime \n",
    "from dateutil import parser\n",
    "\n",
    "# this is sample example\n",
    "x = parser.parse(\"Fri, 4 May 2001 13:51:00 -0700 (PDT)\")\n",
    "print(x.strftime(\"%d-%m-%Y %H:%M:%S\"))"
   ]
  },
  {
   "cell_type": "code",
   "execution_count": 25,
   "id": "88677a19",
   "metadata": {
    "execution": {
     "iopub.execute_input": "2023-04-15T11:42:01.939115Z",
     "iopub.status.busy": "2023-04-15T11:42:01.938739Z",
     "iopub.status.idle": "2023-04-15T11:43:18.565495Z",
     "shell.execute_reply": "2023-04-15T11:43:18.564443Z"
    },
    "papermill": {
     "duration": 76.643028,
     "end_time": "2023-04-15T11:43:18.567787",
     "exception": false,
     "start_time": "2023-04-15T11:42:01.924759",
     "status": "completed"
    },
    "tags": []
   },
   "outputs": [],
   "source": [
    "def change_date_type(data):\n",
    "    column=[]\n",
    "    for date in data:\n",
    "        column.append(parser.parse(date).strftime(\"%d-%m-%Y %H:%M:%S\"))\n",
    "    return column\n",
    "\n",
    "df['Date'] = change_date_type(df['Date'])"
   ]
  },
  {
   "cell_type": "code",
   "execution_count": 26,
   "id": "858771f3",
   "metadata": {
    "execution": {
     "iopub.execute_input": "2023-04-15T11:43:18.594734Z",
     "iopub.status.busy": "2023-04-15T11:43:18.594415Z",
     "iopub.status.idle": "2023-04-15T11:43:18.611484Z",
     "shell.execute_reply": "2023-04-15T11:43:18.610411Z"
    },
    "papermill": {
     "duration": 0.032763,
     "end_time": "2023-04-15T11:43:18.613420",
     "exception": false,
     "start_time": "2023-04-15T11:43:18.580657",
     "status": "completed"
    },
    "tags": []
   },
   "outputs": [
    {
     "data": {
      "text/plain": [
       "\"'Sent Mail\""
      ]
     },
     "execution_count": 26,
     "metadata": {},
     "output_type": "execute_result"
    }
   ],
   "source": [
    "# column  X-Folder\n",
    "x_value =df.loc[1,\"X-Folder\"]\n",
    "# extract last folder name\n",
    "folder_name =x_value.split(\"\\\\\")[-1]\n",
    "folder_name"
   ]
  },
  {
   "cell_type": "code",
   "execution_count": 27,
   "id": "43abe2b3",
   "metadata": {
    "execution": {
     "iopub.execute_input": "2023-04-15T11:43:18.640393Z",
     "iopub.status.busy": "2023-04-15T11:43:18.640043Z",
     "iopub.status.idle": "2023-04-15T11:43:18.989847Z",
     "shell.execute_reply": "2023-04-15T11:43:18.988721Z"
    },
    "papermill": {
     "duration": 0.366124,
     "end_time": "2023-04-15T11:43:18.992322",
     "exception": false,
     "start_time": "2023-04-15T11:43:18.626198",
     "status": "completed"
    },
    "tags": []
   },
   "outputs": [],
   "source": [
    "def process_folder_name(folders):\n",
    "    column=[]\n",
    "    for folder in folders:\n",
    "        if folder is None or folder==\"\":\n",
    "            column.append(np.nan)\n",
    "        else:\n",
    "            column.append(folder.split(\"\\\\\")[-1].lower())\n",
    "    return column\n",
    "\n",
    "df['X-Folder']= process_folder_name(df['X-Folder'])            "
   ]
  },
  {
   "cell_type": "code",
   "execution_count": 28,
   "id": "6513f49d",
   "metadata": {
    "execution": {
     "iopub.execute_input": "2023-04-15T11:43:19.020080Z",
     "iopub.status.busy": "2023-04-15T11:43:19.019739Z",
     "iopub.status.idle": "2023-04-15T11:43:19.032834Z",
     "shell.execute_reply": "2023-04-15T11:43:19.031839Z"
    },
    "papermill": {
     "duration": 0.030137,
     "end_time": "2023-04-15T11:43:19.035469",
     "exception": false,
     "start_time": "2023-04-15T11:43:19.005332",
     "status": "completed"
    },
    "tags": []
   },
   "outputs": [
    {
     "data": {
      "text/html": [
       "<div>\n",
       "<style scoped>\n",
       "    .dataframe tbody tr th:only-of-type {\n",
       "        vertical-align: middle;\n",
       "    }\n",
       "\n",
       "    .dataframe tbody tr th {\n",
       "        vertical-align: top;\n",
       "    }\n",
       "\n",
       "    .dataframe thead th {\n",
       "        text-align: right;\n",
       "    }\n",
       "</style>\n",
       "<table border=\"1\" class=\"dataframe\">\n",
       "  <thead>\n",
       "    <tr style=\"text-align: right;\">\n",
       "      <th></th>\n",
       "      <th>file</th>\n",
       "      <th>message</th>\n",
       "      <th>Date</th>\n",
       "      <th>Subject</th>\n",
       "      <th>X-From</th>\n",
       "      <th>X-To</th>\n",
       "      <th>X-Folder</th>\n",
       "      <th>body</th>\n",
       "      <th>Employee</th>\n",
       "    </tr>\n",
       "  </thead>\n",
       "  <tbody>\n",
       "    <tr>\n",
       "      <th>0</th>\n",
       "      <td>allen-p/_sent_mail/1.</td>\n",
       "      <td>Message-ID: &lt;18782981.1075855378110.JavaMail.e...</td>\n",
       "      <td>14-05-2001 16:39:00</td>\n",
       "      <td></td>\n",
       "      <td>Phillip K Allen</td>\n",
       "      <td>Tim Belden &lt;Tim Belden/Enron@EnronXGate&gt;</td>\n",
       "      <td>'sent mail</td>\n",
       "      <td>Here is our forecast\\n\\n</td>\n",
       "      <td>allen-p</td>\n",
       "    </tr>\n",
       "    <tr>\n",
       "      <th>1</th>\n",
       "      <td>allen-p/_sent_mail/10.</td>\n",
       "      <td>Message-ID: &lt;15464986.1075855378456.JavaMail.e...</td>\n",
       "      <td>04-05-2001 13:51:00</td>\n",
       "      <td>Re:</td>\n",
       "      <td>Phillip K Allen</td>\n",
       "      <td>John J Lavorato &lt;John J Lavorato/ENRON@enronXg...</td>\n",
       "      <td>'sent mail</td>\n",
       "      <td>Traveling to have a business meeting takes the...</td>\n",
       "      <td>allen-p</td>\n",
       "    </tr>\n",
       "    <tr>\n",
       "      <th>2</th>\n",
       "      <td>allen-p/_sent_mail/100.</td>\n",
       "      <td>Message-ID: &lt;24216240.1075855687451.JavaMail.e...</td>\n",
       "      <td>18-10-2000 03:00:00</td>\n",
       "      <td>Re: test</td>\n",
       "      <td>Phillip K Allen</td>\n",
       "      <td>Leah Van Arsdall</td>\n",
       "      <td>'sent mail</td>\n",
       "      <td>test successful.  way to go!!!</td>\n",
       "      <td>allen-p</td>\n",
       "    </tr>\n",
       "  </tbody>\n",
       "</table>\n",
       "</div>"
      ],
      "text/plain": [
       "                      file                                            message  \\\n",
       "0    allen-p/_sent_mail/1.  Message-ID: <18782981.1075855378110.JavaMail.e...   \n",
       "1   allen-p/_sent_mail/10.  Message-ID: <15464986.1075855378456.JavaMail.e...   \n",
       "2  allen-p/_sent_mail/100.  Message-ID: <24216240.1075855687451.JavaMail.e...   \n",
       "\n",
       "                  Date   Subject           X-From  \\\n",
       "0  14-05-2001 16:39:00            Phillip K Allen   \n",
       "1  04-05-2001 13:51:00       Re:  Phillip K Allen   \n",
       "2  18-10-2000 03:00:00  Re: test  Phillip K Allen   \n",
       "\n",
       "                                                X-To    X-Folder  \\\n",
       "0           Tim Belden <Tim Belden/Enron@EnronXGate>  'sent mail   \n",
       "1  John J Lavorato <John J Lavorato/ENRON@enronXg...  'sent mail   \n",
       "2                                   Leah Van Arsdall  'sent mail   \n",
       "\n",
       "                                                body Employee  \n",
       "0                          Here is our forecast\\n\\n   allen-p  \n",
       "1  Traveling to have a business meeting takes the...  allen-p  \n",
       "2                     test successful.  way to go!!!  allen-p  "
      ]
     },
     "execution_count": 28,
     "metadata": {},
     "output_type": "execute_result"
    }
   ],
   "source": [
    "df.head(3)"
   ]
  },
  {
   "cell_type": "code",
   "execution_count": 29,
   "id": "71e90e40",
   "metadata": {
    "execution": {
     "iopub.execute_input": "2023-04-15T11:43:19.063930Z",
     "iopub.status.busy": "2023-04-15T11:43:19.063571Z",
     "iopub.status.idle": "2023-04-15T11:43:19.137498Z",
     "shell.execute_reply": "2023-04-15T11:43:19.136321Z"
    },
    "papermill": {
     "duration": 0.091666,
     "end_time": "2023-04-15T11:43:19.140675",
     "exception": false,
     "start_time": "2023-04-15T11:43:19.049009",
     "status": "completed"
    },
    "tags": []
   },
   "outputs": [
    {
     "name": "stdout",
     "output_type": "stream",
     "text": [
      "Lenghts of unique folder :  1782\n"
     ]
    },
    {
     "data": {
      "text/plain": [
       "array([\"'sent mail\", 'all documents', 'contacts', 'deleted items',\n",
       "       'discussion threads', 'inbox', 'notes inbox', 'sent items', 'sent',\n",
       "       'straw', '2000 conference', 'active international', 'avaya', 'bmc',\n",
       "       'bridge', 'bristol babcock', 'colleen koenig', 'compaq',\n",
       "       'computer associates', 'continental airlines'], dtype=object)"
      ]
     },
     "execution_count": 29,
     "metadata": {},
     "output_type": "execute_result"
    }
   ],
   "source": [
    "# found unique folder\n",
    "print(\"Lenghts of unique folder : \",len(df['X-Folder'].unique()))\n",
    "# fetch some folder name \n",
    "df['X-Folder'].unique()[:20]"
   ]
  },
  {
   "cell_type": "code",
   "execution_count": 30,
   "id": "848681d5",
   "metadata": {
    "execution": {
     "iopub.execute_input": "2023-04-15T11:43:19.169864Z",
     "iopub.status.busy": "2023-04-15T11:43:19.169511Z",
     "iopub.status.idle": "2023-04-15T11:43:19.406866Z",
     "shell.execute_reply": "2023-04-15T11:43:19.405690Z"
    },
    "papermill": {
     "duration": 0.254853,
     "end_time": "2023-04-15T11:43:19.409321",
     "exception": false,
     "start_time": "2023-04-15T11:43:19.154468",
     "status": "completed"
    },
    "tags": []
   },
   "outputs": [
    {
     "data": {
      "text/html": [
       "<div>\n",
       "<style scoped>\n",
       "    .dataframe tbody tr th:only-of-type {\n",
       "        vertical-align: middle;\n",
       "    }\n",
       "\n",
       "    .dataframe tbody tr th {\n",
       "        vertical-align: top;\n",
       "    }\n",
       "\n",
       "    .dataframe thead th {\n",
       "        text-align: right;\n",
       "    }\n",
       "</style>\n",
       "<table border=\"1\" class=\"dataframe\">\n",
       "  <thead>\n",
       "    <tr style=\"text-align: right;\">\n",
       "      <th></th>\n",
       "      <th>file</th>\n",
       "      <th>message</th>\n",
       "      <th>Date</th>\n",
       "      <th>Subject</th>\n",
       "      <th>X-From</th>\n",
       "      <th>X-To</th>\n",
       "      <th>X-Folder</th>\n",
       "      <th>body</th>\n",
       "      <th>Employee</th>\n",
       "    </tr>\n",
       "  </thead>\n",
       "  <tbody>\n",
       "    <tr>\n",
       "      <th>0</th>\n",
       "      <td>allen-p/_sent_mail/1.</td>\n",
       "      <td>Message-ID: &lt;18782981.1075855378110.JavaMail.e...</td>\n",
       "      <td>14-05-2001 16:39:00</td>\n",
       "      <td></td>\n",
       "      <td>Phillip K Allen</td>\n",
       "      <td>Tim Belden &lt;Tim Belden/Enron@EnronXGate&gt;</td>\n",
       "      <td>'sent mail</td>\n",
       "      <td>Here is our forecast\\n\\n</td>\n",
       "      <td>allen-p</td>\n",
       "    </tr>\n",
       "    <tr>\n",
       "      <th>3</th>\n",
       "      <td>allen-p/_sent_mail/1000.</td>\n",
       "      <td>Message-ID: &lt;13505866.1075863688222.JavaMail.e...</td>\n",
       "      <td>23-10-2000 06:13:00</td>\n",
       "      <td></td>\n",
       "      <td>Phillip K Allen</td>\n",
       "      <td>Randall L Gay</td>\n",
       "      <td>'sent mail</td>\n",
       "      <td>Randy,\\n\\n Can you send me a schedule of the s...</td>\n",
       "      <td>allen-p</td>\n",
       "    </tr>\n",
       "    <tr>\n",
       "      <th>6</th>\n",
       "      <td>allen-p/_sent_mail/1003.</td>\n",
       "      <td>Message-ID: &lt;16254169.1075863688286.JavaMail.e...</td>\n",
       "      <td>22-08-2000 07:44:00</td>\n",
       "      <td></td>\n",
       "      <td>Phillip K Allen</td>\n",
       "      <td>david.l.johnson@enron.com, John Shafer</td>\n",
       "      <td>'sent mail</td>\n",
       "      <td>Please cc the following distribution list with...</td>\n",
       "      <td>allen-p</td>\n",
       "    </tr>\n",
       "    <tr>\n",
       "      <th>11</th>\n",
       "      <td>allen-p/_sent_mail/104.</td>\n",
       "      <td>Message-ID: &lt;25459584.1075855687536.JavaMail.e...</td>\n",
       "      <td>13-10-2000 06:45:00</td>\n",
       "      <td></td>\n",
       "      <td>Phillip K Allen</td>\n",
       "      <td>stagecoachmama@hotmail.com</td>\n",
       "      <td>'sent mail</td>\n",
       "      <td>Lucy,\\n\\n Here are the rentrolls:\\n\\n\\n\\n Open...</td>\n",
       "      <td>allen-p</td>\n",
       "    </tr>\n",
       "    <tr>\n",
       "      <th>14</th>\n",
       "      <td>allen-p/_sent_mail/107.</td>\n",
       "      <td>Message-ID: &lt;2465689.1075855687605.JavaMail.ev...</td>\n",
       "      <td>05-10-2000 06:26:00</td>\n",
       "      <td></td>\n",
       "      <td>Phillip K Allen</td>\n",
       "      <td>David W Delainey</td>\n",
       "      <td>'sent mail</td>\n",
       "      <td>Dave, \\n\\n Here are the names of the west desk...</td>\n",
       "      <td>allen-p</td>\n",
       "    </tr>\n",
       "    <tr>\n",
       "      <th>...</th>\n",
       "      <td>...</td>\n",
       "      <td>...</td>\n",
       "      <td>...</td>\n",
       "      <td>...</td>\n",
       "      <td>...</td>\n",
       "      <td>...</td>\n",
       "      <td>...</td>\n",
       "      <td>...</td>\n",
       "      <td>...</td>\n",
       "    </tr>\n",
       "    <tr>\n",
       "      <th>516846</th>\n",
       "      <td>zufferli-j/calendar/1.</td>\n",
       "      <td>Message-ID: &lt;28390332.1075842024763.JavaMail.e...</td>\n",
       "      <td>05-02-2002 09:43:01</td>\n",
       "      <td></td>\n",
       "      <td>Zufferli, John &lt;/O=ENRON/OU=NA/CN=RECIPIENTS/C...</td>\n",
       "      <td></td>\n",
       "      <td>calendar</td>\n",
       "      <td>Conference call with UBS</td>\n",
       "      <td>zufferli-j</td>\n",
       "    </tr>\n",
       "    <tr>\n",
       "      <th>516853</th>\n",
       "      <td>zufferli-j/deleted_items/1.</td>\n",
       "      <td>Message-ID: &lt;29945908.1075842020454.JavaMail.e...</td>\n",
       "      <td>06-02-2002 11:38:22</td>\n",
       "      <td></td>\n",
       "      <td>Hayden, Frank &lt;/O=ENRON/OU=NA/CN=RECIPIENTS/CN...</td>\n",
       "      <td>Zufferli, John &lt;/O=ENRON/OU=NA/CN=RECIPIENTS/C...</td>\n",
       "      <td>deleted items</td>\n",
       "      <td>Sorry I missed call.  My understanding is that...</td>\n",
       "      <td>zufferli-j</td>\n",
       "    </tr>\n",
       "    <tr>\n",
       "      <th>517247</th>\n",
       "      <td>zufferli-j/sent_items/269.</td>\n",
       "      <td>Message-ID: &lt;24283319.1075842034234.JavaMail.e...</td>\n",
       "      <td>02-08-2001 10:02:58</td>\n",
       "      <td></td>\n",
       "      <td>Zufferli, John &lt;/O=ENRON/OU=NA/CN=RECIPIENTS/C...</td>\n",
       "      <td>'majordomo@majordomo.pjm'</td>\n",
       "      <td>sent items</td>\n",
       "      <td>unsubscribe pjm-customer-info</td>\n",
       "      <td>zufferli-j</td>\n",
       "    </tr>\n",
       "    <tr>\n",
       "      <th>517289</th>\n",
       "      <td>zufferli-j/sent_items/308.</td>\n",
       "      <td>Message-ID: &lt;3432160.1075842035153.JavaMail.ev...</td>\n",
       "      <td>03-07-2001 12:31:56</td>\n",
       "      <td></td>\n",
       "      <td>Zufferli, John &lt;/O=ENRON/OU=NA/CN=RECIPIENTS/C...</td>\n",
       "      <td>Lavorato, John &lt;/O=ENRON/OU=NA/CN=RECIPIENTS/C...</td>\n",
       "      <td>sent items</td>\n",
       "      <td>home number is (403) 685-4817</td>\n",
       "      <td>zufferli-j</td>\n",
       "    </tr>\n",
       "    <tr>\n",
       "      <th>517311</th>\n",
       "      <td>zufferli-j/sent_items/329.</td>\n",
       "      <td>Message-ID: &lt;7014848.1075842036224.JavaMail.ev...</td>\n",
       "      <td>20-06-2001 13:17:46</td>\n",
       "      <td></td>\n",
       "      <td>Zufferli, John &lt;/O=ENRON/OU=NA/CN=RECIPIENTS/C...</td>\n",
       "      <td>Postlethwaite, John &lt;/O=ENRON/OU=NA/CN=RECIPIE...</td>\n",
       "      <td>sent items</td>\n",
       "      <td>Please give Enpower access to Murray Fichten, ...</td>\n",
       "      <td>zufferli-j</td>\n",
       "    </tr>\n",
       "  </tbody>\n",
       "</table>\n",
       "<p>19187 rows × 9 columns</p>\n",
       "</div>"
      ],
      "text/plain": [
       "                               file  \\\n",
       "0             allen-p/_sent_mail/1.   \n",
       "3          allen-p/_sent_mail/1000.   \n",
       "6          allen-p/_sent_mail/1003.   \n",
       "11          allen-p/_sent_mail/104.   \n",
       "14          allen-p/_sent_mail/107.   \n",
       "...                             ...   \n",
       "516846       zufferli-j/calendar/1.   \n",
       "516853  zufferli-j/deleted_items/1.   \n",
       "517247   zufferli-j/sent_items/269.   \n",
       "517289   zufferli-j/sent_items/308.   \n",
       "517311   zufferli-j/sent_items/329.   \n",
       "\n",
       "                                                  message  \\\n",
       "0       Message-ID: <18782981.1075855378110.JavaMail.e...   \n",
       "3       Message-ID: <13505866.1075863688222.JavaMail.e...   \n",
       "6       Message-ID: <16254169.1075863688286.JavaMail.e...   \n",
       "11      Message-ID: <25459584.1075855687536.JavaMail.e...   \n",
       "14      Message-ID: <2465689.1075855687605.JavaMail.ev...   \n",
       "...                                                   ...   \n",
       "516846  Message-ID: <28390332.1075842024763.JavaMail.e...   \n",
       "516853  Message-ID: <29945908.1075842020454.JavaMail.e...   \n",
       "517247  Message-ID: <24283319.1075842034234.JavaMail.e...   \n",
       "517289  Message-ID: <3432160.1075842035153.JavaMail.ev...   \n",
       "517311  Message-ID: <7014848.1075842036224.JavaMail.ev...   \n",
       "\n",
       "                       Date Subject  \\\n",
       "0       14-05-2001 16:39:00           \n",
       "3       23-10-2000 06:13:00           \n",
       "6       22-08-2000 07:44:00           \n",
       "11      13-10-2000 06:45:00           \n",
       "14      05-10-2000 06:26:00           \n",
       "...                     ...     ...   \n",
       "516846  05-02-2002 09:43:01           \n",
       "516853  06-02-2002 11:38:22           \n",
       "517247  02-08-2001 10:02:58           \n",
       "517289  03-07-2001 12:31:56           \n",
       "517311  20-06-2001 13:17:46           \n",
       "\n",
       "                                                   X-From  \\\n",
       "0                                         Phillip K Allen   \n",
       "3                                         Phillip K Allen   \n",
       "6                                         Phillip K Allen   \n",
       "11                                        Phillip K Allen   \n",
       "14                                        Phillip K Allen   \n",
       "...                                                   ...   \n",
       "516846  Zufferli, John </O=ENRON/OU=NA/CN=RECIPIENTS/C...   \n",
       "516853  Hayden, Frank </O=ENRON/OU=NA/CN=RECIPIENTS/CN...   \n",
       "517247  Zufferli, John </O=ENRON/OU=NA/CN=RECIPIENTS/C...   \n",
       "517289  Zufferli, John </O=ENRON/OU=NA/CN=RECIPIENTS/C...   \n",
       "517311  Zufferli, John </O=ENRON/OU=NA/CN=RECIPIENTS/C...   \n",
       "\n",
       "                                                     X-To       X-Folder  \\\n",
       "0                Tim Belden <Tim Belden/Enron@EnronXGate>     'sent mail   \n",
       "3                                           Randall L Gay     'sent mail   \n",
       "6                  david.l.johnson@enron.com, John Shafer     'sent mail   \n",
       "11                             stagecoachmama@hotmail.com     'sent mail   \n",
       "14                                       David W Delainey     'sent mail   \n",
       "...                                                   ...            ...   \n",
       "516846                                                          calendar   \n",
       "516853  Zufferli, John </O=ENRON/OU=NA/CN=RECIPIENTS/C...  deleted items   \n",
       "517247                          'majordomo@majordomo.pjm'     sent items   \n",
       "517289  Lavorato, John </O=ENRON/OU=NA/CN=RECIPIENTS/C...     sent items   \n",
       "517311  Postlethwaite, John </O=ENRON/OU=NA/CN=RECIPIE...     sent items   \n",
       "\n",
       "                                                     body    Employee  \n",
       "0                               Here is our forecast\\n\\n      allen-p  \n",
       "3       Randy,\\n\\n Can you send me a schedule of the s...     allen-p  \n",
       "6       Please cc the following distribution list with...     allen-p  \n",
       "11      Lucy,\\n\\n Here are the rentrolls:\\n\\n\\n\\n Open...     allen-p  \n",
       "14      Dave, \\n\\n Here are the names of the west desk...     allen-p  \n",
       "...                                                   ...         ...  \n",
       "516846                           Conference call with UBS  zufferli-j  \n",
       "516853  Sorry I missed call.  My understanding is that...  zufferli-j  \n",
       "517247                      unsubscribe pjm-customer-info  zufferli-j  \n",
       "517289                      home number is (403) 685-4817  zufferli-j  \n",
       "517311  Please give Enpower access to Murray Fichten, ...  zufferli-j  \n",
       "\n",
       "[19187 rows x 9 columns]"
      ]
     },
     "execution_count": 30,
     "metadata": {},
     "output_type": "execute_result"
    }
   ],
   "source": [
    "# see subject empty string \n",
    "df[df['Subject']==\"\"]"
   ]
  },
  {
   "cell_type": "code",
   "execution_count": 31,
   "id": "108a65d7",
   "metadata": {
    "execution": {
     "iopub.execute_input": "2023-04-15T11:43:19.439734Z",
     "iopub.status.busy": "2023-04-15T11:43:19.439390Z",
     "iopub.status.idle": "2023-04-15T11:43:19.863233Z",
     "shell.execute_reply": "2023-04-15T11:43:19.862254Z"
    },
    "papermill": {
     "duration": 0.441836,
     "end_time": "2023-04-15T11:43:19.865509",
     "exception": false,
     "start_time": "2023-04-15T11:43:19.423673",
     "status": "completed"
    },
    "tags": []
   },
   "outputs": [],
   "source": [
    "# replace empty missing value in subject with np.nan\n",
    "def replace_empty_with_nan(subject):\n",
    "    column=[]\n",
    "    for sub in subject:\n",
    "        if sub==\"\":\n",
    "            column.append(np.nan)\n",
    "        else:\n",
    "            column.append(sub)\n",
    "    return column\n",
    "\n",
    "df['Subject'] = replace_empty_with_nan(df['Subject'])\n",
    "df['X-To'] =  replace_empty_with_nan(df['X-To'])"
   ]
  },
  {
   "cell_type": "code",
   "execution_count": 32,
   "id": "806ace6f",
   "metadata": {
    "execution": {
     "iopub.execute_input": "2023-04-15T11:43:19.894177Z",
     "iopub.status.busy": "2023-04-15T11:43:19.893832Z",
     "iopub.status.idle": "2023-04-15T11:43:20.314217Z",
     "shell.execute_reply": "2023-04-15T11:43:20.313083Z"
    },
    "papermill": {
     "duration": 0.437002,
     "end_time": "2023-04-15T11:43:20.316221",
     "exception": false,
     "start_time": "2023-04-15T11:43:19.879219",
     "status": "completed"
    },
    "tags": []
   },
   "outputs": [
    {
     "data": {
      "text/plain": [
       "file            0\n",
       "message         0\n",
       "Date            0\n",
       "Subject     19187\n",
       "X-From         29\n",
       "X-To         9153\n",
       "X-Folder       29\n",
       "body            0\n",
       "Employee        0\n",
       "dtype: int64"
      ]
     },
     "execution_count": 32,
     "metadata": {},
     "output_type": "execute_result"
    }
   ],
   "source": [
    "# check missing value in the dataset\n",
    "df.isnull().sum()"
   ]
  },
  {
   "cell_type": "code",
   "execution_count": 33,
   "id": "d44e6f6e",
   "metadata": {
    "execution": {
     "iopub.execute_input": "2023-04-15T11:43:20.347123Z",
     "iopub.status.busy": "2023-04-15T11:43:20.346243Z",
     "iopub.status.idle": "2023-04-15T11:43:20.770085Z",
     "shell.execute_reply": "2023-04-15T11:43:20.769201Z"
    },
    "papermill": {
     "duration": 0.44155,
     "end_time": "2023-04-15T11:43:20.772063",
     "exception": false,
     "start_time": "2023-04-15T11:43:20.330513",
     "status": "completed"
    },
    "tags": []
   },
   "outputs": [
    {
     "data": {
      "text/plain": [
       "Subject     0.037083\n",
       "X-From      0.000056\n",
       "X-To        0.017690\n",
       "X-Folder    0.000056\n",
       "dtype: float64"
      ]
     },
     "execution_count": 33,
     "metadata": {},
     "output_type": "execute_result"
    }
   ],
   "source": [
    "# calculate the missing value percentage\n",
    "missing_value= df.isnull().sum()\n",
    "miss =missing_value[missing_value>0]\n",
    "miss_percen = miss/df.shape[0]\n",
    "\n",
    "miss_percen"
   ]
  },
  {
   "cell_type": "code",
   "execution_count": 34,
   "id": "cdc7877e",
   "metadata": {
    "execution": {
     "iopub.execute_input": "2023-04-15T11:43:20.801701Z",
     "iopub.status.busy": "2023-04-15T11:43:20.801364Z",
     "iopub.status.idle": "2023-04-15T11:43:21.328930Z",
     "shell.execute_reply": "2023-04-15T11:43:21.327913Z"
    },
    "papermill": {
     "duration": 0.545207,
     "end_time": "2023-04-15T11:43:21.331304",
     "exception": false,
     "start_time": "2023-04-15T11:43:20.786097",
     "status": "completed"
    },
    "tags": []
   },
   "outputs": [],
   "source": [
    "# drop missing value rows from the dataset\n",
    "# Lets not drop the missing values for the time being\n",
    "# df.dropna(axis=0,inplace=True)"
   ]
  },
  {
   "cell_type": "code",
   "execution_count": 35,
   "id": "fb1eafbd",
   "metadata": {
    "execution": {
     "iopub.execute_input": "2023-04-15T11:43:21.361240Z",
     "iopub.status.busy": "2023-04-15T11:43:21.360819Z",
     "iopub.status.idle": "2023-04-15T11:43:21.774235Z",
     "shell.execute_reply": "2023-04-15T11:43:21.773156Z"
    },
    "papermill": {
     "duration": 0.431061,
     "end_time": "2023-04-15T11:43:21.776425",
     "exception": false,
     "start_time": "2023-04-15T11:43:21.345364",
     "status": "completed"
    },
    "tags": []
   },
   "outputs": [
    {
     "data": {
      "text/plain": [
       "file            0\n",
       "message         0\n",
       "Date            0\n",
       "Subject     19187\n",
       "X-From         29\n",
       "X-To         9153\n",
       "X-Folder       29\n",
       "body            0\n",
       "Employee        0\n",
       "dtype: int64"
      ]
     },
     "execution_count": 35,
     "metadata": {},
     "output_type": "execute_result"
    }
   ],
   "source": [
    "df.isnull().sum()"
   ]
  },
  {
   "cell_type": "code",
   "execution_count": 36,
   "id": "21d7db56",
   "metadata": {
    "execution": {
     "iopub.execute_input": "2023-04-15T11:43:21.807143Z",
     "iopub.status.busy": "2023-04-15T11:43:21.806008Z",
     "iopub.status.idle": "2023-04-15T11:43:21.819713Z",
     "shell.execute_reply": "2023-04-15T11:43:21.818783Z"
    },
    "papermill": {
     "duration": 0.031052,
     "end_time": "2023-04-15T11:43:21.821712",
     "exception": false,
     "start_time": "2023-04-15T11:43:21.790660",
     "status": "completed"
    },
    "tags": []
   },
   "outputs": [
    {
     "data": {
      "text/html": [
       "<div>\n",
       "<style scoped>\n",
       "    .dataframe tbody tr th:only-of-type {\n",
       "        vertical-align: middle;\n",
       "    }\n",
       "\n",
       "    .dataframe tbody tr th {\n",
       "        vertical-align: top;\n",
       "    }\n",
       "\n",
       "    .dataframe thead th {\n",
       "        text-align: right;\n",
       "    }\n",
       "</style>\n",
       "<table border=\"1\" class=\"dataframe\">\n",
       "  <thead>\n",
       "    <tr style=\"text-align: right;\">\n",
       "      <th></th>\n",
       "      <th>file</th>\n",
       "      <th>message</th>\n",
       "      <th>Date</th>\n",
       "      <th>Subject</th>\n",
       "      <th>X-From</th>\n",
       "      <th>X-To</th>\n",
       "      <th>X-Folder</th>\n",
       "      <th>body</th>\n",
       "      <th>Employee</th>\n",
       "    </tr>\n",
       "  </thead>\n",
       "  <tbody>\n",
       "    <tr>\n",
       "      <th>0</th>\n",
       "      <td>allen-p/_sent_mail/1.</td>\n",
       "      <td>Message-ID: &lt;18782981.1075855378110.JavaMail.e...</td>\n",
       "      <td>14-05-2001 16:39:00</td>\n",
       "      <td>NaN</td>\n",
       "      <td>Phillip K Allen</td>\n",
       "      <td>Tim Belden &lt;Tim Belden/Enron@EnronXGate&gt;</td>\n",
       "      <td>'sent mail</td>\n",
       "      <td>Here is our forecast\\n\\n</td>\n",
       "      <td>allen-p</td>\n",
       "    </tr>\n",
       "    <tr>\n",
       "      <th>1</th>\n",
       "      <td>allen-p/_sent_mail/10.</td>\n",
       "      <td>Message-ID: &lt;15464986.1075855378456.JavaMail.e...</td>\n",
       "      <td>04-05-2001 13:51:00</td>\n",
       "      <td>Re:</td>\n",
       "      <td>Phillip K Allen</td>\n",
       "      <td>John J Lavorato &lt;John J Lavorato/ENRON@enronXg...</td>\n",
       "      <td>'sent mail</td>\n",
       "      <td>Traveling to have a business meeting takes the...</td>\n",
       "      <td>allen-p</td>\n",
       "    </tr>\n",
       "    <tr>\n",
       "      <th>2</th>\n",
       "      <td>allen-p/_sent_mail/100.</td>\n",
       "      <td>Message-ID: &lt;24216240.1075855687451.JavaMail.e...</td>\n",
       "      <td>18-10-2000 03:00:00</td>\n",
       "      <td>Re: test</td>\n",
       "      <td>Phillip K Allen</td>\n",
       "      <td>Leah Van Arsdall</td>\n",
       "      <td>'sent mail</td>\n",
       "      <td>test successful.  way to go!!!</td>\n",
       "      <td>allen-p</td>\n",
       "    </tr>\n",
       "  </tbody>\n",
       "</table>\n",
       "</div>"
      ],
      "text/plain": [
       "                      file                                            message  \\\n",
       "0    allen-p/_sent_mail/1.  Message-ID: <18782981.1075855378110.JavaMail.e...   \n",
       "1   allen-p/_sent_mail/10.  Message-ID: <15464986.1075855378456.JavaMail.e...   \n",
       "2  allen-p/_sent_mail/100.  Message-ID: <24216240.1075855687451.JavaMail.e...   \n",
       "\n",
       "                  Date   Subject           X-From  \\\n",
       "0  14-05-2001 16:39:00       NaN  Phillip K Allen   \n",
       "1  04-05-2001 13:51:00       Re:  Phillip K Allen   \n",
       "2  18-10-2000 03:00:00  Re: test  Phillip K Allen   \n",
       "\n",
       "                                                X-To    X-Folder  \\\n",
       "0           Tim Belden <Tim Belden/Enron@EnronXGate>  'sent mail   \n",
       "1  John J Lavorato <John J Lavorato/ENRON@enronXg...  'sent mail   \n",
       "2                                   Leah Van Arsdall  'sent mail   \n",
       "\n",
       "                                                body Employee  \n",
       "0                          Here is our forecast\\n\\n   allen-p  \n",
       "1  Traveling to have a business meeting takes the...  allen-p  \n",
       "2                     test successful.  way to go!!!  allen-p  "
      ]
     },
     "execution_count": 36,
     "metadata": {},
     "output_type": "execute_result"
    }
   ],
   "source": [
    "df.head(3)"
   ]
  },
  {
   "cell_type": "code",
   "execution_count": 37,
   "id": "f08e9b5d",
   "metadata": {
    "execution": {
     "iopub.execute_input": "2023-04-15T11:43:21.852242Z",
     "iopub.status.busy": "2023-04-15T11:43:21.851892Z",
     "iopub.status.idle": "2023-04-15T11:43:21.877329Z",
     "shell.execute_reply": "2023-04-15T11:43:21.876332Z"
    },
    "papermill": {
     "duration": 0.043223,
     "end_time": "2023-04-15T11:43:21.879467",
     "exception": false,
     "start_time": "2023-04-15T11:43:21.836244",
     "status": "completed"
    },
    "tags": []
   },
   "outputs": [],
   "source": [
    "# now need to drop some columns which is not necessary for the model \n",
    "# drop_column_names= ['file','message','Date','X-From','X-To','Employee']\n",
    "# df.drop(columns=drop_column_names,axis=1,inplace=True)"
   ]
  },
  {
   "cell_type": "code",
   "execution_count": 38,
   "id": "ecab071e",
   "metadata": {
    "execution": {
     "iopub.execute_input": "2023-04-15T11:43:21.909730Z",
     "iopub.status.busy": "2023-04-15T11:43:21.909335Z",
     "iopub.status.idle": "2023-04-15T11:43:21.915682Z",
     "shell.execute_reply": "2023-04-15T11:43:21.914755Z"
    },
    "papermill": {
     "duration": 0.023798,
     "end_time": "2023-04-15T11:43:21.917660",
     "exception": false,
     "start_time": "2023-04-15T11:43:21.893862",
     "status": "completed"
    },
    "tags": []
   },
   "outputs": [
    {
     "data": {
      "text/plain": [
       "Index(['file', 'message', 'Date', 'Subject', 'X-From', 'X-To', 'X-Folder',\n",
       "       'body', 'Employee'],\n",
       "      dtype='object')"
      ]
     },
     "execution_count": 38,
     "metadata": {},
     "output_type": "execute_result"
    }
   ],
   "source": [
    "df.columns"
   ]
  },
  {
   "cell_type": "code",
   "execution_count": 39,
   "id": "e1c62641",
   "metadata": {
    "execution": {
     "iopub.execute_input": "2023-04-15T11:43:21.948565Z",
     "iopub.status.busy": "2023-04-15T11:43:21.948160Z",
     "iopub.status.idle": "2023-04-15T11:43:21.959041Z",
     "shell.execute_reply": "2023-04-15T11:43:21.957891Z"
    },
    "papermill": {
     "duration": 0.028704,
     "end_time": "2023-04-15T11:43:21.961009",
     "exception": false,
     "start_time": "2023-04-15T11:43:21.932305",
     "status": "completed"
    },
    "tags": []
   },
   "outputs": [
    {
     "data": {
      "text/html": [
       "<div>\n",
       "<style scoped>\n",
       "    .dataframe tbody tr th:only-of-type {\n",
       "        vertical-align: middle;\n",
       "    }\n",
       "\n",
       "    .dataframe tbody tr th {\n",
       "        vertical-align: top;\n",
       "    }\n",
       "\n",
       "    .dataframe thead th {\n",
       "        text-align: right;\n",
       "    }\n",
       "</style>\n",
       "<table border=\"1\" class=\"dataframe\">\n",
       "  <thead>\n",
       "    <tr style=\"text-align: right;\">\n",
       "      <th></th>\n",
       "      <th>file</th>\n",
       "      <th>message</th>\n",
       "      <th>Date</th>\n",
       "      <th>Subject</th>\n",
       "      <th>X-From</th>\n",
       "      <th>X-To</th>\n",
       "      <th>X-Folder</th>\n",
       "      <th>body</th>\n",
       "      <th>Employee</th>\n",
       "    </tr>\n",
       "  </thead>\n",
       "  <tbody>\n",
       "    <tr>\n",
       "      <th>0</th>\n",
       "      <td>allen-p/_sent_mail/1.</td>\n",
       "      <td>Message-ID: &lt;18782981.1075855378110.JavaMail.e...</td>\n",
       "      <td>14-05-2001 16:39:00</td>\n",
       "      <td>NaN</td>\n",
       "      <td>Phillip K Allen</td>\n",
       "      <td>Tim Belden &lt;Tim Belden/Enron@EnronXGate&gt;</td>\n",
       "      <td>'sent mail</td>\n",
       "      <td>Here is our forecast\\n\\n</td>\n",
       "      <td>allen-p</td>\n",
       "    </tr>\n",
       "    <tr>\n",
       "      <th>1</th>\n",
       "      <td>allen-p/_sent_mail/10.</td>\n",
       "      <td>Message-ID: &lt;15464986.1075855378456.JavaMail.e...</td>\n",
       "      <td>04-05-2001 13:51:00</td>\n",
       "      <td>Re:</td>\n",
       "      <td>Phillip K Allen</td>\n",
       "      <td>John J Lavorato &lt;John J Lavorato/ENRON@enronXg...</td>\n",
       "      <td>'sent mail</td>\n",
       "      <td>Traveling to have a business meeting takes the...</td>\n",
       "      <td>allen-p</td>\n",
       "    </tr>\n",
       "    <tr>\n",
       "      <th>2</th>\n",
       "      <td>allen-p/_sent_mail/100.</td>\n",
       "      <td>Message-ID: &lt;24216240.1075855687451.JavaMail.e...</td>\n",
       "      <td>18-10-2000 03:00:00</td>\n",
       "      <td>Re: test</td>\n",
       "      <td>Phillip K Allen</td>\n",
       "      <td>Leah Van Arsdall</td>\n",
       "      <td>'sent mail</td>\n",
       "      <td>test successful.  way to go!!!</td>\n",
       "      <td>allen-p</td>\n",
       "    </tr>\n",
       "    <tr>\n",
       "      <th>3</th>\n",
       "      <td>allen-p/_sent_mail/1000.</td>\n",
       "      <td>Message-ID: &lt;13505866.1075863688222.JavaMail.e...</td>\n",
       "      <td>23-10-2000 06:13:00</td>\n",
       "      <td>NaN</td>\n",
       "      <td>Phillip K Allen</td>\n",
       "      <td>Randall L Gay</td>\n",
       "      <td>'sent mail</td>\n",
       "      <td>Randy,\\n\\n Can you send me a schedule of the s...</td>\n",
       "      <td>allen-p</td>\n",
       "    </tr>\n",
       "    <tr>\n",
       "      <th>4</th>\n",
       "      <td>allen-p/_sent_mail/1001.</td>\n",
       "      <td>Message-ID: &lt;30922949.1075863688243.JavaMail.e...</td>\n",
       "      <td>31-08-2000 05:07:00</td>\n",
       "      <td>Re: Hello</td>\n",
       "      <td>Phillip K Allen</td>\n",
       "      <td>Greg Piper</td>\n",
       "      <td>'sent mail</td>\n",
       "      <td>Let's shoot for Tuesday at 11:45.</td>\n",
       "      <td>allen-p</td>\n",
       "    </tr>\n",
       "  </tbody>\n",
       "</table>\n",
       "</div>"
      ],
      "text/plain": [
       "                       file  \\\n",
       "0     allen-p/_sent_mail/1.   \n",
       "1    allen-p/_sent_mail/10.   \n",
       "2   allen-p/_sent_mail/100.   \n",
       "3  allen-p/_sent_mail/1000.   \n",
       "4  allen-p/_sent_mail/1001.   \n",
       "\n",
       "                                             message                 Date  \\\n",
       "0  Message-ID: <18782981.1075855378110.JavaMail.e...  14-05-2001 16:39:00   \n",
       "1  Message-ID: <15464986.1075855378456.JavaMail.e...  04-05-2001 13:51:00   \n",
       "2  Message-ID: <24216240.1075855687451.JavaMail.e...  18-10-2000 03:00:00   \n",
       "3  Message-ID: <13505866.1075863688222.JavaMail.e...  23-10-2000 06:13:00   \n",
       "4  Message-ID: <30922949.1075863688243.JavaMail.e...  31-08-2000 05:07:00   \n",
       "\n",
       "     Subject           X-From  \\\n",
       "0        NaN  Phillip K Allen   \n",
       "1        Re:  Phillip K Allen   \n",
       "2   Re: test  Phillip K Allen   \n",
       "3        NaN  Phillip K Allen   \n",
       "4  Re: Hello  Phillip K Allen   \n",
       "\n",
       "                                                X-To    X-Folder  \\\n",
       "0           Tim Belden <Tim Belden/Enron@EnronXGate>  'sent mail   \n",
       "1  John J Lavorato <John J Lavorato/ENRON@enronXg...  'sent mail   \n",
       "2                                   Leah Van Arsdall  'sent mail   \n",
       "3                                      Randall L Gay  'sent mail   \n",
       "4                                         Greg Piper  'sent mail   \n",
       "\n",
       "                                                body Employee  \n",
       "0                          Here is our forecast\\n\\n   allen-p  \n",
       "1  Traveling to have a business meeting takes the...  allen-p  \n",
       "2                     test successful.  way to go!!!  allen-p  \n",
       "3  Randy,\\n\\n Can you send me a schedule of the s...  allen-p  \n",
       "4                Let's shoot for Tuesday at 11:45.    allen-p  "
      ]
     },
     "execution_count": 39,
     "metadata": {},
     "output_type": "execute_result"
    }
   ],
   "source": [
    "df.head()"
   ]
  },
  {
   "cell_type": "code",
   "execution_count": 40,
   "id": "db7b2aae",
   "metadata": {
    "execution": {
     "iopub.execute_input": "2023-04-15T11:43:21.992011Z",
     "iopub.status.busy": "2023-04-15T11:43:21.991629Z",
     "iopub.status.idle": "2023-04-15T11:43:34.345215Z",
     "shell.execute_reply": "2023-04-15T11:43:34.344446Z"
    },
    "papermill": {
     "duration": 12.371983,
     "end_time": "2023-04-15T11:43:34.347714",
     "exception": false,
     "start_time": "2023-04-15T11:43:21.975731",
     "status": "completed"
    },
    "tags": []
   },
   "outputs": [],
   "source": [
    "df.to_csv(\"/Users/kshitijmittal/Documents/UChicago Acad/Hedwig_AI/Hedwig/00_Data/cleaned_emails_dataset.csv\",index=False)"
   ]
  },
  {
   "cell_type": "code",
   "execution_count": null,
   "id": "dd7f4649",
   "metadata": {
    "papermill": {
     "duration": 0.014098,
     "end_time": "2023-04-15T11:43:34.376727",
     "exception": false,
     "start_time": "2023-04-15T11:43:34.362629",
     "status": "completed"
    },
    "tags": []
   },
   "outputs": [],
   "source": []
  },
  {
   "cell_type": "code",
   "execution_count": null,
   "id": "a8bec0da",
   "metadata": {},
   "outputs": [],
   "source": []
  }
 ],
 "metadata": {
  "environment": {
   "kernel": "python3",
   "name": "tf2-cpu.2-11.m112",
   "type": "gcloud",
   "uri": "gcr.io/deeplearning-platform-release/tf2-cpu.2-11:m112"
  },
  "kernelspec": {
   "display_name": "Python 3",
   "language": "python",
   "name": "python3"
  },
  "language_info": {
   "codemirror_mode": {
    "name": "ipython",
    "version": 3
   },
   "file_extension": ".py",
   "mimetype": "text/x-python",
   "name": "python",
   "nbconvert_exporter": "python",
   "pygments_lexer": "ipython3",
   "version": "3.10.12"
  },
  "papermill": {
   "default_parameters": {},
   "duration": 543.918614,
   "end_time": "2023-04-15T11:43:35.514535",
   "environment_variables": {},
   "exception": null,
   "input_path": "__notebook__.ipynb",
   "output_path": "__notebook__.ipynb",
   "parameters": {},
   "start_time": "2023-04-15T11:34:31.595921",
   "version": "2.4.0"
  },
  "vscode": {
   "interpreter": {
    "hash": "793fb0bde5ea8753a40a01a5e33eae984847b46c2df8f559a9fefaec63ca7473"
   }
  }
 },
 "nbformat": 4,
 "nbformat_minor": 5
}
