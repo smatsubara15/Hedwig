{
 "cells": [
  {
   "cell_type": "code",
   "execution_count": 1,
   "id": "63bd5b56-6641-4e59-a2bf-c74f1f0342de",
   "metadata": {},
   "outputs": [],
   "source": [
    "#!pip install google-cloud-storage\n",
    "import pandas as pd\n",
    "from google.cloud import storage\n",
    "# import os\n",
    "\n",
    "# os.environ[\"GOOGLE_APPLICATION_CREDENTIALS\"] = \"Hedwig/00_Data/msca310019-capstone-49b3-6876cdba6fac.json\""
   ]
  },
  {
   "cell_type": "code",
   "execution_count": 2,
   "id": "fdf3676a-8239-4f76-86ae-c3ce28cdf393",
   "metadata": {},
   "outputs": [],
   "source": [
    "client = storage.Client()\n",
    "bucket = client.get_bucket('user-scripts-msca310019-capstone-49b3')"
   ]
  },
  {
   "cell_type": "code",
   "execution_count": 3,
   "id": "14877c46-bc04-4d38-96af-6d7310078479",
   "metadata": {},
   "outputs": [],
   "source": [
    "blob = bucket.blob('data/emails.csv')\n",
    "content = blob.download_as_string()"
   ]
  },
  {
   "cell_type": "code",
   "execution_count": 5,
   "id": "276493bb-25cb-4162-8903-72c1f6ee845a",
   "metadata": {},
   "outputs": [],
   "source": [
    "import io\n",
    "df = pd.read_csv(io.BytesIO(content))"
   ]
  },
  {
   "cell_type": "code",
   "execution_count": 8,
   "id": "7c743044-dc05-45e6-953f-3e2bcc8071ab",
   "metadata": {},
   "outputs": [],
   "source": [
    "df = df.sample(100)"
   ]
  }
 ],
 "metadata": {
  "environment": {
   "kernel": "python3",
   "name": "common-cpu.m107",
   "type": "gcloud",
   "uri": "gcr.io/deeplearning-platform-release/base-cpu:m107"
  },
  "kernelspec": {
   "display_name": "base",
   "language": "python",
   "name": "python3"
  },
  "language_info": {
   "codemirror_mode": {
    "name": "ipython",
    "version": 3
   },
   "file_extension": ".py",
   "mimetype": "text/x-python",
   "name": "python",
   "nbconvert_exporter": "python",
   "pygments_lexer": "ipython3",
   "version": "3.9.12 (main, Apr  5 2022, 01:53:17) \n[Clang 12.0.0 ]"
  },
  "vscode": {
   "interpreter": {
    "hash": "b1fa752ca0887f17b8e0c109bdb7229e3d67df240d797e9f30425dc0f1ef03b0"
   }
  }
 },
 "nbformat": 4,
 "nbformat_minor": 5
}
