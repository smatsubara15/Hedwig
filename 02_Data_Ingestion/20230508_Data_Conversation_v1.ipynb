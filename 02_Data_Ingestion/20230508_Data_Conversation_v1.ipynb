{
 "cells": [
  {
   "cell_type": "code",
   "execution_count": null,
   "metadata": {},
   "outputs": [],
   "source": []
  }
 ],
 "metadata": {
  "kernelspec": {
   "display_name": "MSCA_HEDW",
   "language": "python",
   "name": "python3"
  },
  "language_info": {
   "name": "python",
   "version": "3.9.16 (main, Mar  8 2023, 04:29:44) \n[Clang 14.0.6 ]"
  },
  "orig_nbformat": 4,
  "vscode": {
   "interpreter": {
    "hash": "7b3bfb2f1c6c40e251d88f16f93dccb101a0c97fda1372b1118b2d882ff1707e"
   }
  }
 },
 "nbformat": 4,
 "nbformat_minor": 2
}
