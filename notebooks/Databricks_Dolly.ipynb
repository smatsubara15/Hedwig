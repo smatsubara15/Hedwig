{
 "cells": [
  {
   "cell_type": "markdown",
   "id": "4178afa4-022e-4bf5-9055-11429ea46818",
   "metadata": {},
   "source": [
    "## Open Instruction-Tuned LLM\n",
    "https://www.databricks.com/blog/2023/04/12/dolly-first-open-commercially-viable-instruction-tuned-llm  \n"
   ]
  },
  {
   "cell_type": "code",
   "execution_count": null,
   "id": "a9605e97-2b10-4ed9-b9a1-1647b38dfc34",
   "metadata": {},
   "outputs": [],
   "source": []
  },
  {
   "cell_type": "code",
   "execution_count": 1,
   "id": "b71cd9e4-7670-4d1c-8eed-49b66a68adaf",
   "metadata": {},
   "outputs": [],
   "source": [
    "# !pip list | grep accelerate\n",
    "# !pip list | grep transformers\n",
    "# !pip list | grep ipywidgets"
   ]
  },
  {
   "cell_type": "code",
   "execution_count": 2,
   "id": "81c91e5f-4c15-4357-bede-e807bc1fe7f8",
   "metadata": {},
   "outputs": [],
   "source": [
    "# %pip install accelerate==0.18.0\n",
    "# %pip install transformers==4.25.1\n",
    "# %pip install ipywidgets==8.0.4"
   ]
  },
  {
   "cell_type": "code",
   "execution_count": null,
   "id": "f04d1087-d1e0-42dd-a39e-e8cef8bc5ebd",
   "metadata": {},
   "outputs": [],
   "source": []
  },
  {
   "cell_type": "code",
   "execution_count": 3,
   "id": "f5f2f178-5b46-4d31-9f12-b3ca13c2c299",
   "metadata": {},
   "outputs": [],
   "source": [
    "import torch\n",
    "from transformers import pipeline\n",
    "\n",
    "# 2.8b parameter model\n",
    "generate_text = pipeline(model=\"databricks/dolly-v2-2-8b\", torch_dtype=torch.bfloat16, trust_remote_code=True, device_map=\"auto\")\n",
    "\n",
    "# 6.9b parameter model\n",
    "# generate_text = pipeline(model=\"databricks/dolly-v2-6-9b\", torch_dtype=torch.bfloat16, trust_remote_code=True, device_map=\"auto\")\n",
    "\n",
    "# 12b parameter model\n",
    "# generate_text = pipeline(model=\"databricks/dolly-v2-12b\", torch_dtype=torch.bfloat16, trust_remote_code=True, device_map=\"auto\")"
   ]
  },
  {
   "cell_type": "code",
   "execution_count": 5,
   "id": "c18675fc-e679-42cd-9a13-def174c858e5",
   "metadata": {},
   "outputs": [
    {
     "data": {
      "text/plain": [
       "'While both cappuccino and latte are also brewed beverages, there is a distinction between them. A latte typically has less milk than a cappuccino, and the coffee is brewed longer and often stronger. In terms of the milk, it is often processed differently as well.'"
      ]
     },
     "execution_count": 5,
     "metadata": {},
     "output_type": "execute_result"
    }
   ],
   "source": [
    "generate_text(\"What is the difference between latte and cappucino?\")"
   ]
  },
  {
   "cell_type": "code",
   "execution_count": null,
   "id": "b3eaf73b-22e7-48c0-b1cc-1373ef116114",
   "metadata": {},
   "outputs": [],
   "source": []
  }
 ],
 "metadata": {
  "kernelspec": {
   "display_name": "Python 3 (ipykernel)",
   "language": "python",
   "name": "python3"
  },
  "language_info": {
   "codemirror_mode": {
    "name": "ipython",
    "version": 3
   },
   "file_extension": ".py",
   "mimetype": "text/x-python",
   "name": "python",
   "nbconvert_exporter": "python",
   "pygments_lexer": "ipython3",
   "version": "3.7.12"
  }
 },
 "nbformat": 4,
 "nbformat_minor": 5
}
