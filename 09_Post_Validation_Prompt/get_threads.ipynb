{
 "cells": [
  {
   "cell_type": "code",
   "execution_count": 1,
   "id": "41854ece-5150-4fd4-9e90-2764e3aa30bb",
   "metadata": {},
   "outputs": [],
   "source": [
    "import pandas as pd"
   ]
  },
  {
   "cell_type": "code",
   "execution_count": 2,
   "id": "b1bec246-2d01-40a2-b455-9e4fef24ce47",
   "metadata": {},
   "outputs": [],
   "source": [
    "data = pd.read_csv('human_validation_with_relevent_date.csv')"
   ]
  },
  {
   "cell_type": "code",
   "execution_count": 6,
   "id": "0c4863ea-7380-4ec0-bece-517b4c4b8b38",
   "metadata": {},
   "outputs": [
    {
     "data": {
      "text/html": [
       "<div>\n",
       "<style scoped>\n",
       "    .dataframe tbody tr th:only-of-type {\n",
       "        vertical-align: middle;\n",
       "    }\n",
       "\n",
       "    .dataframe tbody tr th {\n",
       "        vertical-align: top;\n",
       "    }\n",
       "\n",
       "    .dataframe thead th {\n",
       "        text-align: right;\n",
       "    }\n",
       "</style>\n",
       "<table border=\"1\" class=\"dataframe\">\n",
       "  <thead>\n",
       "    <tr style=\"text-align: right;\">\n",
       "      <th></th>\n",
       "      <th>Unnamed: 0</th>\n",
       "      <th>subject</th>\n",
       "      <th>sender</th>\n",
       "      <th>sender_date</th>\n",
       "      <th>message</th>\n",
       "      <th>replier</th>\n",
       "      <th>replier_date</th>\n",
       "      <th>reply_message</th>\n",
       "      <th>Email_ID</th>\n",
       "      <th>Sender_Receiver_Emails</th>\n",
       "      <th>Sender_Emails_All</th>\n",
       "    </tr>\n",
       "  </thead>\n",
       "  <tbody>\n",
       "    <tr>\n",
       "      <th>0</th>\n",
       "      <td>0</td>\n",
       "      <td>Basketball Game</td>\n",
       "      <td>Scott</td>\n",
       "      <td>2023-01-01</td>\n",
       "      <td>Yoo do you wanna go watch the bball game tomor...</td>\n",
       "      <td>Radhika</td>\n",
       "      <td>2023-01-02</td>\n",
       "      <td>Hey Scott,\\n\\nI appreciate the invite a lot. B...</td>\n",
       "      <td>1</td>\n",
       "      <td>['Hey Scott,\\n\\nAs you already know, I am a ve...</td>\n",
       "      <td>['Hey Scott,\\n\\nAs you already know, I am a ve...</td>\n",
       "    </tr>\n",
       "    <tr>\n",
       "      <th>1</th>\n",
       "      <td>1</td>\n",
       "      <td>Basketball Game</td>\n",
       "      <td>Scott</td>\n",
       "      <td>2023-01-03</td>\n",
       "      <td>Bro itll be fun trust me. I wanna watch sports...</td>\n",
       "      <td>Radhika</td>\n",
       "      <td>2023-01-04</td>\n",
       "      <td>Hey Scott,\\n\\nAs you already know, I am a vege...</td>\n",
       "      <td>2</td>\n",
       "      <td>[\"Hey Scott,\\n\\nI appreciate the invite a lot....</td>\n",
       "      <td>[\"Hey Scott,\\n\\nI appreciate the invite a lot....</td>\n",
       "    </tr>\n",
       "    <tr>\n",
       "      <th>2</th>\n",
       "      <td>2</td>\n",
       "      <td>Basketball Game</td>\n",
       "      <td>Scott</td>\n",
       "      <td>2023-01-05</td>\n",
       "      <td>ah but meat is so delish. no worries though. T...</td>\n",
       "      <td>Radhika</td>\n",
       "      <td>2023-01-06</td>\n",
       "      <td>Hello Scott,\\n\\nI should be free to go at 9pm ...</td>\n",
       "      <td>3</td>\n",
       "      <td>[\"Hey Scott,\\n\\nI appreciate the invite a lot....</td>\n",
       "      <td>[\"Hey Scott,\\n\\nI appreciate the invite a lot....</td>\n",
       "    </tr>\n",
       "    <tr>\n",
       "      <th>3</th>\n",
       "      <td>3</td>\n",
       "      <td>Basketball Game</td>\n",
       "      <td>Scott</td>\n",
       "      <td>2023-01-07</td>\n",
       "      <td>Ill teach u about basketball dont worry, ill g...</td>\n",
       "      <td>Radhika</td>\n",
       "      <td>2023-01-08</td>\n",
       "      <td>Scott,\\n\\nThat sounds great! You do owe me a d...</td>\n",
       "      <td>4</td>\n",
       "      <td>[\"Hey Scott,\\n\\nI appreciate the invite a lot....</td>\n",
       "      <td>[\"Hey Scott,\\n\\nI appreciate the invite a lot....</td>\n",
       "    </tr>\n",
       "    <tr>\n",
       "      <th>4</th>\n",
       "      <td>4</td>\n",
       "      <td>Basketball Game</td>\n",
       "      <td>Scott</td>\n",
       "      <td>2023-01-09</td>\n",
       "      <td>I like baseball too. Can you do sports betting...</td>\n",
       "      <td>Radhika</td>\n",
       "      <td>2023-01-10</td>\n",
       "      <td>Hey Scott,\\n\\nI don't think so - badminton is ...</td>\n",
       "      <td>5</td>\n",
       "      <td>[\"Hey Scott,\\n\\nI appreciate the invite a lot....</td>\n",
       "      <td>[\"Hey Scott,\\n\\nI appreciate the invite a lot....</td>\n",
       "    </tr>\n",
       "  </tbody>\n",
       "</table>\n",
       "</div>"
      ],
      "text/plain": [
       "   Unnamed: 0          subject sender sender_date  \\\n",
       "0           0  Basketball Game  Scott  2023-01-01   \n",
       "1           1  Basketball Game  Scott  2023-01-03   \n",
       "2           2  Basketball Game  Scott  2023-01-05   \n",
       "3           3  Basketball Game  Scott  2023-01-07   \n",
       "4           4  Basketball Game  Scott  2023-01-09   \n",
       "\n",
       "                                             message  replier replier_date  \\\n",
       "0  Yoo do you wanna go watch the bball game tomor...  Radhika   2023-01-02   \n",
       "1  Bro itll be fun trust me. I wanna watch sports...  Radhika   2023-01-04   \n",
       "2  ah but meat is so delish. no worries though. T...  Radhika   2023-01-06   \n",
       "3  Ill teach u about basketball dont worry, ill g...  Radhika   2023-01-08   \n",
       "4  I like baseball too. Can you do sports betting...  Radhika   2023-01-10   \n",
       "\n",
       "                                       reply_message  Email_ID  \\\n",
       "0  Hey Scott,\\n\\nI appreciate the invite a lot. B...         1   \n",
       "1  Hey Scott,\\n\\nAs you already know, I am a vege...         2   \n",
       "2  Hello Scott,\\n\\nI should be free to go at 9pm ...         3   \n",
       "3  Scott,\\n\\nThat sounds great! You do owe me a d...         4   \n",
       "4  Hey Scott,\\n\\nI don't think so - badminton is ...         5   \n",
       "\n",
       "                              Sender_Receiver_Emails  \\\n",
       "0  ['Hey Scott,\\n\\nAs you already know, I am a ve...   \n",
       "1  [\"Hey Scott,\\n\\nI appreciate the invite a lot....   \n",
       "2  [\"Hey Scott,\\n\\nI appreciate the invite a lot....   \n",
       "3  [\"Hey Scott,\\n\\nI appreciate the invite a lot....   \n",
       "4  [\"Hey Scott,\\n\\nI appreciate the invite a lot....   \n",
       "\n",
       "                                   Sender_Emails_All  \n",
       "0  ['Hey Scott,\\n\\nAs you already know, I am a ve...  \n",
       "1  [\"Hey Scott,\\n\\nI appreciate the invite a lot....  \n",
       "2  [\"Hey Scott,\\n\\nI appreciate the invite a lot....  \n",
       "3  [\"Hey Scott,\\n\\nI appreciate the invite a lot....  \n",
       "4  [\"Hey Scott,\\n\\nI appreciate the invite a lot....  "
      ]
     },
     "execution_count": 6,
     "metadata": {},
     "output_type": "execute_result"
    }
   ],
   "source": [
    "data.head()"
   ]
  },
  {
   "cell_type": "code",
   "execution_count": 9,
   "id": "38cceef3-4ec5-4149-b81e-ed0155ed5ab1",
   "metadata": {},
   "outputs": [
    {
     "data": {
      "text/plain": [
       "0       Scott\n",
       "1       Scott\n",
       "2       Scott\n",
       "3       Scott\n",
       "4       Scott\n",
       "5       Scott\n",
       "6       Scott\n",
       "7       Scott\n",
       "8       Scott\n",
       "9       Scott\n",
       "10      Scott\n",
       "11      Scott\n",
       "12      Scott\n",
       "13      Scott\n",
       "14      Scott\n",
       "15    Radhika\n",
       "16    Radhika\n",
       "17    Radhika\n",
       "18    Radhika\n",
       "19    Kshitij\n",
       "20    Kshitij\n",
       "21    Kshitij\n",
       "22    Kshitij\n",
       "23    Kshitij\n",
       "24    Kshitij\n",
       "25    Kshitij\n",
       "26    Kshitij\n",
       "27    Kshitij\n",
       "28    Kshitij\n",
       "29    Kshitij\n",
       "30    Kshitij\n",
       "Name: sender, dtype: object"
      ]
     },
     "execution_count": 9,
     "metadata": {},
     "output_type": "execute_result"
    }
   ],
   "source": [
    "data.sender"
   ]
  },
  {
   "cell_type": "code",
   "execution_count": 45,
   "id": "19d854bc-0947-47fa-addf-429ca56823e4",
   "metadata": {},
   "outputs": [],
   "source": [
    "import math\n",
    "def get_threads(sender,replier,subject,df,num_relevant):\n",
    "    relevant_df = df[((df.sender==sender) & (df.replier==replier) & (df.subject == subject))]\n",
    "    \n",
    "    if (len(relevant_df)==0):\n",
    "        relevant_df = df[((df.sender==replier) & (df.replier==sender) & (df.subject == subject))]\n",
    "    \n",
    "    relevant_df['sender_date'] = pd.to_datetime(relevant_df['sender_date'])\n",
    "    relevant_df['replier_date'] = pd.to_datetime(relevant_df['replier_date'])\n",
    "    \n",
    "    messages = pd.concat([relevant_df['message'], relevant_df['reply_message']]).reset_index(drop=True)\n",
    "    dates = pd.concat([relevant_df['sender_date'], relevant_df['replier_date']]).reset_index(drop=True)\n",
    "    name = pd.concat([relevant_df['sender'], relevant_df['replier']]).reset_index(drop=True)\n",
    "    \n",
    "    thread_df = pd.DataFrame({'message': messages,'date': dates,'name':name})\n",
    "    thread_df = thread_df.sort_values(by='date',ascending=False)\n",
    "    \n",
    "    ordered_names = list(thread_df.name)\n",
    "    ordered_messages = list(thread_df.message)\n",
    "    \n",
    "    thread_string = ''\n",
    "    for i in range(num_relevant):\n",
    "        thread_string = thread_string + f\"{ordered_names[i]} Email {math.ceil((i+1)/2)}: {ordered_messages[i]} \\n \\n\"\n",
    "        \n",
    "    print(thread_string)\n",
    "    \n",
    "    return thread_string"
   ]
  },
  {
   "cell_type": "code",
   "execution_count": 49,
   "id": "e2678ddb-b3b6-4e3e-a71f-177c4e7b539f",
   "metadata": {},
   "outputs": [],
   "source": [
    "def get_sender_replier_emails(sender,replier,df,num_relevant):\n",
    "    relevant_df = df[(((df.sender==sender) & (df.replier==replier)) | ((df.sender==replier) & (df.replier==sender)))]\n",
    "    \n",
    "    relevant_df['sender_date'] = pd.to_datetime(relevant_df['sender_date'])\n",
    "    relevant_df['replier_date'] = pd.to_datetime(relevant_df['replier_date'])\n",
    "    \n",
    "    messages = pd.concat([relevant_df['message'], relevant_df['reply_message']]).reset_index(drop=True)\n",
    "    dates = pd.concat([relevant_df['sender_date'], relevant_df['replier_date']]).reset_index(drop=True)\n",
    "    name = pd.concat([relevant_df['sender'], relevant_df['replier']]).reset_index(drop=True)\n",
    "    \n",
    "    relationship_df = pd.DataFrame({'message': messages,'date': dates,'name':name})\n",
    "    relationship_df = relationship_df.sort_values(by='date',ascending=False)\n",
    "    \n",
    "    relationship_df = relationship_df[relationship_df.name==replier]\n",
    "    \n",
    "    ordered_names = list(relationship_df.name)\n",
    "    ordered_messages = list(relationship_df.message)\n",
    "    \n",
    "    thread_string = ''\n",
    "    for i in range(num_relevant):\n",
    "        thread_string = thread_string + f\"{ordered_names[i]} Email {math.ceil((i+1)/2)}: {ordered_messages[i]} \\n \\n\"\n",
    "        \n",
    "    print(thread_string)\n",
    "    \n",
    "    return thread_string"
   ]
  },
  {
   "cell_type": "code",
   "execution_count": 50,
   "id": "b4ccfb8a-86fd-454b-b8ad-4e3e3f632d7e",
   "metadata": {},
   "outputs": [
    {
     "name": "stdout",
     "output_type": "stream",
     "text": [
      "Radhika Email 1: Hey Scott,\n",
      "\n",
      "I had a very relaxed day after a long night. I am currently working on school work and planning to go the gym after. Do you want to come?\n",
      "\n",
      "Radhika \n",
      " \n",
      "Scott Email 1: Bro, badminton is boring, what are you talking about. Anyways, Im really tired. I been writing a bunch of emails. What about u? \n",
      " \n",
      "Radhika Email 2: Hey Scott,\n",
      "\n",
      "I don't think so - badminton is a far dignifies sport for sports betting. But I can check and let you know. What's been up today?\n",
      "\n",
      "Best,\n",
      "Radhika \n",
      " \n",
      "Scott Email 2: I like baseball too. Can you do sports betting on badminton? \n",
      " \n",
      "Radhika Email 3: Scott,\n",
      "\n",
      "That sounds great! You do owe me a drink for all the nice things I do for you as your friend. I do like badminton and cricket. What are the other sports you like?\n",
      "\n",
      "Radhika \n",
      " \n",
      "Scott Email 3: Ill teach u about basketball dont worry, ill get u a beer if you dont want a hot dog. Do you like any sports? \n",
      " \n",
      "\n"
     ]
    },
    {
     "name": "stderr",
     "output_type": "stream",
     "text": [
      "/var/tmp/ipykernel_8707/3392876892.py:8: SettingWithCopyWarning: \n",
      "A value is trying to be set on a copy of a slice from a DataFrame.\n",
      "Try using .loc[row_indexer,col_indexer] = value instead\n",
      "\n",
      "See the caveats in the documentation: https://pandas.pydata.org/pandas-docs/stable/user_guide/indexing.html#returning-a-view-versus-a-copy\n",
      "  relevant_df['sender_date'] = pd.to_datetime(relevant_df['sender_date'])\n",
      "/var/tmp/ipykernel_8707/3392876892.py:9: SettingWithCopyWarning: \n",
      "A value is trying to be set on a copy of a slice from a DataFrame.\n",
      "Try using .loc[row_indexer,col_indexer] = value instead\n",
      "\n",
      "See the caveats in the documentation: https://pandas.pydata.org/pandas-docs/stable/user_guide/indexing.html#returning-a-view-versus-a-copy\n",
      "  relevant_df['replier_date'] = pd.to_datetime(relevant_df['replier_date'])\n"
     ]
    },
    {
     "data": {
      "text/plain": [
       "\"Radhika Email 1: Hey Scott,\\n\\nI had a very relaxed day after a long night. I am currently working on school work and planning to go the gym after. Do you want to come?\\n\\nRadhika \\n \\nScott Email 1: Bro, badminton is boring, what are you talking about. Anyways, Im really tired. I been writing a bunch of emails. What about u? \\n \\nRadhika Email 2: Hey Scott,\\n\\nI don't think so - badminton is a far dignifies sport for sports betting. But I can check and let you know. What's been up today?\\n\\nBest,\\nRadhika \\n \\nScott Email 2: I like baseball too. Can you do sports betting on badminton? \\n \\nRadhika Email 3: Scott,\\n\\nThat sounds great! You do owe me a drink for all the nice things I do for you as your friend. I do like badminton and cricket. What are the other sports you like?\\n\\nRadhika \\n \\nScott Email 3: Ill teach u about basketball dont worry, ill get u a beer if you dont want a hot dog. Do you like any sports? \\n \\n\""
      ]
     },
     "execution_count": 50,
     "metadata": {},
     "output_type": "execute_result"
    }
   ],
   "source": [
    "get_threads('Scott','Radhika','Basketball Game',data,6)"
   ]
  },
  {
   "cell_type": "code",
   "execution_count": 51,
   "id": "0d9a7843-300b-49a8-8b8b-c3104def0ab8",
   "metadata": {},
   "outputs": [
    {
     "name": "stdout",
     "output_type": "stream",
     "text": [
      "Radhika Email 1: Hey Scott,\n",
      "\n",
      "I had a very relaxed day after a long night. I am currently working on school work and planning to go the gym after. Do you want to come?\n",
      "\n",
      "Radhika \n",
      " \n",
      "Radhika Email 1: Hey Scott,\n",
      "\n",
      "I don't think so - badminton is a far dignifies sport for sports betting. But I can check and let you know. What's been up today?\n",
      "\n",
      "Best,\n",
      "Radhika \n",
      " \n",
      "Radhika Email 2: Scott,\n",
      "\n",
      "That sounds great! You do owe me a drink for all the nice things I do for you as your friend. I do like badminton and cricket. What are the other sports you like?\n",
      "\n",
      "Radhika \n",
      " \n",
      "Radhika Email 2: Hello Scott,\n",
      "\n",
      "I should be free to go at 9pm that night. I do have a meeting at 7am the next morning so we should try making it back in time. I hope that works for you. Let me know!\n",
      "\n",
      "Thanks,\n",
      "Radhika \n",
      " \n",
      "Radhika Email 3: Hey Scott,\n",
      "\n",
      "As you already know, I am a vegetarian and would prefer having a sandwich/ salad for dinner that night. What time does the game begin?\n",
      "\n",
      "Thanks,\n",
      "Radhika \n",
      " \n",
      "Radhika Email 3: Hey Scott,\n",
      "\n",
      "I appreciate the invite a lot. But I don't enjoy bball. Can we go watch orchestra/ a broadway show instead?\n",
      "\n",
      "Radhika \n",
      " \n",
      "\n"
     ]
    },
    {
     "name": "stderr",
     "output_type": "stream",
     "text": [
      "/var/tmp/ipykernel_8707/955189881.py:4: SettingWithCopyWarning: \n",
      "A value is trying to be set on a copy of a slice from a DataFrame.\n",
      "Try using .loc[row_indexer,col_indexer] = value instead\n",
      "\n",
      "See the caveats in the documentation: https://pandas.pydata.org/pandas-docs/stable/user_guide/indexing.html#returning-a-view-versus-a-copy\n",
      "  relevant_df['sender_date'] = pd.to_datetime(relevant_df['sender_date'])\n",
      "/var/tmp/ipykernel_8707/955189881.py:5: SettingWithCopyWarning: \n",
      "A value is trying to be set on a copy of a slice from a DataFrame.\n",
      "Try using .loc[row_indexer,col_indexer] = value instead\n",
      "\n",
      "See the caveats in the documentation: https://pandas.pydata.org/pandas-docs/stable/user_guide/indexing.html#returning-a-view-versus-a-copy\n",
      "  relevant_df['replier_date'] = pd.to_datetime(relevant_df['replier_date'])\n"
     ]
    },
    {
     "data": {
      "text/plain": [
       "\"Radhika Email 1: Hey Scott,\\n\\nI had a very relaxed day after a long night. I am currently working on school work and planning to go the gym after. Do you want to come?\\n\\nRadhika \\n \\nRadhika Email 1: Hey Scott,\\n\\nI don't think so - badminton is a far dignifies sport for sports betting. But I can check and let you know. What's been up today?\\n\\nBest,\\nRadhika \\n \\nRadhika Email 2: Scott,\\n\\nThat sounds great! You do owe me a drink for all the nice things I do for you as your friend. I do like badminton and cricket. What are the other sports you like?\\n\\nRadhika \\n \\nRadhika Email 2: Hello Scott,\\n\\nI should be free to go at 9pm that night. I do have a meeting at 7am the next morning so we should try making it back in time. I hope that works for you. Let me know!\\n\\nThanks,\\nRadhika \\n \\nRadhika Email 3: Hey Scott,\\n\\nAs you already know, I am a vegetarian and would prefer having a sandwich/ salad for dinner that night. What time does the game begin?\\n\\nThanks,\\nRadhika \\n \\nRadhika Email 3: Hey Scott,\\n\\nI appreciate the invite a lot. But I don't enjoy bball. Can we go watch orchestra/ a broadway show instead?\\n\\nRadhika \\n \\n\""
      ]
     },
     "execution_count": 51,
     "metadata": {},
     "output_type": "execute_result"
    }
   ],
   "source": [
    "get_sender_replier_emails('Scott','Radhika',data,6)"
   ]
  },
  {
   "cell_type": "code",
   "execution_count": null,
   "id": "1dc5764f-6b8a-41a2-9ff4-92c4bbaf1c5e",
   "metadata": {},
   "outputs": [],
   "source": []
  },
  {
   "cell_type": "code",
   "execution_count": null,
   "id": "369a2abc-2549-4eba-aa2f-5370ef1dd263",
   "metadata": {},
   "outputs": [],
   "source": []
  },
  {
   "cell_type": "code",
   "execution_count": null,
   "id": "4383aedf-290a-44df-af03-a3195b228241",
   "metadata": {},
   "outputs": [],
   "source": []
  }
 ],
 "metadata": {
  "environment": {
   "kernel": "python3",
   "name": "tf2-cpu.2-11.m112",
   "type": "gcloud",
   "uri": "gcr.io/deeplearning-platform-release/tf2-cpu.2-11:m112"
  },
  "kernelspec": {
   "display_name": "Python 3",
   "language": "python",
   "name": "python3"
  },
  "language_info": {
   "codemirror_mode": {
    "name": "ipython",
    "version": 3
   },
   "file_extension": ".py",
   "mimetype": "text/x-python",
   "name": "python",
   "nbconvert_exporter": "python",
   "pygments_lexer": "ipython3",
   "version": "3.10.12"
  }
 },
 "nbformat": 4,
 "nbformat_minor": 5
}
